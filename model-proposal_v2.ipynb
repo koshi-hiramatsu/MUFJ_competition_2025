{
 "cells": [
  {
   "cell_type": "code",
   "execution_count": 162,
   "id": "cb6d2f22",
   "metadata": {},
   "outputs": [],
   "source": [
    "# === CONFIG: seeds / shortcuts / paths / submit-th override ===\n",
    "\n",
    "\n",
    "\n",
    "SEED = 42\n",
    "\n",
    "# === 時短フラグ ===\n",
    "FAST_TUNE = True\n",
    "TUNE_FRAC = 0.60\n",
    "N_SPLITS_TUNE = 3\n",
    "\n",
    "# === イテレーション/試行数 ===\n",
    "EARLY_STOP_TUNE = 100\n",
    "EARLY_STOP_FULL = 200\n",
    "N_TRIALS_TUNE = 20\n",
    "N_TRIALS_REFINE = 10\n",
    "\n",
    "OPTUNA_TIMEOUT_SEC = 1800\n",
    "\n",
    "DATA_DIR = r\"G:\\マイドライブ\\MUFJ_competition_2025\\data\"\n",
    "OUT_DIR  = r\"C:\\Users\\koshihiramatsu\\projects\\MUFJ_competition_2025\\model-proposal_A_v2\"\n",
    "\n",
    "# しきい値の固定（Noneで自動に戻す）\n",
    "SUBMIT_THRESHOLD_OVERRIDE = 0.315\n"
   ]
  },
  {
   "cell_type": "code",
   "execution_count": 164,
   "id": "7de99b7e",
   "metadata": {},
   "outputs": [],
   "source": [
    "# === IMPORTS: stdlib / numpy-pandas / sklearn / catboost / optuna ===\n",
    "\n",
    "\n",
    "import os, re, json, math, warnings, itertools, textwrap\n",
    "warnings.filterwarnings(\"ignore\")\n",
    "\n",
    "import numpy as np\n",
    "import pandas as pd\n",
    "\n",
    "from sklearn.model_selection import StratifiedKFold\n",
    "from sklearn.metrics import f1_score, classification_report, confusion_matrix\n",
    "from sklearn.utils import check_random_state\n",
    "\n",
    "from catboost import CatBoostClassifier, Pool\n",
    "import optuna\n"
   ]
  },
  {
   "cell_type": "code",
   "execution_count": 165,
   "id": "6394d3c9",
   "metadata": {},
   "outputs": [],
   "source": [
    "# === UTILS: column detection / submit-sep / versioning ===\n",
    "\n",
    "\n",
    "from typing import Optional, Tuple, List\n",
    "\n",
    "def detect_submit_sep(sample_submit_path: str) -> str:\n",
    "    # カンマ/タブ/空白の順で試す。列数=2なら採用。\n",
    "    for sep in [\",\", \"\\t\", r\"\\s+\"]:\n",
    "        try:\n",
    "            df = pd.read_csv(sample_submit_path, header=None, sep=sep, engine=\"python\")\n",
    "            if df.shape[1] == 2:\n",
    "                return sep\n",
    "        except Exception:\n",
    "            pass\n",
    "    # デフォルト: カンマ\n",
    "    return \",\"\n",
    "\n",
    "def is_binary(col: pd.Series) -> bool:\n",
    "    vals = pd.unique(col.dropna())\n",
    "    return set(vals).issubset({0,1})\n",
    "\n",
    "def detect_columns(train: pd.DataFrame, test: pd.DataFrame) -> Tuple[str, str]:\n",
    "    # 目的変数: train にのみ存在し、かつ {0,1} のどれか\n",
    "    only_in_train = [c for c in train.columns if c not in test.columns]\n",
    "    candid_tgt = [c for c in only_in_train if is_binary(train[c])]\n",
    "    if len(candid_tgt) == 1:\n",
    "        target_col = candid_tgt[0]\n",
    "    else:\n",
    "        # フォールバック: 名前に label/target/default が入っていて2値\n",
    "        name_hits = [c for c in train.columns if any(k in c.lower() for k in [\"label\", \"target\", \"default\", \"loanstatus\"])]\n",
    "        name_hits = [c for c in name_hits if c in train.columns and is_binary(train[c])]\n",
    "        if len(name_hits) >= 1:\n",
    "            target_col = name_hits[0]\n",
    "        else:\n",
    "            raise ValueError(\"目的変数を自動検出できない。TARGET_COL を手動指定して。\")\n",
    "\n",
    "    # ID列: train&test 共通 かつ 一意/整数っぽい/名前に id を含む を優先\n",
    "    common = [c for c in test.columns if c in train.columns]\n",
    "    # 1) 名前に 'id'\n",
    "    id_like = [c for c in common if 'id' in c.lower()]\n",
    "    def unique_int_like(df, c):\n",
    "        s = df[c]\n",
    "        nunique = s.nunique(dropna=True)\n",
    "        return (nunique == len(s)) and (np.issubdtype(s.dropna().dtype, np.integer) or np.issubdtype(s.dropna().dtype, np.number))\n",
    "    for c in id_like + common:\n",
    "        if unique_int_like(test, c):\n",
    "            id_col = c\n",
    "            break\n",
    "    else:\n",
    "        # だめなら test の最左列\n",
    "        id_col = test.columns[0]\n",
    "\n",
    "    return target_col, id_col\n",
    "\n",
    "def next_version_number(out_dir: str) -> int:\n",
    "    os.makedirs(out_dir, exist_ok=True)\n",
    "    pattern = re.compile(r\"submission_A_v(\\d+)\\.csv$\")\n",
    "    ns = []\n",
    "    for f in os.listdir(out_dir):\n",
    "        m = pattern.match(f)\n",
    "        if m:\n",
    "            ns.append(int(m.group(1)))\n",
    "    return (max(ns) + 1) if ns else 1\n"
   ]
  },
  {
   "cell_type": "code",
   "execution_count": 166,
   "id": "6b1249a6",
   "metadata": {},
   "outputs": [
    {
     "name": "stdout",
     "output_type": "stream",
     "text": [
      "TARGET_COL: LoanStatus\n",
      "ID_COL: id\n",
      "train shape: (7552, 16) test shape: (7552, 15)\n",
      "target dist: {0: 0.8723516949152542, 1: 0.12764830508474576}\n"
     ]
    }
   ],
   "source": [
    "# === LOAD DATA & DETECT COLUMNS ===\n",
    "\n",
    "\n",
    "train_path = os.path.join(DATA_DIR, \"train.csv\")\n",
    "test_path  = os.path.join(DATA_DIR, \"test.csv\")\n",
    "sample_path= os.path.join(DATA_DIR, \"sample_submit.csv\")\n",
    "\n",
    "train = pd.read_csv(train_path)\n",
    "test  = pd.read_csv(test_path)\n",
    "\n",
    "SUBMIT_SEP = detect_submit_sep(sample_path)\n",
    "\n",
    "TARGET_COL, ID_COL = detect_columns(train, test)\n",
    "\n",
    "print(\"TARGET_COL:\", TARGET_COL)\n",
    "print(\"ID_COL:\", ID_COL)\n",
    "print(\"train shape:\", train.shape, \"test shape:\", test.shape)\n",
    "print(\"target dist:\", train[TARGET_COL].value_counts(normalize=True).to_dict())\n",
    "\n",
    "# 目的変数・ID の存在確認\n",
    "assert TARGET_COL in train.columns\n",
    "assert ID_COL in test.columns and ID_COL in train.columns\n"
   ]
  },
  {
   "cell_type": "code",
   "execution_count": 167,
   "id": "909a1fbe",
   "metadata": {},
   "outputs": [
    {
     "name": "stdout",
     "output_type": "stream",
     "text": [
      "n_features: 15 | n_categoricals: 6\n"
     ]
    }
   ],
   "source": [
    "# === PREP: features / categorical handling / build X_train,X_test / cat_features_idx ===\n",
    "\n",
    "\n",
    "# 説明変数\n",
    "features = [c for c in train.columns if c not in [TARGET_COL]]\n",
    "# CatBoostはカテゴリ・数値を混在でそのまま扱えるが、objectは文字列化して欠損は 'MISSING' に寄せる\n",
    "cat_cols = [c for c in features if train[c].dtype == 'object' or pd.api.types.is_categorical_dtype(train[c])]\n",
    "\n",
    "def prep_df(df: pd.DataFrame) -> pd.DataFrame:\n",
    "    out = df.copy()\n",
    "    for c in cat_cols:\n",
    "        out[c] = out[c].astype(str).fillna(\"MISSING\")\n",
    "    return out\n",
    "\n",
    "X_train = prep_df(train[features])\n",
    "y_train = train[TARGET_COL].astype(int).values\n",
    "X_test  = prep_df(test[features])\n",
    "\n",
    "cat_features_idx = [X_train.columns.get_loc(c) for c in cat_cols]\n",
    "\n",
    "print(\"n_features:\", len(features), \"| n_categoricals:\", len(cat_cols))\n"
   ]
  },
  {
   "cell_type": "code",
   "execution_count": 168,
   "id": "8bd9aa85",
   "metadata": {},
   "outputs": [
    {
     "name": "stdout",
     "output_type": "stream",
     "text": [
      "cat_features_idx length: 6\n"
     ]
    }
   ],
   "source": [
    "# === SANITY CHECK: categorical columns & cat_features_idx ===\n",
    "\n",
    "\n",
    "# 安全確認（任意）\n",
    "assert all(c in X_train.columns for c in cat_cols)\n",
    "assert all(not c.startswith(\"TE_\") for c in cat_cols)  # TE列は数値→カテゴリ指定に入れない\n",
    "print(\"cat_features_idx length:\", len(cat_features_idx))\n"
   ]
  },
  {
   "cell_type": "code",
   "execution_count": 169,
   "id": "0e7b3423",
   "metadata": {},
   "outputs": [],
   "source": [
    "# === KFOLDS: skf_full(5fold) / skf_tune(N_SPLITS_TUNE) ===\n",
    "\n",
    "skf_full = StratifiedKFold(n_splits=5, shuffle=True, random_state=SEED)\n",
    "skf_tune = StratifiedKFold(n_splits=N_SPLITS_TUNE, shuffle=True, random_state=SEED)\n"
   ]
  },
  {
   "cell_type": "code",
   "execution_count": 170,
   "id": "bc8aaf74",
   "metadata": {},
   "outputs": [
    {
     "name": "stdout",
     "output_type": "stream",
     "text": [
      "TUNE SUBSET: 4531 rows (60%)\n"
     ]
    }
   ],
   "source": [
    "# === TUNE SUBSET (stratified sampling when FAST_TUNE) ===\n",
    "\n",
    "\n",
    "# クラス比を保ってサブセットを作る（FAST_TUNE時のみ）\n",
    "if FAST_TUNE:\n",
    "    # 層化抽出\n",
    "    from sklearn.model_selection import train_test_split\n",
    "    idx_all = np.arange(len(X_train))\n",
    "    idx_tune, _ = train_test_split(\n",
    "        idx_all, train_size=TUNE_FRAC, stratify=y_train, random_state=SEED\n",
    "    )\n",
    "    X_tune = X_train.iloc[idx_tune].reset_index(drop=True)\n",
    "    y_tune = y_train[idx_tune]\n",
    "    print(f\"TUNE SUBSET: {len(X_tune)} rows ({TUNE_FRAC*100:.0f}%)\")\n",
    "else:\n",
    "    X_tune, y_tune = X_train, y_train\n"
   ]
  },
  {
   "cell_type": "code",
   "execution_count": 171,
   "id": "36eea9f7",
   "metadata": {},
   "outputs": [],
   "source": [
    "# === BUILD POOLS: pools_tune / pools_full / test_pool ===\n",
    "\n",
    "\n",
    "# 再利用できるよう、foldごとにPoolを前計算しておく（作成コストと前処理のばらつきを削減）\n",
    "def build_pools(X, y, skf, cat_idx):\n",
    "    pools = []\n",
    "    for tr_idx, va_idx in skf.split(X, y):\n",
    "        X_tr, X_va = X.iloc[tr_idx], X.iloc[va_idx]\n",
    "        y_tr, y_va = y[tr_idx], y[va_idx]\n",
    "        pools.append((\n",
    "            Pool(X_tr, y_tr, cat_features=cat_idx),\n",
    "            Pool(X_va, y_va, cat_features=cat_idx),\n",
    "            va_idx\n",
    "        ))\n",
    "    return pools\n",
    "\n",
    "pools_tune = build_pools(X_tune, y_tune, skf_tune, cat_features_idx)\n",
    "pools_full = build_pools(X_train, y_train, skf_full, cat_features_idx)\n"
   ]
  },
  {
   "cell_type": "code",
   "execution_count": null,
   "id": "90a3fd66",
   "metadata": {},
   "outputs": [],
   "source": [
    "# === OPTUNA OBJECTIVE: eval_oof_f1 / make_objective (CB quick) ===\n",
    "\n",
    "\n",
    "def eval_oof_f1(probs, y_true):\n",
    "    thresholds = np.linspace(0.05, 0.95, 181)\n",
    "    f1s = [f1_score(y_true, (probs >= t).astype(int)) for t in thresholds]\n",
    "    j = int(np.argmax(f1s))\n",
    "    return f1s[j], float(thresholds[j])\n",
    "\n",
    "def make_objective(pools, y_all, early_stop, iterations):\n",
    "    def objective(trial):\n",
    "        # 探索空間をやや狭くして収束を早める\n",
    "        params = {\n",
    "            \"iterations\": iterations,\n",
    "            \"learning_rate\": trial.suggest_float(\"learning_rate\", 0.03, 0.15, log=True),\n",
    "            \"depth\": trial.suggest_int(\"depth\", 4, 8),\n",
    "            \"l2_leaf_reg\": trial.suggest_float(\"l2_leaf_reg\", 1e-2, 1e1, log=True),\n",
    "            \"bagging_temperature\": trial.suggest_float(\"bagging_temperature\", 0.0, 5.0),\n",
    "            \"random_strength\": trial.suggest_float(\"random_strength\", 0.0, 2.0),\n",
    "            \"subsample\": trial.suggest_float(\"subsample\", 0.7, 1.0),\n",
    "            \"scale_pos_weight\": trial.suggest_float(\"scale_pos_weight\", 0.7, 3.0),\n",
    "            \"loss_function\": \"Logloss\",\n",
    "            \"eval_metric\": \"Logloss\",\n",
    "            \"random_seed\": SEED,\n",
    "            \"verbose\": False,\n",
    "            \"thread_count\": -1,\n",
    "            \"use_best_model\": True,\n",
    "            \"allow_writing_files\": False,\n",
    "            # GPUが使えるなら次行を有効化（失敗したらコメントアウト）\n",
    "            # \"task_type\": \"GPU\", \"devices\": \"0\",\n",
    "        }\n",
    "\n",
    "        oof = np.zeros(len(y_all), dtype=float)\n",
    "        for train_pool, valid_pool, va_idx in pools:\n",
    "            model = CatBoostClassifier(**params)\n",
    "            model.fit(train_pool, eval_set=valid_pool, early_stopping_rounds=early_stop)\n",
    "            oof[va_idx] = model.predict_proba(valid_pool)[:, 1]\n",
    "\n",
    "        f1, th = eval_oof_f1(oof[oof > 0], y_all[oof > 0])  # チューニングsubsetのOOF部分のみで算出\n",
    "        trial.set_user_attr(\"best_threshold\", th)\n",
    "        return f1\n",
    "    return objective\n"
   ]
  },
  {
   "cell_type": "code",
   "execution_count": null,
   "id": "41a73e68",
   "metadata": {},
   "outputs": [
    {
     "name": "stderr",
     "output_type": "stream",
     "text": [
      "[I 2025-08-10 14:58:29,482] A new study created in memory with name: no-name-cca92d46-4424-47ab-ba80-b9b2f27f4808\n",
      "Best trial: 0. Best value: 0.591433:   5%|▌         | 1/20 [00:31<10:05, 31.85s/it, 31.85/1800 seconds]"
     ]
    },
    {
     "name": "stdout",
     "output_type": "stream",
     "text": [
      "[I 2025-08-10 14:59:01,331] Trial 0 finished with value: 0.5914332784184514 and parameters: {'learning_rate': 0.054816785328198704, 'depth': 8, 'l2_leaf_reg': 1.5702970884055387, 'bagging_temperature': 2.993292420985183, 'random_strength': 0.31203728088487304, 'subsample': 0.7467983561008608, 'scale_pos_weight': 0.8335923079868587}. Best is trial 0 with value: 0.5914332784184514.\n"
     ]
    },
    {
     "name": "stderr",
     "output_type": "stream",
     "text": [
      "Best trial: 1. Best value: 0.611848:  10%|█         | 2/20 [00:53<07:46, 25.93s/it, 53.64/1800 seconds]"
     ]
    },
    {
     "name": "stdout",
     "output_type": "stream",
     "text": [
      "[I 2025-08-10 14:59:23,123] Trial 1 finished with value: 0.6118479221927497 and parameters: {'learning_rate': 0.12093510864110771, 'depth': 7, 'l2_leaf_reg': 1.3311216080736887, 'bagging_temperature': 0.10292247147901223, 'random_strength': 1.9398197043239886, 'subsample': 0.9497327922401265, 'scale_pos_weight': 1.188379954560035}. Best is trial 1 with value: 0.6118479221927497.\n"
     ]
    },
    {
     "name": "stderr",
     "output_type": "stream",
     "text": [
      "Best trial: 1. Best value: 0.611848:  15%|█▌        | 3/20 [01:20<07:31, 26.54s/it, 80.91/1800 seconds]"
     ]
    },
    {
     "name": "stdout",
     "output_type": "stream",
     "text": [
      "[I 2025-08-10 14:59:50,389] Trial 2 finished with value: 0.6038910505836576 and parameters: {'learning_rate': 0.040198648566549054, 'depth': 4, 'l2_leaf_reg': 0.08179499475211674, 'bagging_temperature': 2.6237821581611893, 'random_strength': 0.8638900372842315, 'subsample': 0.7873687420594125, 'scale_pos_weight': 2.1072616578614727}. Best is trial 1 with value: 0.6118479221927497.\n"
     ]
    },
    {
     "name": "stderr",
     "output_type": "stream",
     "text": [
      "Best trial: 1. Best value: 0.611848:  20%|██        | 4/20 [01:53<07:43, 28.99s/it, 113.66/1800 seconds]"
     ]
    },
    {
     "name": "stdout",
     "output_type": "stream",
     "text": [
      "[I 2025-08-10 15:00:23,143] Trial 3 finished with value: 0.605833956619297 and parameters: {'learning_rate': 0.03755115322842063, 'depth': 5, 'l2_leaf_reg': 0.1256277350380703, 'bagging_temperature': 2.28034992108518, 'random_strength': 1.5703519227860272, 'subsample': 0.7599021346475079, 'scale_pos_weight': 1.8827392083513066}. Best is trial 1 with value: 0.6118479221927497.\n"
     ]
    },
    {
     "name": "stderr",
     "output_type": "stream",
     "text": [
      "Best trial: 1. Best value: 0.611848:  25%|██▌       | 5/20 [02:07<05:53, 23.57s/it, 127.61/1800 seconds]"
     ]
    },
    {
     "name": "stdout",
     "output_type": "stream",
     "text": [
      "[I 2025-08-10 15:00:37,090] Trial 4 finished with value: 0.6080691642651297 and parameters: {'learning_rate': 0.07783972061633886, 'depth': 4, 'l2_leaf_reg': 0.6647135865318028, 'bagging_temperature': 0.8526206184364576, 'random_strength': 0.13010318597055903, 'subsample': 0.984665661176, 'scale_pos_weight': 2.9209536760714867}. Best is trial 1 with value: 0.6118479221927497.\n"
     ]
    },
    {
     "name": "stderr",
     "output_type": "stream",
     "text": [
      "Best trial: 1. Best value: 0.611848:  30%|███       | 6/20 [02:19<04:36, 19.72s/it, 139.86/1800 seconds]"
     ]
    },
    {
     "name": "stdout",
     "output_type": "stream",
     "text": [
      "[I 2025-08-10 15:00:49,340] Trial 5 finished with value: 0.5984375 and parameters: {'learning_rate': 0.1101962340138614, 'depth': 5, 'l2_leaf_reg': 0.019634341572933336, 'bagging_temperature': 3.4211651325607844, 'random_strength': 0.8803049874792026, 'subsample': 0.7366114704534336, 'scale_pos_weight': 1.8389068932559214}. Best is trial 1 with value: 0.6118479221927497.\n"
     ]
    },
    {
     "name": "stderr",
     "output_type": "stream",
     "text": [
      "Best trial: 1. Best value: 0.611848:  35%|███▌      | 7/20 [02:42<04:28, 20.64s/it, 162.38/1800 seconds]"
     ]
    },
    {
     "name": "stdout",
     "output_type": "stream",
     "text": [
      "[I 2025-08-10 15:01:11,866] Trial 6 finished with value: 0.5945165945165946 and parameters: {'learning_rate': 0.031707193242141093, 'depth': 8, 'l2_leaf_reg': 0.059750279999602945, 'bagging_temperature': 3.31261142176991, 'random_strength': 0.6234221521788219, 'subsample': 0.8560204063533432, 'scale_pos_weight': 1.957433642489543}. Best is trial 1 with value: 0.6118479221927497.\n"
     ]
    },
    {
     "name": "stderr",
     "output_type": "stream",
     "text": [
      "Best trial: 1. Best value: 0.611848:  40%|████      | 8/20 [03:21<05:19, 26.59s/it, 201.71/1800 seconds]"
     ]
    },
    {
     "name": "stdout",
     "output_type": "stream",
     "text": [
      "[I 2025-08-10 15:01:51,196] Trial 7 finished with value: 0.6022641509433962 and parameters: {'learning_rate': 0.04039512666823938, 'depth': 8, 'l2_leaf_reg': 2.1154290797261215, 'bagging_temperature': 4.697494707820946, 'random_strength': 1.7896547008552977, 'subsample': 0.8793699936433255, 'scale_pos_weight': 2.820310740553168}. Best is trial 1 with value: 0.6118479221927497.\n"
     ]
    },
    {
     "name": "stderr",
     "output_type": "stream",
     "text": [
      "Best trial: 1. Best value: 0.611848:  45%|████▌     | 9/20 [03:39<04:20, 23.72s/it, 219.14/1800 seconds]"
     ]
    },
    {
     "name": "stdout",
     "output_type": "stream",
     "text": [
      "[I 2025-08-10 15:02:08,620] Trial 8 finished with value: 0.5969275786393563 and parameters: {'learning_rate': 0.1405200625953881, 'depth': 6, 'l2_leaf_reg': 5.095071061056762, 'bagging_temperature': 0.26696131796423683, 'random_strength': 1.549124519811738, 'subsample': 0.8594249939696944, 'scale_pos_weight': 1.246329998629404}. Best is trial 1 with value: 0.6118479221927497.\n"
     ]
    },
    {
     "name": "stderr",
     "output_type": "stream",
     "text": [
      "Best trial: 1. Best value: 0.611848:  50%|█████     | 10/20 [04:02<03:54, 23.48s/it, 242.09/1800 seconds]"
     ]
    },
    {
     "name": "stdout",
     "output_type": "stream",
     "text": [
      "[I 2025-08-10 15:02:31,570] Trial 9 finished with value: 0.6068965517241379 and parameters: {'learning_rate': 0.11734022068569182, 'depth': 8, 'l2_leaf_reg': 5.1729540340743325, 'bagging_temperature': 1.3735538453643197, 'random_strength': 1.438297245481995, 'subsample': 0.9714503920763212, 'scale_pos_weight': 1.686738972090934}. Best is trial 1 with value: 0.6118479221927497.\n"
     ]
    },
    {
     "name": "stderr",
     "output_type": "stream",
     "text": [
      "Best trial: 1. Best value: 0.611848:  55%|█████▌    | 11/20 [04:22<03:23, 22.59s/it, 262.66/1800 seconds]"
     ]
    },
    {
     "name": "stdout",
     "output_type": "stream",
     "text": [
      "[I 2025-08-10 15:02:52,137] Trial 10 finished with value: 0.5849189570119803 and parameters: {'learning_rate': 0.11449573866978238, 'depth': 6, 'l2_leaf_reg': 0.04863208345581101, 'bagging_temperature': 0.7853497842533179, 'random_strength': 1.8553822991238997, 'subsample': 0.8909556519845516, 'scale_pos_weight': 1.4658602071694027}. Best is trial 1 with value: 0.6118479221927497.\n"
     ]
    },
    {
     "name": "stderr",
     "output_type": "stream",
     "text": [
      "Best trial: 11. Best value: 0.616333:  60%|██████    | 12/20 [04:49<03:10, 23.77s/it, 289.14/1800 seconds]"
     ]
    },
    {
     "name": "stdout",
     "output_type": "stream",
     "text": [
      "[I 2025-08-10 15:03:18,616] Trial 11 finished with value: 0.6163328197226502 and parameters: {'learning_rate': 0.047940254989892885, 'depth': 4, 'l2_leaf_reg': 0.8469509872099742, 'bagging_temperature': 0.33124353469809986, 'random_strength': 0.41895376324721256, 'subsample': 0.9896831195949556, 'scale_pos_weight': 2.6498824785986583}. Best is trial 11 with value: 0.6163328197226502.\n"
     ]
    },
    {
     "name": "stderr",
     "output_type": "stream",
     "text": [
      "Best trial: 11. Best value: 0.616333:  65%|██████▌   | 13/20 [05:16<02:53, 24.82s/it, 316.37/1800 seconds]"
     ]
    },
    {
     "name": "stdout",
     "output_type": "stream",
     "text": [
      "[I 2025-08-10 15:03:45,851] Trial 12 finished with value: 0.6074766355140186 and parameters: {'learning_rate': 0.039555204952676566, 'depth': 4, 'l2_leaf_reg': 0.17457152885399302, 'bagging_temperature': 2.4494337488959634, 'random_strength': 0.6339656121983112, 'subsample': 0.9645791201416001, 'scale_pos_weight': 2.4965312247595093}. Best is trial 11 with value: 0.6163328197226502.\n"
     ]
    },
    {
     "name": "stderr",
     "output_type": "stream",
     "text": [
      "Best trial: 11. Best value: 0.616333:  70%|███████   | 14/20 [05:52<02:50, 28.34s/it, 352.83/1800 seconds]"
     ]
    },
    {
     "name": "stdout",
     "output_type": "stream",
     "text": [
      "[I 2025-08-10 15:04:22,313] Trial 13 finished with value: 0.6070878274268104 and parameters: {'learning_rate': 0.03207080982450353, 'depth': 6, 'l2_leaf_reg': 3.7201370765695967, 'bagging_temperature': 0.35443417875650557, 'random_strength': 0.26230591077722676, 'subsample': 0.9113573205044627, 'scale_pos_weight': 2.8678346005919453}. Best is trial 11 with value: 0.6163328197226502.\n"
     ]
    },
    {
     "name": "stderr",
     "output_type": "stream",
     "text": [
      "Best trial: 11. Best value: 0.616333:  75%|███████▌  | 15/20 [06:26<02:29, 29.82s/it, 386.07/1800 seconds]"
     ]
    },
    {
     "name": "stdout",
     "output_type": "stream",
     "text": [
      "[I 2025-08-10 15:04:55,557] Trial 14 finished with value: 0.6050129645635264 and parameters: {'learning_rate': 0.04624264979307338, 'depth': 5, 'l2_leaf_reg': 4.594445376407278, 'bagging_temperature': 0.589516842634676, 'random_strength': 0.8940804297855756, 'subsample': 0.87191472925697, 'scale_pos_weight': 1.3893551953095746}. Best is trial 11 with value: 0.6163328197226502.\n"
     ]
    },
    {
     "name": "stderr",
     "output_type": "stream",
     "text": [
      "Best trial: 11. Best value: 0.616333:  80%|████████  | 16/20 [06:49<01:51, 27.93s/it, 409.64/1800 seconds]"
     ]
    },
    {
     "name": "stdout",
     "output_type": "stream",
     "text": [
      "[I 2025-08-10 15:05:19,118] Trial 15 finished with value: 0.6120826709062003 and parameters: {'learning_rate': 0.07611076429158616, 'depth': 6, 'l2_leaf_reg': 1.0564190915518583, 'bagging_temperature': 0.8668908588310074, 'random_strength': 1.8499535502022153, 'subsample': 0.983213595873115, 'scale_pos_weight': 0.8122240972441206}. Best is trial 11 with value: 0.6163328197226502.\n"
     ]
    },
    {
     "name": "stderr",
     "output_type": "stream",
     "text": [
      "Best trial: 11. Best value: 0.616333:  85%|████████▌ | 17/20 [07:07<01:14, 24.94s/it, 427.63/1800 seconds]"
     ]
    },
    {
     "name": "stdout",
     "output_type": "stream",
     "text": [
      "[I 2025-08-10 15:05:37,109] Trial 16 finished with value: 0.6049204052098408 and parameters: {'learning_rate': 0.09658987375968167, 'depth': 4, 'l2_leaf_reg': 0.06957754858123973, 'bagging_temperature': 2.439820083435086, 'random_strength': 1.856421032641976, 'subsample': 0.965971693905709, 'scale_pos_weight': 0.8225022394639633}. Best is trial 11 with value: 0.6163328197226502.\n"
     ]
    },
    {
     "name": "stderr",
     "output_type": "stream",
     "text": [
      "Best trial: 11. Best value: 0.616333:  90%|█████████ | 18/20 [07:28<00:47, 23.64s/it, 448.24/1800 seconds]"
     ]
    },
    {
     "name": "stdout",
     "output_type": "stream",
     "text": [
      "[I 2025-08-10 15:05:57,725] Trial 17 finished with value: 0.6080760095011877 and parameters: {'learning_rate': 0.04826986509482155, 'depth': 4, 'l2_leaf_reg': 1.1940730890525697, 'bagging_temperature': 0.892188275865698, 'random_strength': 0.05852979307125716, 'subsample': 0.9388311774030238, 'scale_pos_weight': 1.8122195117886022}. Best is trial 11 with value: 0.6163328197226502.\n"
     ]
    },
    {
     "name": "stderr",
     "output_type": "stream",
     "text": [
      "Best trial: 11. Best value: 0.616333:  95%|█████████▌| 19/20 [07:56<00:25, 25.10s/it, 476.73/1800 seconds]"
     ]
    },
    {
     "name": "stdout",
     "output_type": "stream",
     "text": [
      "[I 2025-08-10 15:06:26,217] Trial 18 finished with value: 0.602291325695581 and parameters: {'learning_rate': 0.05042332206553957, 'depth': 7, 'l2_leaf_reg': 0.14954784869817256, 'bagging_temperature': 1.4798870805924518, 'random_strength': 1.611553124939411, 'subsample': 0.9981357296646711, 'scale_pos_weight': 1.130447511416614}. Best is trial 11 with value: 0.6163328197226502.\n"
     ]
    },
    {
     "name": "stderr",
     "output_type": "stream",
     "text": [
      "Best trial: 19. Best value: 0.617021: 100%|██████████| 20/20 [08:25<00:00, 25.25s/it, 505.10/1800 seconds]"
     ]
    },
    {
     "name": "stdout",
     "output_type": "stream",
     "text": [
      "[I 2025-08-10 15:06:54,579] Trial 19 finished with value: 0.6170212765957447 and parameters: {'learning_rate': 0.06116108646095842, 'depth': 5, 'l2_leaf_reg': 5.478690083944246, 'bagging_temperature': 0.8884344994647464, 'random_strength': 1.865589408671679, 'subsample': 0.9516049519127788, 'scale_pos_weight': 1.1386783078556455}. Best is trial 19 with value: 0.6170212765957447.\n",
      "FAST TUNE  best_f1: 0.617021 th: 0.345 params: {'learning_rate': 0.06116108646095842, 'depth': 5, 'l2_leaf_reg': 5.478690083944246, 'bagging_temperature': 0.8884344994647464, 'random_strength': 1.865589408671679, 'subsample': 0.9516049519127788, 'scale_pos_weight': 1.1386783078556455}\n"
     ]
    },
    {
     "name": "stderr",
     "output_type": "stream",
     "text": [
      "\n"
     ]
    }
   ],
   "source": [
    "# === 9-optuna-fast: CB quick search (uses pools_tune) ===\n",
    "\n",
    "\n",
    "sampler = optuna.samplers.TPESampler(seed=SEED, n_startup_trials=8, multivariate=True, group=True)\n",
    "pruner  = optuna.pruners.SuccessiveHalvingPruner(min_resource=50, reduction_factor=3, min_early_stopping_rate=0)\n",
    "\n",
    "study = optuna.create_study(direction=\"maximize\", sampler=sampler, pruner=pruner)\n",
    "obj = make_objective(\n",
    "    pools=pools_tune,\n",
    "    y_all=y_tune,\n",
    "    early_stop=EARLY_STOP_TUNE,\n",
    "    iterations=3000,  # チューニング時は小さめ\n",
    ")\n",
    "study.optimize(obj, n_trials=N_TRIALS_TUNE, timeout=OPTUNA_TIMEOUT_SEC, show_progress_bar=True)\n",
    "\n",
    "# 余力があれば絞り込み（top数点の近傍を探索）\n",
    "best_params = study.best_trial.params.copy()\n",
    "best_th = study.best_trial.user_attrs[\"best_threshold\"]\n",
    "best_score = study.best_value\n",
    "print(\"FAST TUNE  best_f1:\", round(best_score, 6), \"th:\", round(best_th, 4), \"params:\", best_params)\n"
   ]
  },
  {
   "cell_type": "code",
   "execution_count": 147,
   "id": "7b28720a",
   "metadata": {},
   "outputs": [
    {
     "name": "stderr",
     "output_type": "stream",
     "text": [
      "[I 2025-08-10 23:48:45,152] A new study created in RDB with name: cb_long_v1\n",
      "  0%|          | 0/300 [00:35<?, ?it/s]"
     ]
    },
    {
     "name": "stdout",
     "output_type": "stream",
     "text": [
      "[I 2025-08-10 23:49:20,625] Trial 0 finished with value: 0.5884861407249466 and parameters: {'iterations': 7000, 'learning_rate': 0.10985745201142037, 'depth': 8, 'l2_leaf_reg': 0.9846738873614566, 'bagging_temperature': 1.2481491235394921, 'random_strength': 0.46798356100860794, 'subsample': 0.7174250836504598, 'rsm': 0.9464704583099741, 'scale_pos_weight': 1.821895519963455}. Best is trial 0 with value: 0.5884861407249466.\n"
     ]
    },
    {
     "name": "stderr",
     "output_type": "stream",
     "text": [
      "Best trial: 1. Best value: 0.60155:   1%|          | 2/300 [02:50<7:46:51, 94.00s/it, 170.55/14400 seconds]"
     ]
    },
    {
     "name": "stdout",
     "output_type": "stream",
     "text": [
      "[I 2025-08-10 23:51:35,598] Trial 1 finished with value: 0.6015503875968993 and parameters: {'iterations': 10000, 'learning_rate': 0.020751421204777677, 'depth': 9, 'l2_leaf_reg': 14.528246637516036, 'bagging_temperature': 1.6987128854262092, 'random_strength': 0.5454749016213019, 'subsample': 0.7550213529560301, 'rsm': 0.7216968971838151, 'scale_pos_weight': 1.6920859337748042}. Best is trial 1 with value: 0.6015503875968993.\n"
     ]
    },
    {
     "name": "stderr",
     "output_type": "stream",
     "text": [
      "Best trial: 1. Best value: 0.60155:   1%|          | 2/300 [03:39<7:46:51, 94.00s/it, 170.55/14400 seconds]"
     ]
    },
    {
     "name": "stdout",
     "output_type": "stream",
     "text": [
      "[I 2025-08-10 23:52:24,245] Trial 2 finished with value: 0.598896769109535 and parameters: {'iterations': 7000, 'learning_rate': 0.03370158413473581, 'depth': 7, 'l2_leaf_reg': 0.004982752357076452, 'bagging_temperature': 2.3371571882817452, 'random_strength': 1.099085529881075, 'subsample': 0.8368209952651108, 'rsm': 0.9140703845572055, 'scale_pos_weight': 1.1394454296692116}. Best is trial 1 with value: 0.6015503875968993.\n"
     ]
    },
    {
     "name": "stderr",
     "output_type": "stream",
     "text": [
      "Best trial: 3. Best value: 0.607431:   1%|▏         | 4/300 [04:06<4:31:12, 54.97s/it, 246.12/14400 seconds]"
     ]
    },
    {
     "name": "stdout",
     "output_type": "stream",
     "text": [
      "[I 2025-08-10 23:52:51,164] Trial 3 finished with value: 0.6074313408723748 and parameters: {'iterations': 8000, 'learning_rate': 0.057812018524968964, 'depth': 4, 'l2_leaf_reg': 1.0907475835157696, 'bagging_temperature': 1.3641929894983322, 'random_strength': 0.19515477895583855, 'subsample': 0.984665661176, 'rsm': 0.9862528132298237, 'scale_pos_weight': 2.174275491797984}. Best is trial 3 with value: 0.6074313408723748.\n"
     ]
    },
    {
     "name": "stderr",
     "output_type": "stream",
     "text": [
      "Best trial: 3. Best value: 0.607431:   2%|▏         | 5/300 [05:04<4:35:40, 56.07s/it, 304.12/14400 seconds]"
     ]
    },
    {
     "name": "stdout",
     "output_type": "stream",
     "text": [
      "[I 2025-08-10 23:53:49,171] Trial 4 finished with value: 0.5994277539341917 and parameters: {'iterations': 6000, 'learning_rate': 0.023825041912123594, 'depth': 8, 'l2_leaf_reg': 0.15876781526924, 'bagging_temperature': 0.9763058787582306, 'random_strength': 1.4855307303338106, 'subsample': 0.7103165563345655, 'rsm': 0.9637281608315128, 'scale_pos_weight': 1.2399259687200288}. Best is trial 3 with value: 0.6074313408723748.\n"
     ]
    },
    {
     "name": "stderr",
     "output_type": "stream",
     "text": [
      "Best trial: 3. Best value: 0.607431:   2%|▏         | 6/300 [05:54<4:25:25, 54.17s/it, 354.60/14400 seconds]"
     ]
    },
    {
     "name": "stdout",
     "output_type": "stream",
     "text": [
      "[I 2025-08-10 23:54:39,640] Trial 5 finished with value: 0.6026711185308848 and parameters: {'iterations': 9000, 'learning_rate': 0.03496136329223948, 'depth': 7, 'l2_leaf_reg': 0.5414413211338525, 'bagging_temperature': 1.4788356442042163, 'random_strength': 2.9087538832936755, 'subsample': 0.9325398470083344, 'rsm': 0.9757995766256756, 'scale_pos_weight': 2.321206495727003}. Best is trial 3 with value: 0.6074313408723748.\n"
     ]
    },
    {
     "name": "stderr",
     "output_type": "stream",
     "text": [
      "Best trial: 3. Best value: 0.607431:   2%|▏         | 7/300 [06:13<3:28:55, 42.78s/it, 373.94/14400 seconds]"
     ]
    },
    {
     "name": "stdout",
     "output_type": "stream",
     "text": [
      "[I 2025-08-10 23:54:58,986] Trial 6 finished with value: 0.5858585858585859 and parameters: {'iterations': 9000, 'learning_rate': 0.10432480565485087, 'depth': 4, 'l2_leaf_reg': 0.009548041810464166, 'bagging_temperature': 0.36181831128430453, 'random_strength': 0.975990992289793, 'subsample': 0.8166031869068446, 'rsm': 0.7085396127095583, 'scale_pos_weight': 2.20885376555828}. Best is trial 3 with value: 0.6074313408723748.\n"
     ]
    },
    {
     "name": "stderr",
     "output_type": "stream",
     "text": [
      "Best trial: 3. Best value: 0.607431:   3%|▎         | 8/300 [06:44<3:08:35, 38.75s/it, 404.06/14400 seconds]"
     ]
    },
    {
     "name": "stdout",
     "output_type": "stream",
     "text": [
      "[I 2025-08-10 23:55:29,107] Trial 7 finished with value: 0.5943396226415094 and parameters: {'iterations': 7000, 'learning_rate': 0.033085639673402445, 'depth': 7, 'l2_leaf_reg': 0.0050654860639753555, 'bagging_temperature': 6.417575846032317, 'random_strength': 0.22365193103931247, 'subsample': 0.9960660809801551, 'rsm': 0.908897907718663, 'scale_pos_weight': 1.1378166586080931}. Best is trial 3 with value: 0.6074313408723748.\n"
     ]
    },
    {
     "name": "stderr",
     "output_type": "stream",
     "text": [
      "Best trial: 3. Best value: 0.607431:   3%|▎         | 9/300 [07:16<2:59:03, 36.92s/it, 436.95/14400 seconds]"
     ]
    },
    {
     "name": "stdout",
     "output_type": "stream",
     "text": [
      "[I 2025-08-10 23:56:01,996] Trial 8 finished with value: 0.6028776978417266 and parameters: {'iterations': 4000, 'learning_rate': 0.08621489941526675, 'depth': 8, 'l2_leaf_reg': 4.41606889511859, 'bagging_temperature': 6.170162773487566, 'random_strength': 0.22213395520227108, 'subsample': 0.8075397185632818, 'rsm': 0.6463476238100518, 'scale_pos_weight': 2.267275823988509}. Best is trial 3 with value: 0.6074313408723748.\n"
     ]
    },
    {
     "name": "stderr",
     "output_type": "stream",
     "text": [
      "Best trial: 3. Best value: 0.607431:   3%|▎         | 10/300 [07:55<3:01:18, 37.51s/it, 475.80/14400 seconds]"
     ]
    },
    {
     "name": "stdout",
     "output_type": "stream",
     "text": [
      "[I 2025-08-10 23:56:40,832] Trial 9 finished with value: 0.6008298755186722 and parameters: {'iterations': 9000, 'learning_rate': 0.03618417769126916, 'depth': 4, 'l2_leaf_reg': 0.03588488911386258, 'bagging_temperature': 2.6014665762139764, 'random_strength': 2.1888185350141924, 'subsample': 0.8912672414065639, 'rsm': 0.9548850970305306, 'scale_pos_weight': 1.602765372775314}. Best is trial 3 with value: 0.6074313408723748.\n"
     ]
    },
    {
     "name": "stderr",
     "output_type": "stream",
     "text": [
      "Best trial: 3. Best value: 0.607431:   4%|▎         | 11/300 [08:43<3:15:07, 40.51s/it, 523.11/14400 seconds]"
     ]
    },
    {
     "name": "stdout",
     "output_type": "stream",
     "text": [
      "[I 2025-08-10 23:57:28,115] Trial 10 finished with value: 0.5947712418300654 and parameters: {'iterations': 5000, 'learning_rate': 0.07178642382355842, 'depth': 8, 'l2_leaf_reg': 0.6403036652671171, 'bagging_temperature': 6.167737439636488, 'random_strength': 1.4813867890931722, 'subsample': 0.8568198488145982, 'rsm': 0.7710164073434198, 'scale_pos_weight': 0.8432125154649619}. Best is trial 3 with value: 0.6074313408723748.\n"
     ]
    },
    {
     "name": "stderr",
     "output_type": "stream",
     "text": [
      "Best trial: 3. Best value: 0.607431:   4%|▍         | 12/300 [09:50<3:53:01, 48.55s/it, 590.03/14400 seconds]"
     ]
    },
    {
     "name": "stdout",
     "output_type": "stream",
     "text": [
      "[I 2025-08-10 23:58:35,034] Trial 11 finished with value: 0.5944055944055944 and parameters: {'iterations': 4000, 'learning_rate': 0.02115858672061191, 'depth': 7, 'l2_leaf_reg': 0.03730610475453591, 'bagging_temperature': 4.068565529317622, 'random_strength': 2.722699421778279, 'subsample': 0.7747876687446624, 'rsm': 0.7641531692142519, 'scale_pos_weight': 2.0844369355231827}. Best is trial 3 with value: 0.6074313408723748.\n"
     ]
    },
    {
     "name": "stderr",
     "output_type": "stream",
     "text": [
      "Best trial: 3. Best value: 0.607431:   4%|▍         | 13/300 [10:46<4:03:48, 50.97s/it, 646.57/14400 seconds]"
     ]
    },
    {
     "name": "stdout",
     "output_type": "stream",
     "text": [
      "[I 2025-08-10 23:59:31,604] Trial 12 finished with value: 0.5948644793152639 and parameters: {'iterations': 6000, 'learning_rate': 0.022957892012405123, 'depth': 5, 'l2_leaf_reg': 0.006398916399944081, 'bagging_temperature': 7.4375812187405845, 'random_strength': 2.424361138693251, 'subsample': 0.8900211269531271, 'rsm': 0.9485842360750871, 'scale_pos_weight': 2.1662425307284945}. Best is trial 3 with value: 0.6074313408723748.\n"
     ]
    },
    {
     "name": "stderr",
     "output_type": "stream",
     "text": [
      "Best trial: 13. Best value: 0.609272:   5%|▍         | 14/300 [11:23<3:42:00, 46.58s/it, 683.00/14400 seconds]"
     ]
    },
    {
     "name": "stdout",
     "output_type": "stream",
     "text": [
      "[I 2025-08-11 00:00:08,029] Trial 13 finished with value: 0.609271523178808 and parameters: {'iterations': 5000, 'learning_rate': 0.09898648354282832, 'depth': 7, 'l2_leaf_reg': 10.89433625813222, 'bagging_temperature': 7.168730399387946, 'random_strength': 0.9540104249155916, 'subsample': 0.733015577358303, 'rsm': 0.6911740650167767, 'scale_pos_weight': 1.5260832406646356}. Best is trial 13 with value: 0.609271523178808.\n"
     ]
    },
    {
     "name": "stderr",
     "output_type": "stream",
     "text": [
      "Best trial: 13. Best value: 0.609272:   5%|▌         | 15/300 [11:47<3:09:43, 39.94s/it, 707.57/14400 seconds]"
     ]
    },
    {
     "name": "stdout",
     "output_type": "stream",
     "text": [
      "[I 2025-08-11 00:00:32,608] Trial 14 finished with value: 0.6073211314475874 and parameters: {'iterations': 11000, 'learning_rate': 0.09349934646188293, 'depth': 4, 'l2_leaf_reg': 0.35787924535023224, 'bagging_temperature': 3.339288025190232, 'random_strength': 0.6663234314121907, 'subsample': 0.7359596102001048, 'rsm': 0.7350460685614512, 'scale_pos_weight': 2.402946496651283}. Best is trial 13 with value: 0.609271523178808.\n"
     ]
    },
    {
     "name": "stderr",
     "output_type": "stream",
     "text": [
      "Best trial: 13. Best value: 0.609272:   5%|▌         | 16/300 [12:35<3:20:07, 42.28s/it, 755.28/14400 seconds]"
     ]
    },
    {
     "name": "stdout",
     "output_type": "stream",
     "text": [
      "[I 2025-08-11 00:01:20,316] Trial 15 finished with value: 0.5992727272727273 and parameters: {'iterations': 6000, 'learning_rate': 0.05066727722552675, 'depth': 8, 'l2_leaf_reg': 0.06578820119123178, 'bagging_temperature': 7.774256661767685, 'random_strength': 2.8873418848263337, 'subsample': 0.7755346887476092, 'rsm': 0.7988994023569542, 'scale_pos_weight': 1.3114931266885086}. Best is trial 13 with value: 0.609271523178808.\n"
     ]
    },
    {
     "name": "stderr",
     "output_type": "stream",
     "text": [
      "Best trial: 13. Best value: 0.609272:   6%|▌         | 17/300 [13:42<3:54:35, 49.74s/it, 822.35/14400 seconds]"
     ]
    },
    {
     "name": "stdout",
     "output_type": "stream",
     "text": [
      "[I 2025-08-11 00:02:27,386] Trial 16 finished with value: 0.6032 and parameters: {'iterations': 6000, 'learning_rate': 0.02136651144927013, 'depth': 7, 'l2_leaf_reg': 0.32613327839065587, 'bagging_temperature': 0.4118300099999148, 'random_strength': 0.8359393927098343, 'subsample': 0.9724797657899962, 'rsm': 0.695824756266789, 'scale_pos_weight': 1.0463212825550794}. Best is trial 13 with value: 0.609271523178808.\n"
     ]
    },
    {
     "name": "stderr",
     "output_type": "stream",
     "text": [
      "Best trial: 13. Best value: 0.609272:   6%|▌         | 18/300 [14:08<3:20:05, 42.57s/it, 848.25/14400 seconds]"
     ]
    },
    {
     "name": "stdout",
     "output_type": "stream",
     "text": [
      "[I 2025-08-11 00:02:53,285] Trial 17 finished with value: 0.6042296072507553 and parameters: {'iterations': 8000, 'learning_rate': 0.11695401321107736, 'depth': 5, 'l2_leaf_reg': 2.2944454507602003, 'bagging_temperature': 6.092956922629741, 'random_strength': 0.712912631977199, 'subsample': 0.9184649045835579, 'rsm': 0.7471132530877013, 'scale_pos_weight': 1.8749199120090851}. Best is trial 13 with value: 0.609271523178808.\n"
     ]
    },
    {
     "name": "stderr",
     "output_type": "stream",
     "text": [
      "Best trial: 18. Best value: 0.615752:   6%|▋         | 19/300 [14:52<3:21:22, 43.00s/it, 892.24/14400 seconds]"
     ]
    },
    {
     "name": "stdout",
     "output_type": "stream",
     "text": [
      "[I 2025-08-11 00:03:37,278] Trial 18 finished with value: 0.6157517899761337 and parameters: {'iterations': 9000, 'learning_rate': 0.052232851557422064, 'depth': 4, 'l2_leaf_reg': 15.01455544253768, 'bagging_temperature': 2.5662405197738867, 'random_strength': 0.5595555311995627, 'subsample': 0.7122325424664291, 'rsm': 0.8363571772752967, 'scale_pos_weight': 1.9518594151318802}. Best is trial 18 with value: 0.6157517899761337.\n"
     ]
    },
    {
     "name": "stderr",
     "output_type": "stream",
     "text": [
      "Best trial: 19. Best value: 0.61901:   7%|▋         | 20/300 [15:36<3:21:44, 43.23s/it, 936.02/14400 seconds] "
     ]
    },
    {
     "name": "stdout",
     "output_type": "stream",
     "text": [
      "[I 2025-08-11 00:04:21,056] Trial 19 finished with value: 0.6190102120974077 and parameters: {'iterations': 4000, 'learning_rate': 0.05006288223160559, 'depth': 5, 'l2_leaf_reg': 1.6821470258034157, 'bagging_temperature': 1.3949314320399315, 'random_strength': 2.0728132143073976, 'subsample': 0.8160206038901612, 'rsm': 0.9746919954946938, 'scale_pos_weight': 1.0337856050481886}. Best is trial 19 with value: 0.6190102120974077.\n"
     ]
    },
    {
     "name": "stderr",
     "output_type": "stream",
     "text": [
      "Best trial: 19. Best value: 0.61901:   7%|▋         | 21/300 [16:22<3:25:01, 44.09s/it, 982.12/14400 seconds]"
     ]
    },
    {
     "name": "stdout",
     "output_type": "stream",
     "text": [
      "[I 2025-08-11 00:05:07,142] Trial 20 finished with value: 0.6073529411764705 and parameters: {'iterations': 5000, 'learning_rate': 0.06260270449553881, 'depth': 5, 'l2_leaf_reg': 11.31716321806181, 'bagging_temperature': 1.992713269225518, 'random_strength': 2.19546488287936, 'subsample': 0.8197736167462689, 'rsm': 0.9483082966093194, 'scale_pos_weight': 0.931689762951977}. Best is trial 19 with value: 0.6190102120974077.\n"
     ]
    },
    {
     "name": "stderr",
     "output_type": "stream",
     "text": [
      "Best trial: 19. Best value: 0.61901:   7%|▋         | 22/300 [17:19<3:43:01, 48.14s/it, 1039.68/14400 seconds]"
     ]
    },
    {
     "name": "stdout",
     "output_type": "stream",
     "text": [
      "[I 2025-08-11 00:06:04,710] Trial 21 finished with value: 0.6019417475728155 and parameters: {'iterations': 10000, 'learning_rate': 0.033204311478363537, 'depth': 5, 'l2_leaf_reg': 15.439161124916051, 'bagging_temperature': 2.7178070116343305, 'random_strength': 0.49399392638450906, 'subsample': 0.7251391746574677, 'rsm': 0.8692039023475386, 'scale_pos_weight': 1.8249552430132552}. Best is trial 19 with value: 0.6190102120974077.\n"
     ]
    },
    {
     "name": "stderr",
     "output_type": "stream",
     "text": [
      "Best trial: 19. Best value: 0.61901:   8%|▊         | 23/300 [17:54<3:23:27, 44.07s/it, 1074.27/14400 seconds]"
     ]
    },
    {
     "name": "stdout",
     "output_type": "stream",
     "text": [
      "[I 2025-08-11 00:06:39,304] Trial 22 finished with value: 0.599025974025974 and parameters: {'iterations': 5000, 'learning_rate': 0.07274770088326812, 'depth': 7, 'l2_leaf_reg': 2.999211434233447, 'bagging_temperature': 6.168712508277844, 'random_strength': 0.738743948427809, 'subsample': 0.7455954108716767, 'rsm': 0.6398582332581645, 'scale_pos_weight': 1.2398735283835995}. Best is trial 19 with value: 0.6190102120974077.\n"
     ]
    },
    {
     "name": "stderr",
     "output_type": "stream",
     "text": [
      "Best trial: 19. Best value: 0.61901:   8%|▊         | 24/300 [18:48<3:37:05, 47.19s/it, 1128.75/14400 seconds]"
     ]
    },
    {
     "name": "stdout",
     "output_type": "stream",
     "text": [
      "[I 2025-08-11 00:07:33,784] Trial 23 finished with value: 0.6068249258160238 and parameters: {'iterations': 7000, 'learning_rate': 0.06794532817643256, 'depth': 4, 'l2_leaf_reg': 60.37727215496465, 'bagging_temperature': 0.3816230658683697, 'random_strength': 1.1440597233227336, 'subsample': 0.7473098834485711, 'rsm': 0.7837225661768993, 'scale_pos_weight': 2.4581805177166527}. Best is trial 19 with value: 0.6190102120974077.\n"
     ]
    },
    {
     "name": "stderr",
     "output_type": "stream",
     "text": [
      "Best trial: 19. Best value: 0.61901:   8%|▊         | 25/300 [19:39<3:40:46, 48.17s/it, 1179.20/14400 seconds]"
     ]
    },
    {
     "name": "stdout",
     "output_type": "stream",
     "text": [
      "[I 2025-08-11 00:08:24,236] Trial 24 finished with value: 0.6072555205047319 and parameters: {'iterations': 5000, 'learning_rate': 0.11403416450353908, 'depth': 7, 'l2_leaf_reg': 70.06217681432685, 'bagging_temperature': 7.545167379030131, 'random_strength': 0.8655536727686058, 'subsample': 0.7152048186829377, 'rsm': 0.7767773495421985, 'scale_pos_weight': 1.5657025614930082}. Best is trial 19 with value: 0.6190102120974077.\n"
     ]
    },
    {
     "name": "stderr",
     "output_type": "stream",
     "text": [
      "Best trial: 19. Best value: 0.61901:   9%|▊         | 26/300 [20:16<3:25:30, 45.00s/it, 1216.80/14400 seconds]"
     ]
    },
    {
     "name": "stdout",
     "output_type": "stream",
     "text": [
      "[I 2025-08-11 00:09:01,834] Trial 25 finished with value: 0.606156274664562 and parameters: {'iterations': 9000, 'learning_rate': 0.060158306042037896, 'depth': 4, 'l2_leaf_reg': 21.71102719224618, 'bagging_temperature': 1.516151796614276, 'random_strength': 0.6154889026075703, 'subsample': 0.8574172788986262, 'rsm': 0.8236889207706809, 'scale_pos_weight': 1.6115075833466617}. Best is trial 19 with value: 0.6190102120974077.\n"
     ]
    },
    {
     "name": "stderr",
     "output_type": "stream",
     "text": [
      "Best trial: 19. Best value: 0.61901:   9%|▉         | 27/300 [20:51<3:10:41, 41.91s/it, 1251.50/14400 seconds]"
     ]
    },
    {
     "name": "stdout",
     "output_type": "stream",
     "text": [
      "[I 2025-08-11 00:09:36,527] Trial 26 finished with value: 0.6132075471698113 and parameters: {'iterations': 4000, 'learning_rate': 0.06570012249157499, 'depth': 4, 'l2_leaf_reg': 0.1956519792544702, 'bagging_temperature': 4.73324525511846, 'random_strength': 2.3084349408799754, 'subsample': 0.8027654184170323, 'rsm': 0.9846004703494435, 'scale_pos_weight': 1.5773967377052436}. Best is trial 19 with value: 0.6190102120974077.\n"
     ]
    },
    {
     "name": "stderr",
     "output_type": "stream",
     "text": [
      "Best trial: 19. Best value: 0.61901:   9%|▉         | 28/300 [21:19<2:50:25, 37.60s/it, 1279.03/14400 seconds]"
     ]
    },
    {
     "name": "stdout",
     "output_type": "stream",
     "text": [
      "[I 2025-08-11 00:10:04,067] Trial 27 finished with value: 0.6081504702194357 and parameters: {'iterations': 5000, 'learning_rate': 0.08174867061401286, 'depth': 4, 'l2_leaf_reg': 0.38611822002756574, 'bagging_temperature': 7.852666780834415, 'random_strength': 2.4215143229611287, 'subsample': 0.7868136579221892, 'rsm': 0.9684174144787889, 'scale_pos_weight': 1.8189010018090355}. Best is trial 19 with value: 0.6190102120974077.\n"
     ]
    },
    {
     "name": "stderr",
     "output_type": "stream",
     "text": [
      "Best trial: 19. Best value: 0.61901:  10%|▉         | 29/300 [21:47<2:36:49, 34.72s/it, 1307.04/14400 seconds]"
     ]
    },
    {
     "name": "stdout",
     "output_type": "stream",
     "text": [
      "[I 2025-08-11 00:10:32,070] Trial 28 finished with value: 0.5925337569499602 and parameters: {'iterations': 6000, 'learning_rate': 0.06566063929997232, 'depth': 4, 'l2_leaf_reg': 0.0027920522633995293, 'bagging_temperature': 4.459195602680678, 'random_strength': 1.7507800839003673, 'subsample': 0.7569520896968122, 'rsm': 0.9739414477158224, 'scale_pos_weight': 1.7138909155074744}. Best is trial 19 with value: 0.6190102120974077.\n"
     ]
    },
    {
     "name": "stderr",
     "output_type": "stream",
     "text": [
      "Best trial: 19. Best value: 0.61901:  10%|█         | 30/300 [22:40<3:01:13, 40.27s/it, 1360.27/14400 seconds]"
     ]
    },
    {
     "name": "stdout",
     "output_type": "stream",
     "text": [
      "[I 2025-08-11 00:11:25,304] Trial 29 finished with value: 0.6155026861089793 and parameters: {'iterations': 4000, 'learning_rate': 0.034394283380608535, 'depth': 4, 'l2_leaf_reg': 0.48660666462507074, 'bagging_temperature': 2.769237521511444, 'random_strength': 2.4998199198673263, 'subsample': 0.747778336203436, 'rsm': 0.961276114641157, 'scale_pos_weight': 1.7855026694146194}. Best is trial 19 with value: 0.6190102120974077.\n"
     ]
    },
    {
     "name": "stderr",
     "output_type": "stream",
     "text": [
      "Best trial: 19. Best value: 0.61901:  10%|█         | 31/300 [23:34<3:18:51, 44.36s/it, 1414.15/14400 seconds]"
     ]
    },
    {
     "name": "stdout",
     "output_type": "stream",
     "text": [
      "[I 2025-08-11 00:12:19,182] Trial 30 finished with value: 0.6140065146579805 and parameters: {'iterations': 6000, 'learning_rate': 0.02925238452382666, 'depth': 4, 'l2_leaf_reg': 2.4283117899655147, 'bagging_temperature': 4.753852309861314, 'random_strength': 1.5281442200478992, 'subsample': 0.8300657821892666, 'rsm': 0.9253645170276459, 'scale_pos_weight': 1.775954143362142}. Best is trial 19 with value: 0.6190102120974077.\n"
     ]
    },
    {
     "name": "stderr",
     "output_type": "stream",
     "text": [
      "Best trial: 19. Best value: 0.61901:  11%|█         | 32/300 [24:42<3:49:35, 51.40s/it, 1482.00/14400 seconds]"
     ]
    },
    {
     "name": "stdout",
     "output_type": "stream",
     "text": [
      "[I 2025-08-11 00:13:27,034] Trial 31 finished with value: 0.609271523178808 and parameters: {'iterations': 4000, 'learning_rate': 0.022500221015372752, 'depth': 4, 'l2_leaf_reg': 0.4128720433111228, 'bagging_temperature': 2.235392143221096, 'random_strength': 2.4036575772854505, 'subsample': 0.7603161810215787, 'rsm': 0.9240192945146598, 'scale_pos_weight': 1.5174853237073198}. Best is trial 19 with value: 0.6190102120974077.\n"
     ]
    },
    {
     "name": "stderr",
     "output_type": "stream",
     "text": [
      "Best trial: 19. Best value: 0.61901:  11%|█         | 33/300 [25:43<4:02:02, 54.39s/it, 1543.36/14400 seconds]"
     ]
    },
    {
     "name": "stdout",
     "output_type": "stream",
     "text": [
      "[I 2025-08-11 00:14:28,390] Trial 32 finished with value: 0.6142857142857143 and parameters: {'iterations': 8000, 'learning_rate': 0.026717656430145186, 'depth': 4, 'l2_leaf_reg': 6.875016012025125, 'bagging_temperature': 5.648770946472492, 'random_strength': 1.4357065644590659, 'subsample': 0.8426476115416908, 'rsm': 0.8774956363639824, 'scale_pos_weight': 1.9319245830714704}. Best is trial 19 with value: 0.6190102120974077.\n"
     ]
    },
    {
     "name": "stderr",
     "output_type": "stream",
     "text": [
      "Best trial: 19. Best value: 0.61901:  11%|█▏        | 34/300 [26:39<4:03:08, 54.84s/it, 1599.26/14400 seconds]"
     ]
    },
    {
     "name": "stdout",
     "output_type": "stream",
     "text": [
      "[I 2025-08-11 00:15:24,299] Trial 33 finished with value: 0.6137071651090342 and parameters: {'iterations': 10000, 'learning_rate': 0.03344070690991699, 'depth': 4, 'l2_leaf_reg': 5.717869303395441, 'bagging_temperature': 6.606209331943569, 'random_strength': 1.612820785245142, 'subsample': 0.908229307731095, 'rsm': 0.8540547124378646, 'scale_pos_weight': 1.907988722115067}. Best is trial 19 with value: 0.6190102120974077.\n"
     ]
    },
    {
     "name": "stderr",
     "output_type": "stream",
     "text": [
      "Best trial: 19. Best value: 0.61901:  12%|█▏        | 35/300 [27:48<4:21:35, 59.23s/it, 1668.73/14400 seconds]"
     ]
    },
    {
     "name": "stdout",
     "output_type": "stream",
     "text": [
      "[I 2025-08-11 00:16:33,760] Trial 34 finished with value: 0.606156274664562 and parameters: {'iterations': 9000, 'learning_rate': 0.023734723476768808, 'depth': 4, 'l2_leaf_reg': 20.699065641440644, 'bagging_temperature': 5.819641037224605, 'random_strength': 1.007247344030498, 'subsample': 0.7929822113699317, 'rsm': 0.8453709169744271, 'scale_pos_weight': 2.0465638887033926}. Best is trial 19 with value: 0.6190102120974077.\n"
     ]
    },
    {
     "name": "stderr",
     "output_type": "stream",
     "text": [
      "Best trial: 19. Best value: 0.61901:  12%|█▏        | 36/300 [28:22<3:46:24, 51.45s/it, 1702.03/14400 seconds]"
     ]
    },
    {
     "name": "stdout",
     "output_type": "stream",
     "text": [
      "[I 2025-08-11 00:17:07,062] Trial 35 finished with value: 0.5942142298670836 and parameters: {'iterations': 4000, 'learning_rate': 0.06682984724653519, 'depth': 5, 'l2_leaf_reg': 0.0882353327516855, 'bagging_temperature': 0.6194908974591965, 'random_strength': 1.769867114419774, 'subsample': 0.7558979132884787, 'rsm': 0.997637536664536, 'scale_pos_weight': 1.1938037835353674}. Best is trial 19 with value: 0.6190102120974077.\n"
     ]
    },
    {
     "name": "stderr",
     "output_type": "stream",
     "text": [
      "Best trial: 19. Best value: 0.61901:  12%|█▏        | 37/300 [29:00<3:28:22, 47.54s/it, 1740.43/14400 seconds]"
     ]
    },
    {
     "name": "stdout",
     "output_type": "stream",
     "text": [
      "[I 2025-08-11 00:17:45,466] Trial 36 finished with value: 0.6110678098207326 and parameters: {'iterations': 10000, 'learning_rate': 0.07891752368892319, 'depth': 4, 'l2_leaf_reg': 40.65214164237003, 'bagging_temperature': 1.6407388737321178, 'random_strength': 0.2562853107805449, 'subsample': 0.7594229622398878, 'rsm': 0.9012827771707774, 'scale_pos_weight': 1.985408921837913}. Best is trial 19 with value: 0.6190102120974077.\n"
     ]
    },
    {
     "name": "stderr",
     "output_type": "stream",
     "text": [
      "Best trial: 19. Best value: 0.61901:  13%|█▎        | 38/300 [29:46<3:25:14, 47.00s/it, 1786.19/14400 seconds]"
     ]
    },
    {
     "name": "stdout",
     "output_type": "stream",
     "text": [
      "[I 2025-08-11 00:18:31,215] Trial 37 finished with value: 0.6025039123630673 and parameters: {'iterations': 5000, 'learning_rate': 0.03832165097103284, 'depth': 5, 'l2_leaf_reg': 0.149354285264813, 'bagging_temperature': 3.4621692042734926, 'random_strength': 2.8972668768393386, 'subsample': 0.7062332848177465, 'rsm': 0.9915159455817562, 'scale_pos_weight': 2.1758945224184023}. Best is trial 19 with value: 0.6190102120974077.\n"
     ]
    },
    {
     "name": "stderr",
     "output_type": "stream",
     "text": [
      "Best trial: 19. Best value: 0.61901:  13%|█▎        | 39/300 [30:18<3:05:06, 42.55s/it, 1818.35/14400 seconds]"
     ]
    },
    {
     "name": "stdout",
     "output_type": "stream",
     "text": [
      "[I 2025-08-11 00:19:03,384] Trial 38 finished with value: 0.6075757575757575 and parameters: {'iterations': 8000, 'learning_rate': 0.05556512573414511, 'depth': 4, 'l2_leaf_reg': 0.8142086370308929, 'bagging_temperature': 3.0045310893356305, 'random_strength': 0.6424761607588559, 'subsample': 0.7563313657470816, 'rsm': 0.820845127929378, 'scale_pos_weight': 2.009832342335333}. Best is trial 19 with value: 0.6190102120974077.\n"
     ]
    },
    {
     "name": "stderr",
     "output_type": "stream",
     "text": [
      "Best trial: 19. Best value: 0.61901:  13%|█▎        | 40/300 [31:06<3:11:34, 44.21s/it, 1866.44/14400 seconds]"
     ]
    },
    {
     "name": "stdout",
     "output_type": "stream",
     "text": [
      "[I 2025-08-11 00:19:51,474] Trial 39 finished with value: 0.6177474402730375 and parameters: {'iterations': 11000, 'learning_rate': 0.04402580483955073, 'depth': 4, 'l2_leaf_reg': 24.156916094783824, 'bagging_temperature': 1.1538325909752227, 'random_strength': 0.3014966816573401, 'subsample': 0.7187400655518829, 'rsm': 0.728770160829376, 'scale_pos_weight': 2.2489298664473734}. Best is trial 19 with value: 0.6190102120974077.\n"
     ]
    },
    {
     "name": "stderr",
     "output_type": "stream",
     "text": [
      "Best trial: 19. Best value: 0.61901:  14%|█▎        | 41/300 [32:06<3:31:51, 49.08s/it, 1926.88/14400 seconds]"
     ]
    },
    {
     "name": "stdout",
     "output_type": "stream",
     "text": [
      "[I 2025-08-11 00:20:51,915] Trial 40 finished with value: 0.6029035012809565 and parameters: {'iterations': 10000, 'learning_rate': 0.04904588190351932, 'depth': 6, 'l2_leaf_reg': 80.94573482238839, 'bagging_temperature': 2.797382059073523, 'random_strength': 0.6037495267388258, 'subsample': 0.7207798400584772, 'rsm': 0.622030297062136, 'scale_pos_weight': 2.235611706942673}. Best is trial 19 with value: 0.6190102120974077.\n"
     ]
    },
    {
     "name": "stderr",
     "output_type": "stream",
     "text": [
      "Best trial: 19. Best value: 0.61901:  14%|█▍        | 42/300 [32:51<3:25:11, 47.72s/it, 1971.41/14400 seconds]"
     ]
    },
    {
     "name": "stdout",
     "output_type": "stream",
     "text": [
      "[I 2025-08-11 00:21:36,444] Trial 41 finished with value: 0.6141868512110726 and parameters: {'iterations': 4000, 'learning_rate': 0.050731762096728486, 'depth': 4, 'l2_leaf_reg': 6.993222679245126, 'bagging_temperature': 0.9419024276898977, 'random_strength': 2.145417644299148, 'subsample': 0.7380042367301789, 'rsm': 0.9207543187654078, 'scale_pos_weight': 1.7501785653482018}. Best is trial 19 with value: 0.6190102120974077.\n"
     ]
    },
    {
     "name": "stderr",
     "output_type": "stream",
     "text": [
      "Best trial: 19. Best value: 0.61901:  14%|█▍        | 43/300 [33:43<3:30:15, 49.09s/it, 2023.69/14400 seconds]"
     ]
    },
    {
     "name": "stdout",
     "output_type": "stream",
     "text": [
      "[I 2025-08-11 00:22:28,699] Trial 42 finished with value: 0.612725844461901 and parameters: {'iterations': 11000, 'learning_rate': 0.026564750207605996, 'depth': 4, 'l2_leaf_reg': 1.8989741382884493, 'bagging_temperature': 0.4943136031731742, 'random_strength': 0.03333237301993164, 'subsample': 0.7116645364341027, 'rsm': 0.6381638176692348, 'scale_pos_weight': 1.973670718598077}. Best is trial 19 with value: 0.6190102120974077.\n"
     ]
    },
    {
     "name": "stderr",
     "output_type": "stream",
     "text": [
      "Best trial: 19. Best value: 0.61901:  15%|█▍        | 44/300 [35:40<4:55:32, 69.27s/it, 2140.06/14400 seconds]"
     ]
    },
    {
     "name": "stdout",
     "output_type": "stream",
     "text": [
      "[I 2025-08-11 00:24:25,089] Trial 43 finished with value: 0.5994194484760522 and parameters: {'iterations': 9000, 'learning_rate': 0.020514072233920915, 'depth': 5, 'l2_leaf_reg': 25.985805289300256, 'bagging_temperature': 4.684343692885196, 'random_strength': 1.9851731584752985, 'subsample': 0.8935970609208179, 'rsm': 0.9194273211637118, 'scale_pos_weight': 1.5298258443744381}. Best is trial 19 with value: 0.6190102120974077.\n"
     ]
    },
    {
     "name": "stderr",
     "output_type": "stream",
     "text": [
      "Best trial: 19. Best value: 0.61901:  15%|█▌        | 45/300 [36:08<4:02:52, 57.15s/it, 2168.93/14400 seconds]"
     ]
    },
    {
     "name": "stdout",
     "output_type": "stream",
     "text": [
      "[I 2025-08-11 00:24:53,965] Trial 44 finished with value: 0.6111111111111112 and parameters: {'iterations': 9000, 'learning_rate': 0.07453643560704504, 'depth': 5, 'l2_leaf_reg': 9.057386347352201, 'bagging_temperature': 0.8778696140533485, 'random_strength': 0.18057326811729035, 'subsample': 0.7063960652044567, 'rsm': 0.7036478085599824, 'scale_pos_weight': 2.350012970196681}. Best is trial 19 with value: 0.6190102120974077.\n"
     ]
    },
    {
     "name": "stderr",
     "output_type": "stream",
     "text": [
      "Best trial: 19. Best value: 0.61901:  15%|█▌        | 46/300 [36:52<3:45:01, 53.15s/it, 2212.76/14400 seconds]"
     ]
    },
    {
     "name": "stdout",
     "output_type": "stream",
     "text": [
      "[I 2025-08-11 00:25:37,798] Trial 45 finished with value: 0.6142742582197274 and parameters: {'iterations': 7000, 'learning_rate': 0.041829690151483315, 'depth': 5, 'l2_leaf_reg': 0.25053896863528285, 'bagging_temperature': 0.8796544337515296, 'random_strength': 1.2504640747316231, 'subsample': 0.8340865283154938, 'rsm': 0.8877297742402966, 'scale_pos_weight': 1.0585920606055108}. Best is trial 19 with value: 0.6190102120974077.\n"
     ]
    },
    {
     "name": "stderr",
     "output_type": "stream",
     "text": [
      "Best trial: 19. Best value: 0.61901:  16%|█▌        | 47/300 [37:33<3:28:16, 49.39s/it, 2253.37/14400 seconds]"
     ]
    },
    {
     "name": "stdout",
     "output_type": "stream",
     "text": [
      "[I 2025-08-11 00:26:18,411] Trial 46 finished with value: 0.6109785202863962 and parameters: {'iterations': 11000, 'learning_rate': 0.044252920086032, 'depth': 4, 'l2_leaf_reg': 9.139446736568441, 'bagging_temperature': 0.24096414417971213, 'random_strength': 0.7894103978975853, 'subsample': 0.7809474116284403, 'rsm': 0.7120620924683672, 'scale_pos_weight': 2.011487725678023}. Best is trial 19 with value: 0.6190102120974077.\n"
     ]
    },
    {
     "name": "stderr",
     "output_type": "stream",
     "text": [
      "Best trial: 19. Best value: 0.61901:  16%|█▌        | 48/300 [38:52<4:05:18, 58.41s/it, 2332.82/14400 seconds]"
     ]
    },
    {
     "name": "stdout",
     "output_type": "stream",
     "text": [
      "[I 2025-08-11 00:27:37,844] Trial 47 finished with value: 0.6026587887740029 and parameters: {'iterations': 4000, 'learning_rate': 0.028549678320845602, 'depth': 6, 'l2_leaf_reg': 7.711242739376372, 'bagging_temperature': 2.445633269851733, 'random_strength': 2.157967906251444, 'subsample': 0.8853182796252799, 'rsm': 0.9340635566699338, 'scale_pos_weight': 0.8126440689554743}. Best is trial 19 with value: 0.6190102120974077.\n"
     ]
    },
    {
     "name": "stderr",
     "output_type": "stream",
     "text": [
      "Best trial: 19. Best value: 0.61901:  16%|█▋        | 49/300 [39:29<3:37:11, 51.92s/it, 2369.60/14400 seconds]"
     ]
    },
    {
     "name": "stdout",
     "output_type": "stream",
     "text": [
      "[I 2025-08-11 00:28:14,636] Trial 48 finished with value: 0.6032934131736527 and parameters: {'iterations': 10000, 'learning_rate': 0.0791265918696257, 'depth': 5, 'l2_leaf_reg': 15.829601957872406, 'bagging_temperature': 4.452770008276176, 'random_strength': 1.391302408810608, 'subsample': 0.7586177691442614, 'rsm': 0.8325109703436245, 'scale_pos_weight': 1.6054490594470385}. Best is trial 19 with value: 0.6190102120974077.\n"
     ]
    },
    {
     "name": "stderr",
     "output_type": "stream",
     "text": [
      "Best trial: 19. Best value: 0.61901:  17%|█▋        | 50/300 [40:06<3:17:26, 47.39s/it, 2406.41/14400 seconds]"
     ]
    },
    {
     "name": "stdout",
     "output_type": "stream",
     "text": [
      "[I 2025-08-11 00:28:51,444] Trial 49 finished with value: 0.6064814814814815 and parameters: {'iterations': 5000, 'learning_rate': 0.04370065023824912, 'depth': 4, 'l2_leaf_reg': 0.12083342135360693, 'bagging_temperature': 2.1105856187151146, 'random_strength': 1.6545710948976184, 'subsample': 0.7948312664913254, 'rsm': 0.9922230506316154, 'scale_pos_weight': 2.142319344126387}. Best is trial 19 with value: 0.6190102120974077.\n"
     ]
    },
    {
     "name": "stderr",
     "output_type": "stream",
     "text": [
      "Best trial: 19. Best value: 0.61901:  17%|█▋        | 51/300 [41:00<3:25:08, 49.43s/it, 2460.62/14400 seconds]"
     ]
    },
    {
     "name": "stdout",
     "output_type": "stream",
     "text": [
      "[I 2025-08-11 00:29:45,643] Trial 50 finished with value: 0.6030927835051546 and parameters: {'iterations': 4000, 'learning_rate': 0.038122788288175474, 'depth': 6, 'l2_leaf_reg': 1.1200898583930055, 'bagging_temperature': 1.4541551923742313, 'random_strength': 2.7609919164028556, 'subsample': 0.8429603350704786, 'rsm': 0.9543171673341, 'scale_pos_weight': 1.4517558500184804}. Best is trial 19 with value: 0.6190102120974077.\n"
     ]
    },
    {
     "name": "stderr",
     "output_type": "stream",
     "text": [
      "Best trial: 19. Best value: 0.61901:  17%|█▋        | 52/300 [41:57<3:33:08, 51.57s/it, 2517.16/14400 seconds]"
     ]
    },
    {
     "name": "stdout",
     "output_type": "stream",
     "text": [
      "[I 2025-08-11 00:30:42,188] Trial 51 finished with value: 0.6058981233243967 and parameters: {'iterations': 8000, 'learning_rate': 0.027431552975003617, 'depth': 4, 'l2_leaf_reg': 0.1154411585493259, 'bagging_temperature': 3.590844975971016, 'random_strength': 0.8648783940230711, 'subsample': 0.8676779497079629, 'rsm': 0.8736009445185494, 'scale_pos_weight': 1.1537701459500787}. Best is trial 19 with value: 0.6190102120974077.\n"
     ]
    },
    {
     "name": "stderr",
     "output_type": "stream",
     "text": [
      "Best trial: 19. Best value: 0.61901:  18%|█▊        | 53/300 [42:42<3:24:45, 49.74s/it, 2562.63/14400 seconds]"
     ]
    },
    {
     "name": "stdout",
     "output_type": "stream",
     "text": [
      "[I 2025-08-11 00:31:27,666] Trial 52 finished with value: 0.6060606060606061 and parameters: {'iterations': 6000, 'learning_rate': 0.03823064002750801, 'depth': 6, 'l2_leaf_reg': 0.03600173904418805, 'bagging_temperature': 0.40538069405181293, 'random_strength': 1.4067504659899317, 'subsample': 0.7741311683842942, 'rsm': 0.7198809979699711, 'scale_pos_weight': 1.094612971330588}. Best is trial 19 with value: 0.6190102120974077.\n"
     ]
    },
    {
     "name": "stderr",
     "output_type": "stream",
     "text": [
      "Best trial: 19. Best value: 0.61901:  18%|█▊        | 54/300 [43:23<3:12:48, 47.03s/it, 2603.34/14400 seconds]"
     ]
    },
    {
     "name": "stdout",
     "output_type": "stream",
     "text": [
      "[I 2025-08-11 00:32:08,366] Trial 53 finished with value: 0.5975422427035331 and parameters: {'iterations': 8000, 'learning_rate': 0.0595512527126532, 'depth': 7, 'l2_leaf_reg': 0.05767194127162419, 'bagging_temperature': 1.6422186583757494, 'random_strength': 1.578215649759673, 'subsample': 0.9203149518226098, 'rsm': 0.7891372589245262, 'scale_pos_weight': 1.003207555523909}. Best is trial 19 with value: 0.6190102120974077.\n"
     ]
    },
    {
     "name": "stderr",
     "output_type": "stream",
     "text": [
      "Best trial: 19. Best value: 0.61901:  18%|█▊        | 55/300 [44:05<3:05:51, 45.52s/it, 2645.33/14400 seconds]"
     ]
    },
    {
     "name": "stdout",
     "output_type": "stream",
     "text": [
      "[I 2025-08-11 00:32:50,361] Trial 54 finished with value: 0.6022813688212928 and parameters: {'iterations': 8000, 'learning_rate': 0.0470741823364556, 'depth': 5, 'l2_leaf_reg': 0.39408325934161126, 'bagging_temperature': 1.1037452695407277, 'random_strength': 1.5223134993738845, 'subsample': 0.864026701814505, 'rsm': 0.9268350681584785, 'scale_pos_weight': 0.8883993984743372}. Best is trial 19 with value: 0.6190102120974077.\n"
     ]
    },
    {
     "name": "stderr",
     "output_type": "stream",
     "text": [
      "Best trial: 19. Best value: 0.61901:  19%|█▊        | 56/300 [45:08<3:26:53, 50.88s/it, 2708.71/14400 seconds]"
     ]
    },
    {
     "name": "stdout",
     "output_type": "stream",
     "text": [
      "[I 2025-08-11 00:33:53,735] Trial 55 finished with value: 0.6070287539936102 and parameters: {'iterations': 5000, 'learning_rate': 0.02701069619560108, 'depth': 5, 'l2_leaf_reg': 0.5975103725171527, 'bagging_temperature': 0.532907480983463, 'random_strength': 1.3785780613020697, 'subsample': 0.7702841304966715, 'rsm': 0.9088330786986991, 'scale_pos_weight': 1.0248698720962872}. Best is trial 19 with value: 0.6190102120974077.\n"
     ]
    },
    {
     "name": "stderr",
     "output_type": "stream",
     "text": [
      "Best trial: 19. Best value: 0.61901:  19%|█▉        | 57/300 [45:49<3:13:52, 47.87s/it, 2749.56/14400 seconds]"
     ]
    },
    {
     "name": "stdout",
     "output_type": "stream",
     "text": [
      "[I 2025-08-11 00:34:34,590] Trial 56 finished with value: 0.6037195994277539 and parameters: {'iterations': 5000, 'learning_rate': 0.039972966628777876, 'depth': 4, 'l2_leaf_reg': 0.02927778391013939, 'bagging_temperature': 3.0120980927502328, 'random_strength': 2.3563595501215833, 'subsample': 0.7097077184878576, 'rsm': 0.8666796257268109, 'scale_pos_weight': 1.79121526318207}. Best is trial 19 with value: 0.6190102120974077.\n"
     ]
    },
    {
     "name": "stderr",
     "output_type": "stream",
     "text": [
      "Best trial: 19. Best value: 0.61901:  19%|█▉        | 58/300 [46:30<3:04:33, 45.76s/it, 2790.39/14400 seconds]"
     ]
    },
    {
     "name": "stdout",
     "output_type": "stream",
     "text": [
      "[I 2025-08-11 00:35:15,418] Trial 57 finished with value: 0.6133333333333333 and parameters: {'iterations': 8000, 'learning_rate': 0.04651738011520783, 'depth': 4, 'l2_leaf_reg': 0.997690010036948, 'bagging_temperature': 1.4988590436745879, 'random_strength': 2.665694719883504, 'subsample': 0.8443941576377035, 'rsm': 0.7645714834936698, 'scale_pos_weight': 1.3359935376570524}. Best is trial 19 with value: 0.6190102120974077.\n"
     ]
    },
    {
     "name": "stderr",
     "output_type": "stream",
     "text": [
      "Best trial: 19. Best value: 0.61901:  20%|█▉        | 59/300 [47:21<3:10:41, 47.47s/it, 2841.87/14400 seconds]"
     ]
    },
    {
     "name": "stdout",
     "output_type": "stream",
     "text": [
      "[I 2025-08-11 00:36:06,894] Trial 58 finished with value: 0.6027846027846028 and parameters: {'iterations': 12000, 'learning_rate': 0.05185322990073531, 'depth': 4, 'l2_leaf_reg': 50.62436843763035, 'bagging_temperature': 1.1071080343888384, 'random_strength': 0.29479025929747216, 'subsample': 0.7264698424218261, 'rsm': 0.7336272245885671, 'scale_pos_weight': 2.2080603224545996}. Best is trial 19 with value: 0.6190102120974077.\n"
     ]
    },
    {
     "name": "stderr",
     "output_type": "stream",
     "text": [
      "Best trial: 19. Best value: 0.61901:  20%|██        | 60/300 [48:18<3:21:04, 50.27s/it, 2898.67/14400 seconds]"
     ]
    },
    {
     "name": "stdout",
     "output_type": "stream",
     "text": [
      "[I 2025-08-11 00:37:03,697] Trial 59 finished with value: 0.6048454469507101 and parameters: {'iterations': 6000, 'learning_rate': 0.028418998429673135, 'depth': 5, 'l2_leaf_reg': 1.4861624620730065, 'bagging_temperature': 0.6595418772602355, 'random_strength': 0.528349876413784, 'subsample': 0.9168743381741092, 'rsm': 0.9054321734834179, 'scale_pos_weight': 1.3850396415738824}. Best is trial 19 with value: 0.6190102120974077.\n"
     ]
    },
    {
     "name": "stderr",
     "output_type": "stream",
     "text": [
      "Best trial: 19. Best value: 0.61901:  20%|██        | 61/300 [48:58<3:07:24, 47.05s/it, 2938.19/14400 seconds]"
     ]
    },
    {
     "name": "stdout",
     "output_type": "stream",
     "text": [
      "[I 2025-08-11 00:37:43,219] Trial 60 finished with value: 0.6079447322970639 and parameters: {'iterations': 9000, 'learning_rate': 0.06344894685672177, 'depth': 4, 'l2_leaf_reg': 36.21997654450651, 'bagging_temperature': 4.179043237737048, 'random_strength': 0.4343853208223568, 'subsample': 0.727742134217019, 'rsm': 0.806813883152887, 'scale_pos_weight': 1.992646798470668}. Best is trial 19 with value: 0.6190102120974077.\n"
     ]
    },
    {
     "name": "stderr",
     "output_type": "stream",
     "text": [
      "Best trial: 19. Best value: 0.61901:  21%|██        | 62/300 [49:46<3:08:06, 47.42s/it, 2986.49/14400 seconds]"
     ]
    },
    {
     "name": "stdout",
     "output_type": "stream",
     "text": [
      "[I 2025-08-11 00:38:31,524] Trial 61 finished with value: 0.6152597402597403 and parameters: {'iterations': 7000, 'learning_rate': 0.05270056470952561, 'depth': 4, 'l2_leaf_reg': 17.86466717363743, 'bagging_temperature': 0.5777676838879717, 'random_strength': 1.8428161630206128, 'subsample': 0.7347039239701845, 'rsm': 0.9450636524491208, 'scale_pos_weight': 1.6321272189365126}. Best is trial 19 with value: 0.6190102120974077.\n"
     ]
    },
    {
     "name": "stderr",
     "output_type": "stream",
     "text": [
      "Best trial: 19. Best value: 0.61901:  21%|██        | 63/300 [51:07<3:47:03, 57.48s/it, 3067.44/14400 seconds]"
     ]
    },
    {
     "name": "stdout",
     "output_type": "stream",
     "text": [
      "[I 2025-08-11 00:39:52,468] Trial 62 finished with value: 0.6044657097288676 and parameters: {'iterations': 7000, 'learning_rate': 0.02938614038040618, 'depth': 4, 'l2_leaf_reg': 19.42550229487838, 'bagging_temperature': 1.7577961121864185, 'random_strength': 2.3776546336845454, 'subsample': 0.7275036461164747, 'rsm': 0.9386537553912465, 'scale_pos_weight': 1.5656823988029274}. Best is trial 19 with value: 0.6190102120974077.\n"
     ]
    },
    {
     "name": "stderr",
     "output_type": "stream",
     "text": [
      "Best trial: 19. Best value: 0.61901:  21%|██▏       | 64/300 [51:46<3:24:15, 51.93s/it, 3106.43/14400 seconds]"
     ]
    },
    {
     "name": "stdout",
     "output_type": "stream",
     "text": [
      "[I 2025-08-11 00:40:31,450] Trial 63 finished with value: 0.6120481927710844 and parameters: {'iterations': 6000, 'learning_rate': 0.1079969500899084, 'depth': 4, 'l2_leaf_reg': 44.82219711532602, 'bagging_temperature': 2.2066130178934484, 'random_strength': 1.2626664096611577, 'subsample': 0.7421898767465527, 'rsm': 0.9389582866824804, 'scale_pos_weight': 1.7678873236178292}. Best is trial 19 with value: 0.6190102120974077.\n"
     ]
    },
    {
     "name": "stderr",
     "output_type": "stream",
     "text": [
      "Best trial: 19. Best value: 0.61901:  22%|██▏       | 65/300 [53:04<3:53:44, 59.68s/it, 3184.18/14400 seconds]"
     ]
    },
    {
     "name": "stdout",
     "output_type": "stream",
     "text": [
      "[I 2025-08-11 00:41:49,210] Trial 64 finished with value: 0.6079869600651997 and parameters: {'iterations': 8000, 'learning_rate': 0.05087961970364102, 'depth': 4, 'l2_leaf_reg': 54.22081853410421, 'bagging_temperature': 2.0179858546384097, 'random_strength': 1.9053001584445515, 'subsample': 0.8140830689433761, 'rsm': 0.9062996861958879, 'scale_pos_weight': 1.5114277548894641}. Best is trial 19 with value: 0.6190102120974077.\n"
     ]
    },
    {
     "name": "stderr",
     "output_type": "stream",
     "text": [
      "Best trial: 19. Best value: 0.61901:  22%|██▏       | 66/300 [53:48<3:34:26, 54.99s/it, 3228.22/14400 seconds]"
     ]
    },
    {
     "name": "stdout",
     "output_type": "stream",
     "text": [
      "[I 2025-08-11 00:42:33,257] Trial 65 finished with value: 0.6123680241327301 and parameters: {'iterations': 7000, 'learning_rate': 0.055877044532404295, 'depth': 5, 'l2_leaf_reg': 17.13281560506247, 'bagging_temperature': 0.8496208580340276, 'random_strength': 1.4452185211423811, 'subsample': 0.7472184456633956, 'rsm': 0.9890051642195169, 'scale_pos_weight': 1.6565666224979525}. Best is trial 19 with value: 0.6190102120974077.\n"
     ]
    },
    {
     "name": "stderr",
     "output_type": "stream",
     "text": [
      "Best trial: 19. Best value: 0.61901:  22%|██▏       | 67/300 [54:25<3:12:52, 49.67s/it, 3265.48/14400 seconds]"
     ]
    },
    {
     "name": "stdout",
     "output_type": "stream",
     "text": [
      "[I 2025-08-11 00:43:10,507] Trial 66 finished with value: 0.6054888507718696 and parameters: {'iterations': 4000, 'learning_rate': 0.0682665532345946, 'depth': 5, 'l2_leaf_reg': 2.1654758806406162, 'bagging_temperature': 1.098124798937443, 'random_strength': 1.7562374784003065, 'subsample': 0.9112536889917092, 'rsm': 0.7819266711288171, 'scale_pos_weight': 0.9381742053068779}. Best is trial 19 with value: 0.6190102120974077.\n"
     ]
    },
    {
     "name": "stderr",
     "output_type": "stream",
     "text": [
      "Best trial: 19. Best value: 0.61901:  23%|██▎       | 68/300 [55:20<3:18:13, 51.26s/it, 3320.46/14400 seconds]"
     ]
    },
    {
     "name": "stdout",
     "output_type": "stream",
     "text": [
      "[I 2025-08-11 00:44:05,492] Trial 67 finished with value: 0.6033117350611951 and parameters: {'iterations': 4000, 'learning_rate': 0.03282135718075054, 'depth': 4, 'l2_leaf_reg': 2.872069577774777, 'bagging_temperature': 3.8537860988036705, 'random_strength': 2.399825720976071, 'subsample': 0.7220805552898496, 'rsm': 0.9822900642973201, 'scale_pos_weight': 1.8391433450930004}. Best is trial 19 with value: 0.6190102120974077.\n"
     ]
    },
    {
     "name": "stderr",
     "output_type": "stream",
     "text": [
      "Best trial: 19. Best value: 0.61901:  23%|██▎       | 69/300 [56:10<3:16:18, 50.99s/it, 3370.81/14400 seconds]"
     ]
    },
    {
     "name": "stdout",
     "output_type": "stream",
     "text": [
      "[I 2025-08-11 00:44:55,846] Trial 68 finished with value: 0.601823708206687 and parameters: {'iterations': 9000, 'learning_rate': 0.03589748921095188, 'depth': 6, 'l2_leaf_reg': 3.4725837927946053, 'bagging_temperature': 5.557904606096588, 'random_strength': 1.7508835618726928, 'subsample': 0.8439513490375272, 'rsm': 0.7941256848462566, 'scale_pos_weight': 2.0771286559501445}. Best is trial 19 with value: 0.6190102120974077.\n"
     ]
    },
    {
     "name": "stderr",
     "output_type": "stream",
     "text": [
      "Best trial: 19. Best value: 0.61901:  23%|██▎       | 70/300 [57:04<3:18:01, 51.66s/it, 3424.02/14400 seconds]"
     ]
    },
    {
     "name": "stdout",
     "output_type": "stream",
     "text": [
      "[I 2025-08-11 00:45:49,045] Trial 69 finished with value: 0.6102564102564103 and parameters: {'iterations': 10000, 'learning_rate': 0.0320164362531748, 'depth': 4, 'l2_leaf_reg': 0.22779409365179532, 'bagging_temperature': 4.157583765024496, 'random_strength': 1.7751201971350525, 'subsample': 0.7135819192323268, 'rsm': 0.8329471609574116, 'scale_pos_weight': 1.695141005331729}. Best is trial 19 with value: 0.6190102120974077.\n"
     ]
    },
    {
     "name": "stderr",
     "output_type": "stream",
     "text": [
      "Best trial: 19. Best value: 0.61901:  24%|██▎       | 71/300 [57:58<3:20:32, 52.54s/it, 3478.64/14400 seconds]"
     ]
    },
    {
     "name": "stdout",
     "output_type": "stream",
     "text": [
      "[I 2025-08-11 00:46:43,666] Trial 70 finished with value: 0.6063492063492063 and parameters: {'iterations': 6000, 'learning_rate': 0.03062027825496722, 'depth': 5, 'l2_leaf_reg': 4.8759723190404785, 'bagging_temperature': 6.349601422062389, 'random_strength': 1.2299256153502693, 'subsample': 0.8810833853853509, 'rsm': 0.8759523487517226, 'scale_pos_weight': 2.4648663684025682}. Best is trial 19 with value: 0.6190102120974077.\n"
     ]
    },
    {
     "name": "stderr",
     "output_type": "stream",
     "text": [
      "Best trial: 19. Best value: 0.61901:  24%|██▍       | 72/300 [58:36<3:02:40, 48.07s/it, 3516.27/14400 seconds]"
     ]
    },
    {
     "name": "stdout",
     "output_type": "stream",
     "text": [
      "[I 2025-08-11 00:47:21,281] Trial 71 finished with value: 0.6031746031746031 and parameters: {'iterations': 6000, 'learning_rate': 0.04197499112158984, 'depth': 5, 'l2_leaf_reg': 0.0320177499859559, 'bagging_temperature': 2.1551799308951587, 'random_strength': 0.4117208685224326, 'subsample': 0.8035381798707696, 'rsm': 0.9919707889816962, 'scale_pos_weight': 1.00798609157843}. Best is trial 19 with value: 0.6190102120974077.\n"
     ]
    },
    {
     "name": "stderr",
     "output_type": "stream",
     "text": [
      "Best trial: 19. Best value: 0.61901:  24%|██▍       | 72/300 [59:23<3:02:40, 48.07s/it, 3516.27/14400 seconds]"
     ]
    },
    {
     "name": "stdout",
     "output_type": "stream",
     "text": [
      "[I 2025-08-11 00:48:08,258] Trial 72 finished with value: 0.6150121065375302 and parameters: {'iterations': 4000, 'learning_rate': 0.039325084636919076, 'depth': 4, 'l2_leaf_reg': 7.303133564543867, 'bagging_temperature': 0.003939641411359718, 'random_strength': 1.7048230191619551, 'subsample': 0.70724513515229, 'rsm': 0.8261981343749927, 'scale_pos_weight': 1.832850118358765}. Best is trial 19 with value: 0.6190102120974077.\n"
     ]
    },
    {
     "name": "stderr",
     "output_type": "stream",
     "text": [
      "Best trial: 19. Best value: 0.61901:  25%|██▍       | 74/300 [1:00:02<2:50:31, 45.27s/it, 3602.76/14400 seconds]"
     ]
    },
    {
     "name": "stdout",
     "output_type": "stream",
     "text": [
      "[I 2025-08-11 00:48:47,800] Trial 73 finished with value: 0.6166077738515902 and parameters: {'iterations': 5000, 'learning_rate': 0.056782787349769194, 'depth': 4, 'l2_leaf_reg': 9.603678471875599, 'bagging_temperature': 0.2358864643823097, 'random_strength': 2.298131874933689, 'subsample': 0.7634284991171187, 'rsm': 0.7413905535345183, 'scale_pos_weight': 1.8336900007359405}. Best is trial 19 with value: 0.6190102120974077.\n"
     ]
    },
    {
     "name": "stderr",
     "output_type": "stream",
     "text": [
      "Best trial: 19. Best value: 0.61901:  25%|██▌       | 75/300 [1:00:47<2:49:25, 45.18s/it, 3647.72/14400 seconds]"
     ]
    },
    {
     "name": "stdout",
     "output_type": "stream",
     "text": [
      "[I 2025-08-11 00:49:32,758] Trial 74 finished with value: 0.6042003231017771 and parameters: {'iterations': 5000, 'learning_rate': 0.09286704806357211, 'depth': 5, 'l2_leaf_reg': 34.07553847524886, 'bagging_temperature': 0.07404814077501788, 'random_strength': 1.2839052856179214, 'subsample': 0.7264054715796109, 'rsm': 0.7354418485397403, 'scale_pos_weight': 1.5749856109904827}. Best is trial 19 with value: 0.6190102120974077.\n"
     ]
    },
    {
     "name": "stderr",
     "output_type": "stream",
     "text": [
      "Best trial: 19. Best value: 0.61901:  25%|██▌       | 76/300 [1:01:41<2:58:21, 47.77s/it, 3701.56/14400 seconds]"
     ]
    },
    {
     "name": "stdout",
     "output_type": "stream",
     "text": [
      "[I 2025-08-11 00:50:26,585] Trial 75 finished with value: 0.616260162601626 and parameters: {'iterations': 5000, 'learning_rate': 0.03019979294630086, 'depth': 4, 'l2_leaf_reg': 7.011306107217005, 'bagging_temperature': 1.3447545328496866, 'random_strength': 0.6614423112691337, 'subsample': 0.725086148405997, 'rsm': 0.8490380147407309, 'scale_pos_weight': 1.7302508577589044}. Best is trial 19 with value: 0.6190102120974077.\n"
     ]
    },
    {
     "name": "stderr",
     "output_type": "stream",
     "text": [
      "Best trial: 19. Best value: 0.61901:  26%|██▌       | 77/300 [1:02:49<3:19:35, 53.70s/it, 3769.08/14400 seconds]"
     ]
    },
    {
     "name": "stdout",
     "output_type": "stream",
     "text": [
      "[I 2025-08-11 00:51:34,108] Trial 76 finished with value: 0.6108374384236454 and parameters: {'iterations': 4000, 'learning_rate': 0.02387924179209653, 'depth': 4, 'l2_leaf_reg': 8.18368522926145, 'bagging_temperature': 1.5399211972313354, 'random_strength': 0.6743396129653345, 'subsample': 0.7403360422718813, 'rsm': 0.7055753519079744, 'scale_pos_weight': 1.8362725923616119}. Best is trial 19 with value: 0.6190102120974077.\n"
     ]
    },
    {
     "name": "stderr",
     "output_type": "stream",
     "text": [
      "Best trial: 19. Best value: 0.61901:  26%|██▌       | 78/300 [1:03:40<3:15:39, 52.88s/it, 3820.05/14400 seconds]"
     ]
    },
    {
     "name": "stdout",
     "output_type": "stream",
     "text": [
      "[I 2025-08-11 00:52:25,077] Trial 77 finished with value: 0.610051993067591 and parameters: {'iterations': 4000, 'learning_rate': 0.03651220066230388, 'depth': 5, 'l2_leaf_reg': 2.961494067326132, 'bagging_temperature': 0.7418765322311485, 'random_strength': 1.5708628082265765, 'subsample': 0.748090756168317, 'rsm': 0.7873738189448967, 'scale_pos_weight': 1.9564221198556782}. Best is trial 19 with value: 0.6190102120974077.\n"
     ]
    },
    {
     "name": "stderr",
     "output_type": "stream",
     "text": [
      "Best trial: 19. Best value: 0.61901:  26%|██▋       | 79/300 [1:04:11<2:50:34, 46.31s/it, 3851.04/14400 seconds]"
     ]
    },
    {
     "name": "stdout",
     "output_type": "stream",
     "text": [
      "[I 2025-08-11 00:52:56,067] Trial 78 finished with value: 0.6131511528608027 and parameters: {'iterations': 8000, 'learning_rate': 0.07481163187696792, 'depth': 4, 'l2_leaf_reg': 2.0599618428954565, 'bagging_temperature': 1.1975078806989086, 'random_strength': 2.615548308304876, 'subsample': 0.7303296840625265, 'rsm': 0.707600971994176, 'scale_pos_weight': 1.662324683915878}. Best is trial 19 with value: 0.6190102120974077.\n"
     ]
    },
    {
     "name": "stderr",
     "output_type": "stream",
     "text": [
      "Best trial: 19. Best value: 0.61901:  27%|██▋       | 80/300 [1:05:03<2:56:18, 48.09s/it, 3903.26/14400 seconds]"
     ]
    },
    {
     "name": "stdout",
     "output_type": "stream",
     "text": [
      "[I 2025-08-11 00:53:48,293] Trial 79 finished with value: 0.608012568735271 and parameters: {'iterations': 4000, 'learning_rate': 0.04273859517618933, 'depth': 4, 'l2_leaf_reg': 27.419988207172096, 'bagging_temperature': 0.2604823218017893, 'random_strength': 0.6028208599365482, 'subsample': 0.7140391874632532, 'rsm': 0.9603221486589298, 'scale_pos_weight': 2.0183577467059974}. Best is trial 19 with value: 0.6190102120974077.\n"
     ]
    },
    {
     "name": "stderr",
     "output_type": "stream",
     "text": [
      "Best trial: 19. Best value: 0.61901:  27%|██▋       | 81/300 [1:06:19<3:26:35, 56.60s/it, 3979.74/14400 seconds]"
     ]
    },
    {
     "name": "stdout",
     "output_type": "stream",
     "text": [
      "[I 2025-08-11 00:55:04,776] Trial 80 finished with value: 0.6045751633986928 and parameters: {'iterations': 6000, 'learning_rate': 0.043060596081113844, 'depth': 5, 'l2_leaf_reg': 70.47103426951249, 'bagging_temperature': 2.352962701220493, 'random_strength': 2.9574426640817615, 'subsample': 0.7950007060441086, 'rsm': 0.7850145284410613, 'scale_pos_weight': 1.855693375408952}. Best is trial 19 with value: 0.6190102120974077.\n"
     ]
    },
    {
     "name": "stderr",
     "output_type": "stream",
     "text": [
      "Best trial: 19. Best value: 0.61901:  27%|██▋       | 82/300 [1:07:29<3:40:31, 60.69s/it, 4049.98/14400 seconds]"
     ]
    },
    {
     "name": "stdout",
     "output_type": "stream",
     "text": [
      "[I 2025-08-11 00:56:15,011] Trial 81 finished with value: 0.610648918469218 and parameters: {'iterations': 4000, 'learning_rate': 0.030328865984130322, 'depth': 4, 'l2_leaf_reg': 24.020272296014817, 'bagging_temperature': 1.612998624800992, 'random_strength': 0.6713464971561248, 'subsample': 0.711627346801192, 'rsm': 0.8631329027439008, 'scale_pos_weight': 1.4615567518045682}. Best is trial 19 with value: 0.6190102120974077.\n"
     ]
    },
    {
     "name": "stderr",
     "output_type": "stream",
     "text": [
      "Best trial: 19. Best value: 0.61901:  28%|██▊       | 83/300 [1:08:55<4:06:34, 68.18s/it, 4135.62/14400 seconds]"
     ]
    },
    {
     "name": "stdout",
     "output_type": "stream",
     "text": [
      "[I 2025-08-11 00:57:40,649] Trial 82 finished with value: 0.6079223928860146 and parameters: {'iterations': 6000, 'learning_rate': 0.025673784348286818, 'depth': 4, 'l2_leaf_reg': 23.026167298525035, 'bagging_temperature': 0.6945231848073072, 'random_strength': 1.8410886705104932, 'subsample': 0.7049706758499077, 'rsm': 0.777485311644781, 'scale_pos_weight': 1.7451041783005328}. Best is trial 19 with value: 0.6190102120974077.\n"
     ]
    },
    {
     "name": "stderr",
     "output_type": "stream",
     "text": [
      "Best trial: 19. Best value: 0.61901:  28%|██▊       | 84/300 [1:09:49<3:50:29, 64.03s/it, 4189.95/14400 seconds]"
     ]
    },
    {
     "name": "stdout",
     "output_type": "stream",
     "text": [
      "[I 2025-08-11 00:58:34,971] Trial 83 finished with value: 0.6025934401220442 and parameters: {'iterations': 8000, 'learning_rate': 0.024646251123185667, 'depth': 4, 'l2_leaf_reg': 0.24757650765615705, 'bagging_temperature': 4.522872756273722, 'random_strength': 1.7808583121507362, 'subsample': 0.8916845682533635, 'rsm': 0.8232337780952447, 'scale_pos_weight': 2.10640616972571}. Best is trial 19 with value: 0.6190102120974077.\n"
     ]
    },
    {
     "name": "stderr",
     "output_type": "stream",
     "text": [
      "Best trial: 19. Best value: 0.61901:  28%|██▊       | 85/300 [1:10:54<3:50:08, 64.23s/it, 4254.65/14400 seconds]"
     ]
    },
    {
     "name": "stdout",
     "output_type": "stream",
     "text": [
      "[I 2025-08-11 00:59:39,668] Trial 84 finished with value: 0.6109271523178808 and parameters: {'iterations': 6000, 'learning_rate': 0.021768272306143824, 'depth': 5, 'l2_leaf_reg': 5.907931940789421, 'bagging_temperature': 2.864134535262547, 'random_strength': 0.5655164750205417, 'subsample': 0.7108142922651209, 'rsm': 0.8724415699338236, 'scale_pos_weight': 2.054721962626738}. Best is trial 19 with value: 0.6190102120974077.\n"
     ]
    },
    {
     "name": "stderr",
     "output_type": "stream",
     "text": [
      "Best trial: 19. Best value: 0.61901:  29%|██▊       | 86/300 [1:11:38<3:26:55, 58.02s/it, 4298.18/14400 seconds]"
     ]
    },
    {
     "name": "stdout",
     "output_type": "stream",
     "text": [
      "[I 2025-08-11 01:00:23,213] Trial 85 finished with value: 0.6103216155572176 and parameters: {'iterations': 9000, 'learning_rate': 0.06558967513160444, 'depth': 4, 'l2_leaf_reg': 18.30943160312666, 'bagging_temperature': 1.4453804321133923, 'random_strength': 2.0161365772011095, 'subsample': 0.7074851011856607, 'rsm': 0.9084451270791153, 'scale_pos_weight': 1.344895103071273}. Best is trial 19 with value: 0.6190102120974077.\n"
     ]
    },
    {
     "name": "stderr",
     "output_type": "stream",
     "text": [
      "Best trial: 19. Best value: 0.61901:  29%|██▉       | 87/300 [1:12:30<3:20:12, 56.39s/it, 4350.79/14400 seconds]"
     ]
    },
    {
     "name": "stdout",
     "output_type": "stream",
     "text": [
      "[I 2025-08-11 01:01:15,826] Trial 86 finished with value: 0.6013462976813763 and parameters: {'iterations': 6000, 'learning_rate': 0.04568538713532489, 'depth': 6, 'l2_leaf_reg': 0.4666559665274424, 'bagging_temperature': 2.119170003049476, 'random_strength': 2.8296623419749865, 'subsample': 0.7388177091684851, 'rsm': 0.998517427202312, 'scale_pos_weight': 0.8787269870128196}. Best is trial 19 with value: 0.6190102120974077.\n"
     ]
    },
    {
     "name": "stderr",
     "output_type": "stream",
     "text": [
      "Best trial: 19. Best value: 0.61901:  29%|██▉       | 88/300 [1:13:17<3:08:31, 53.36s/it, 4397.06/14400 seconds]"
     ]
    },
    {
     "name": "stdout",
     "output_type": "stream",
     "text": [
      "[I 2025-08-11 01:02:02,097] Trial 87 finished with value: 0.6082877247849883 and parameters: {'iterations': 4000, 'learning_rate': 0.04338263259760231, 'depth': 4, 'l2_leaf_reg': 0.38061060792444024, 'bagging_temperature': 2.2188013934630653, 'random_strength': 2.9126846497643135, 'subsample': 0.8204404190449134, 'rsm': 0.8369928862684763, 'scale_pos_weight': 1.8770415589191238}. Best is trial 19 with value: 0.6190102120974077.\n"
     ]
    },
    {
     "name": "stderr",
     "output_type": "stream",
     "text": [
      "Best trial: 19. Best value: 0.61901:  30%|██▉       | 89/300 [1:13:50<2:46:27, 47.33s/it, 4430.34/14400 seconds]"
     ]
    },
    {
     "name": "stdout",
     "output_type": "stream",
     "text": [
      "[I 2025-08-11 01:02:35,367] Trial 88 finished with value: 0.6048265460030166 and parameters: {'iterations': 5000, 'learning_rate': 0.06613298995250584, 'depth': 4, 'l2_leaf_reg': 4.491947164220711, 'bagging_temperature': 0.4931852864966616, 'random_strength': 2.2574661956453466, 'subsample': 0.785255483815419, 'rsm': 0.7329795906828789, 'scale_pos_weight': 1.948144537522281}. Best is trial 19 with value: 0.6190102120974077.\n"
     ]
    },
    {
     "name": "stderr",
     "output_type": "stream",
     "text": [
      "Best trial: 19. Best value: 0.61901:  30%|███       | 90/300 [1:14:36<2:44:34, 47.02s/it, 4476.63/14400 seconds]"
     ]
    },
    {
     "name": "stdout",
     "output_type": "stream",
     "text": [
      "[I 2025-08-11 01:03:21,662] Trial 89 finished with value: 0.6028421839940165 and parameters: {'iterations': 6000, 'learning_rate': 0.02908935228850183, 'depth': 4, 'l2_leaf_reg': 0.16850689236005606, 'bagging_temperature': 1.1431540964348623, 'random_strength': 0.769034556191338, 'subsample': 0.7032435976553911, 'rsm': 0.8840576658983907, 'scale_pos_weight': 1.8644078983933976}. Best is trial 19 with value: 0.6190102120974077.\n"
     ]
    },
    {
     "name": "stderr",
     "output_type": "stream",
     "text": [
      "Best trial: 19. Best value: 0.61901:  30%|███       | 91/300 [1:15:22<2:42:41, 46.70s/it, 4522.59/14400 seconds]"
     ]
    },
    {
     "name": "stdout",
     "output_type": "stream",
     "text": [
      "[I 2025-08-11 01:04:07,621] Trial 90 finished with value: 0.6135338345864662 and parameters: {'iterations': 6000, 'learning_rate': 0.06787105237793198, 'depth': 4, 'l2_leaf_reg': 38.926924971205636, 'bagging_temperature': 0.061130393351278456, 'random_strength': 2.848863359282008, 'subsample': 0.7995462794857049, 'rsm': 0.7995874239879371, 'scale_pos_weight': 1.6945406731283492}. Best is trial 19 with value: 0.6190102120974077.\n"
     ]
    },
    {
     "name": "stderr",
     "output_type": "stream",
     "text": [
      "Best trial: 19. Best value: 0.61901:  31%|███       | 92/300 [1:16:14<2:47:29, 48.32s/it, 4574.66/14400 seconds]"
     ]
    },
    {
     "name": "stdout",
     "output_type": "stream",
     "text": [
      "[I 2025-08-11 01:04:59,696] Trial 91 finished with value: 0.6123778501628665 and parameters: {'iterations': 5000, 'learning_rate': 0.04169485381409965, 'depth': 4, 'l2_leaf_reg': 3.697093061848839, 'bagging_temperature': 1.1334557376582235, 'random_strength': 1.9999833978524804, 'subsample': 0.7711193725522699, 'rsm': 0.9844491392282997, 'scale_pos_weight': 1.1291719880526485}. Best is trial 19 with value: 0.6190102120974077.\n"
     ]
    },
    {
     "name": "stderr",
     "output_type": "stream",
     "text": [
      "Best trial: 19. Best value: 0.61901:  31%|███       | 93/300 [1:16:57<2:40:52, 46.63s/it, 4617.37/14400 seconds]"
     ]
    },
    {
     "name": "stdout",
     "output_type": "stream",
     "text": [
      "[I 2025-08-11 01:05:42,386] Trial 92 finished with value: 0.5978878960194963 and parameters: {'iterations': 6000, 'learning_rate': 0.04789034746097499, 'depth': 6, 'l2_leaf_reg': 0.9481962027020211, 'bagging_temperature': 0.7651951550062754, 'random_strength': 0.9626357572839561, 'subsample': 0.804292975930152, 'rsm': 0.7995995189617123, 'scale_pos_weight': 1.439748302651971}. Best is trial 19 with value: 0.6190102120974077.\n"
     ]
    },
    {
     "name": "stderr",
     "output_type": "stream",
     "text": [
      "Best trial: 19. Best value: 0.61901:  31%|███▏      | 94/300 [1:17:47<2:43:50, 47.72s/it, 4667.62/14400 seconds]"
     ]
    },
    {
     "name": "stdout",
     "output_type": "stream",
     "text": [
      "[I 2025-08-11 01:06:32,659] Trial 93 finished with value: 0.6063418406805878 and parameters: {'iterations': 11000, 'learning_rate': 0.03567994806096529, 'depth': 5, 'l2_leaf_reg': 16.97630599796362, 'bagging_temperature': 0.8050399801358235, 'random_strength': 0.5461070452482991, 'subsample': 0.7218678799570195, 'rsm': 0.8068872091869944, 'scale_pos_weight': 2.382194670751832}. Best is trial 19 with value: 0.6190102120974077.\n"
     ]
    },
    {
     "name": "stderr",
     "output_type": "stream",
     "text": [
      "Best trial: 19. Best value: 0.61901:  32%|███▏      | 95/300 [1:18:45<2:53:07, 50.67s/it, 4725.17/14400 seconds]"
     ]
    },
    {
     "name": "stdout",
     "output_type": "stream",
     "text": [
      "[I 2025-08-11 01:07:30,203] Trial 94 finished with value: 0.6041666666666666 and parameters: {'iterations': 4000, 'learning_rate': 0.03359182585225789, 'depth': 4, 'l2_leaf_reg': 7.420880376407964, 'bagging_temperature': 0.40314568157394615, 'random_strength': 1.670105106902743, 'subsample': 0.7401043223607577, 'rsm': 0.8081532226904236, 'scale_pos_weight': 1.4064105910940987}. Best is trial 19 with value: 0.6190102120974077.\n"
     ]
    },
    {
     "name": "stderr",
     "output_type": "stream",
     "text": [
      "Best trial: 19. Best value: 0.61901:  32%|███▏      | 96/300 [1:19:17<2:34:01, 45.30s/it, 4757.94/14400 seconds]"
     ]
    },
    {
     "name": "stdout",
     "output_type": "stream",
     "text": [
      "[I 2025-08-11 01:08:02,962] Trial 95 finished with value: 0.6048387096774194 and parameters: {'iterations': 7000, 'learning_rate': 0.05907786273421875, 'depth': 5, 'l2_leaf_reg': 0.0101962331469192, 'bagging_temperature': 1.4433444416496655, 'random_strength': 1.4754662072303062, 'subsample': 0.8666880327276989, 'rsm': 0.8472016686006255, 'scale_pos_weight': 1.1547339715131821}. Best is trial 19 with value: 0.6190102120974077.\n"
     ]
    },
    {
     "name": "stderr",
     "output_type": "stream",
     "text": [
      "Best trial: 19. Best value: 0.61901:  32%|███▏      | 97/300 [1:19:54<2:24:31, 42.72s/it, 4794.64/14400 seconds]"
     ]
    },
    {
     "name": "stdout",
     "output_type": "stream",
     "text": [
      "[I 2025-08-11 01:08:39,674] Trial 96 finished with value: 0.6072289156626506 and parameters: {'iterations': 4000, 'learning_rate': 0.09791103179389345, 'depth': 6, 'l2_leaf_reg': 15.292589422799459, 'bagging_temperature': 2.347069049502304, 'random_strength': 0.8893296252617859, 'subsample': 0.8670248175072173, 'rsm': 0.9653090578321397, 'scale_pos_weight': 1.0745428246750703}. Best is trial 19 with value: 0.6190102120974077.\n"
     ]
    },
    {
     "name": "stderr",
     "output_type": "stream",
     "text": [
      "Best trial: 19. Best value: 0.61901:  33%|███▎      | 98/300 [1:20:29<2:15:31, 40.26s/it, 4829.15/14400 seconds]"
     ]
    },
    {
     "name": "stdout",
     "output_type": "stream",
     "text": [
      "[I 2025-08-11 01:09:14,185] Trial 97 finished with value: 0.6156299840510366 and parameters: {'iterations': 11000, 'learning_rate': 0.04845941076267723, 'depth': 4, 'l2_leaf_reg': 0.249811336860922, 'bagging_temperature': 3.050107021068232, 'random_strength': 0.4683389647049824, 'subsample': 0.7014251982369438, 'rsm': 0.8522362508248462, 'scale_pos_weight': 2.1900283879586047}. Best is trial 19 with value: 0.6190102120974077.\n"
     ]
    },
    {
     "name": "stderr",
     "output_type": "stream",
     "text": [
      "Best trial: 19. Best value: 0.61901:  33%|███▎      | 99/300 [1:20:56<2:01:30, 36.27s/it, 4856.14/14400 seconds]"
     ]
    },
    {
     "name": "stdout",
     "output_type": "stream",
     "text": [
      "[I 2025-08-11 01:09:41,133] Trial 98 finished with value: 0.6096595407759303 and parameters: {'iterations': 10000, 'learning_rate': 0.06123114741224599, 'depth': 5, 'l2_leaf_reg': 0.29718592006183553, 'bagging_temperature': 3.6156919605759335, 'random_strength': 0.12144671961212528, 'subsample': 0.708374006694877, 'rsm': 0.8478619550847203, 'scale_pos_weight': 2.13683549910643}. Best is trial 19 with value: 0.6190102120974077.\n"
     ]
    },
    {
     "name": "stderr",
     "output_type": "stream",
     "text": [
      "Best trial: 19. Best value: 0.61901:  33%|███▎      | 100/300 [1:21:34<2:03:27, 37.04s/it, 4894.95/14400 seconds]"
     ]
    },
    {
     "name": "stdout",
     "output_type": "stream",
     "text": [
      "[I 2025-08-11 01:10:19,980] Trial 99 finished with value: 0.6063750926612306 and parameters: {'iterations': 12000, 'learning_rate': 0.03605217064656492, 'depth': 4, 'l2_leaf_reg': 0.023365026866516123, 'bagging_temperature': 2.8854108676386914, 'random_strength': 0.6851177809586911, 'subsample': 0.721523131281829, 'rsm': 0.9421726496468128, 'scale_pos_weight': 2.1128674804168113}. Best is trial 19 with value: 0.6190102120974077.\n"
     ]
    },
    {
     "name": "stderr",
     "output_type": "stream",
     "text": [
      "Best trial: 19. Best value: 0.61901:  34%|███▎      | 101/300 [1:22:25<2:15:50, 40.96s/it, 4945.05/14400 seconds]"
     ]
    },
    {
     "name": "stdout",
     "output_type": "stream",
     "text": [
      "[I 2025-08-11 01:11:10,074] Trial 100 finished with value: 0.6060606060606061 and parameters: {'iterations': 9000, 'learning_rate': 0.03482749951629659, 'depth': 4, 'l2_leaf_reg': 4.393894104285951, 'bagging_temperature': 3.404052328189983, 'random_strength': 1.0704012977861304, 'subsample': 0.7006271576998618, 'rsm': 0.798229028349487, 'scale_pos_weight': 1.9913192047254322}. Best is trial 19 with value: 0.6190102120974077.\n"
     ]
    },
    {
     "name": "stderr",
     "output_type": "stream",
     "text": [
      "Best trial: 19. Best value: 0.61901:  34%|███▍      | 102/300 [1:23:10<2:19:50, 42.38s/it, 4990.74/14400 seconds]"
     ]
    },
    {
     "name": "stdout",
     "output_type": "stream",
     "text": [
      "[I 2025-08-11 01:11:55,770] Trial 101 finished with value: 0.607115821347464 and parameters: {'iterations': 12000, 'learning_rate': 0.04701109003437438, 'depth': 4, 'l2_leaf_reg': 10.621349020981603, 'bagging_temperature': 2.2941302431531656, 'random_strength': 1.1604265595962313, 'subsample': 0.7451463748659868, 'rsm': 0.9531638287699715, 'scale_pos_weight': 2.011787046302548}. Best is trial 19 with value: 0.6190102120974077.\n"
     ]
    },
    {
     "name": "stderr",
     "output_type": "stream",
     "text": [
      "Best trial: 19. Best value: 0.61901:  34%|███▍      | 103/300 [1:23:58<2:24:54, 44.14s/it, 5038.98/14400 seconds]"
     ]
    },
    {
     "name": "stdout",
     "output_type": "stream",
     "text": [
      "[I 2025-08-11 01:12:44,019] Trial 102 finished with value: 0.6088303640588691 and parameters: {'iterations': 4000, 'learning_rate': 0.04087113857473531, 'depth': 5, 'l2_leaf_reg': 0.1313943616077739, 'bagging_temperature': 0.3321984039733614, 'random_strength': 2.7197762498623868, 'subsample': 0.7783250786244313, 'rsm': 0.8596495041277264, 'scale_pos_weight': 0.8973609176010846}. Best is trial 19 with value: 0.6190102120974077.\n"
     ]
    },
    {
     "name": "stderr",
     "output_type": "stream",
     "text": [
      "Best trial: 19. Best value: 0.61901:  35%|███▍      | 104/300 [1:25:17<2:57:49, 54.44s/it, 5117.46/14400 seconds]"
     ]
    },
    {
     "name": "stdout",
     "output_type": "stream",
     "text": [
      "[I 2025-08-11 01:14:02,492] Trial 103 finished with value: 0.6070878274268104 and parameters: {'iterations': 7000, 'learning_rate': 0.023413486632377238, 'depth': 5, 'l2_leaf_reg': 12.243288645984194, 'bagging_temperature': 7.483310913500817, 'random_strength': 0.9282581726848141, 'subsample': 0.8671253912111498, 'rsm': 0.8872087307941626, 'scale_pos_weight': 1.8225369334462915}. Best is trial 19 with value: 0.6190102120974077.\n"
     ]
    },
    {
     "name": "stderr",
     "output_type": "stream",
     "text": [
      "Best trial: 19. Best value: 0.61901:  35%|███▌      | 105/300 [1:25:47<2:32:49, 47.02s/it, 5147.18/14400 seconds]"
     ]
    },
    {
     "name": "stdout",
     "output_type": "stream",
     "text": [
      "[I 2025-08-11 01:14:32,200] Trial 104 finished with value: 0.6117467581998475 and parameters: {'iterations': 12000, 'learning_rate': 0.06469236633576884, 'depth': 4, 'l2_leaf_reg': 0.025054944094996867, 'bagging_temperature': 3.631218273198063, 'random_strength': 1.3303568047668497, 'subsample': 0.7149252115469634, 'rsm': 0.7302579449739748, 'scale_pos_weight': 2.0102385793576545}. Best is trial 19 with value: 0.6190102120974077.\n"
     ]
    },
    {
     "name": "stderr",
     "output_type": "stream",
     "text": [
      "Best trial: 19. Best value: 0.61901:  35%|███▌      | 106/300 [1:26:36<2:33:59, 47.63s/it, 5196.22/14400 seconds]"
     ]
    },
    {
     "name": "stdout",
     "output_type": "stream",
     "text": [
      "[I 2025-08-11 01:15:21,257] Trial 105 finished with value: 0.6143682906688687 and parameters: {'iterations': 12000, 'learning_rate': 0.026152789441268105, 'depth': 4, 'l2_leaf_reg': 0.4199754300368421, 'bagging_temperature': 2.3143533506942155, 'random_strength': 0.62221426118052, 'subsample': 0.7086189524495891, 'rsm': 0.8249261262528886, 'scale_pos_weight': 2.053428626545582}. Best is trial 19 with value: 0.6190102120974077.\n"
     ]
    },
    {
     "name": "stderr",
     "output_type": "stream",
     "text": [
      "Best trial: 19. Best value: 0.61901:  36%|███▌      | 107/300 [1:27:20<2:30:12, 46.70s/it, 5240.75/14400 seconds]"
     ]
    },
    {
     "name": "stdout",
     "output_type": "stream",
     "text": [
      "[I 2025-08-11 01:16:05,781] Trial 106 finished with value: 0.6084381939304219 and parameters: {'iterations': 11000, 'learning_rate': 0.029559953239980136, 'depth': 4, 'l2_leaf_reg': 0.6282716436345783, 'bagging_temperature': 2.703070781733146, 'random_strength': 0.13552874016714242, 'subsample': 0.7386272347646816, 'rsm': 0.7895594089236074, 'scale_pos_weight': 2.2988163354437487}. Best is trial 19 with value: 0.6190102120974077.\n"
     ]
    },
    {
     "name": "stderr",
     "output_type": "stream",
     "text": [
      "Best trial: 19. Best value: 0.61901:  36%|███▌      | 108/300 [1:28:23<2:45:04, 51.58s/it, 5303.73/14400 seconds]"
     ]
    },
    {
     "name": "stdout",
     "output_type": "stream",
     "text": [
      "[I 2025-08-11 01:17:08,757] Trial 107 finished with value: 0.6158833063209076 and parameters: {'iterations': 12000, 'learning_rate': 0.02076004711885549, 'depth': 4, 'l2_leaf_reg': 5.547524229441682, 'bagging_temperature': 3.2014848486609346, 'random_strength': 0.3612688563554576, 'subsample': 0.704735158108703, 'rsm': 0.9384509576594706, 'scale_pos_weight': 2.3600904293429785}. Best is trial 19 with value: 0.6190102120974077.\n"
     ]
    },
    {
     "name": "stderr",
     "output_type": "stream",
     "text": [
      "Best trial: 19. Best value: 0.61901:  36%|███▋      | 109/300 [1:29:23<2:52:23, 54.15s/it, 5363.88/14400 seconds]"
     ]
    },
    {
     "name": "stdout",
     "output_type": "stream",
     "text": [
      "[I 2025-08-11 01:18:08,920] Trial 108 finished with value: 0.6021341463414634 and parameters: {'iterations': 12000, 'learning_rate': 0.022089129125155604, 'depth': 4, 'l2_leaf_reg': 1.0768396623698022, 'bagging_temperature': 2.783877651388798, 'random_strength': 0.4572322841288668, 'subsample': 0.7603959033189065, 'rsm': 0.9305664196941671, 'scale_pos_weight': 1.8345266862467153}. Best is trial 19 with value: 0.6190102120974077.\n"
     ]
    },
    {
     "name": "stderr",
     "output_type": "stream",
     "text": [
      "Best trial: 19. Best value: 0.61901:  37%|███▋      | 110/300 [1:30:27<3:00:39, 57.05s/it, 5427.69/14400 seconds]"
     ]
    },
    {
     "name": "stdout",
     "output_type": "stream",
     "text": [
      "[I 2025-08-11 01:19:12,719] Trial 109 finished with value: 0.6092916984006093 and parameters: {'iterations': 7000, 'learning_rate': 0.024652797047641714, 'depth': 4, 'l2_leaf_reg': 7.226473401767021, 'bagging_temperature': 0.3864337624969294, 'random_strength': 0.3596609450520829, 'subsample': 0.7605322509798661, 'rsm': 0.8839367480608981, 'scale_pos_weight': 1.4649713805762892}. Best is trial 19 with value: 0.6190102120974077.\n"
     ]
    },
    {
     "name": "stderr",
     "output_type": "stream",
     "text": [
      "Best trial: 19. Best value: 0.61901:  37%|███▋      | 111/300 [1:32:16<3:48:53, 72.66s/it, 5536.78/14400 seconds]"
     ]
    },
    {
     "name": "stdout",
     "output_type": "stream",
     "text": [
      "[I 2025-08-11 01:21:01,816] Trial 110 finished with value: 0.6053268765133172 and parameters: {'iterations': 11000, 'learning_rate': 0.02488142869480297, 'depth': 4, 'l2_leaf_reg': 79.47046955958339, 'bagging_temperature': 5.011257898795127, 'random_strength': 0.27836612096054913, 'subsample': 0.7659186071180503, 'rsm': 0.9162472509922106, 'scale_pos_weight': 2.460897534093221}. Best is trial 19 with value: 0.6190102120974077.\n"
     ]
    },
    {
     "name": "stderr",
     "output_type": "stream",
     "text": [
      "Best trial: 19. Best value: 0.61901:  37%|███▋      | 112/300 [1:33:37<3:54:46, 74.93s/it, 5617.00/14400 seconds]"
     ]
    },
    {
     "name": "stdout",
     "output_type": "stream",
     "text": [
      "[I 2025-08-11 01:22:22,021] Trial 111 finished with value: 0.6014669926650367 and parameters: {'iterations': 8000, 'learning_rate': 0.030967958752306013, 'depth': 4, 'l2_leaf_reg': 29.858362049841713, 'bagging_temperature': 4.038279335831779, 'random_strength': 1.3010168881039883, 'subsample': 0.8535900433871331, 'rsm': 0.9089716347755349, 'scale_pos_weight': 2.0768664378306867}. Best is trial 19 with value: 0.6190102120974077.\n"
     ]
    },
    {
     "name": "stderr",
     "output_type": "stream",
     "text": [
      "Best trial: 19. Best value: 0.61901:  38%|███▊      | 113/300 [1:34:40<3:42:41, 71.45s/it, 5680.31/14400 seconds]"
     ]
    },
    {
     "name": "stdout",
     "output_type": "stream",
     "text": [
      "[I 2025-08-11 01:23:25,349] Trial 112 finished with value: 0.6145755071374907 and parameters: {'iterations': 12000, 'learning_rate': 0.020542018308462303, 'depth': 4, 'l2_leaf_reg': 2.2654410731664645, 'bagging_temperature': 1.424445862967946, 'random_strength': 0.36389290649237943, 'subsample': 0.7596346422821417, 'rsm': 0.9750397810616025, 'scale_pos_weight': 2.307018813347791}. Best is trial 19 with value: 0.6190102120974077.\n"
     ]
    },
    {
     "name": "stderr",
     "output_type": "stream",
     "text": [
      "Best trial: 19. Best value: 0.61901:  38%|███▊      | 114/300 [1:35:32<3:23:09, 65.53s/it, 5732.06/14400 seconds]"
     ]
    },
    {
     "name": "stdout",
     "output_type": "stream",
     "text": [
      "[I 2025-08-11 01:24:17,080] Trial 113 finished with value: 0.6048632218844985 and parameters: {'iterations': 10000, 'learning_rate': 0.02233646777757455, 'depth': 4, 'l2_leaf_reg': 0.043761750947899795, 'bagging_temperature': 1.9109897623244625, 'random_strength': 0.704942418734376, 'subsample': 0.7966579561700688, 'rsm': 0.9269822148955696, 'scale_pos_weight': 2.3021330599616467}. Best is trial 19 with value: 0.6190102120974077.\n"
     ]
    },
    {
     "name": "stderr",
     "output_type": "stream",
     "text": [
      "Best trial: 19. Best value: 0.61901:  38%|███▊      | 115/300 [1:36:18<3:04:28, 59.83s/it, 5778.58/14400 seconds]"
     ]
    },
    {
     "name": "stdout",
     "output_type": "stream",
     "text": [
      "[I 2025-08-11 01:25:03,581] Trial 114 finished with value: 0.6076595744680852 and parameters: {'iterations': 12000, 'learning_rate': 0.03217942168550947, 'depth': 5, 'l2_leaf_reg': 1.0870512411918931, 'bagging_temperature': 3.4228926797702175, 'random_strength': 0.8200848694643195, 'subsample': 0.7352120143926607, 'rsm': 0.8926727379331256, 'scale_pos_weight': 2.4218628522673034}. Best is trial 19 with value: 0.6190102120974077.\n"
     ]
    },
    {
     "name": "stderr",
     "output_type": "stream",
     "text": [
      "Best trial: 19. Best value: 0.61901:  39%|███▊      | 116/300 [1:37:11<2:56:48, 57.66s/it, 5831.17/14400 seconds]"
     ]
    },
    {
     "name": "stdout",
     "output_type": "stream",
     "text": [
      "[I 2025-08-11 01:25:56,191] Trial 115 finished with value: 0.611837048424289 and parameters: {'iterations': 6000, 'learning_rate': 0.04002201109629801, 'depth': 5, 'l2_leaf_reg': 16.334284351515688, 'bagging_temperature': 1.2865256972589083, 'random_strength': 2.3523014240318028, 'subsample': 0.7157353022045992, 'rsm': 0.6997835522843789, 'scale_pos_weight': 2.426749267406693}. Best is trial 19 with value: 0.6190102120974077.\n"
     ]
    },
    {
     "name": "stderr",
     "output_type": "stream",
     "text": [
      "Best trial: 19. Best value: 0.61901:  39%|███▉      | 117/300 [1:38:03<2:50:55, 56.04s/it, 5883.44/14400 seconds]"
     ]
    },
    {
     "name": "stdout",
     "output_type": "stream",
     "text": [
      "[I 2025-08-11 01:26:48,466] Trial 116 finished with value: 0.6143896523848019 and parameters: {'iterations': 12000, 'learning_rate': 0.027225166538181633, 'depth': 4, 'l2_leaf_reg': 2.4881874345478594, 'bagging_temperature': 2.004545204652521, 'random_strength': 0.6550708505737142, 'subsample': 0.7739115333336464, 'rsm': 0.9050663006375894, 'scale_pos_weight': 2.442416032262753}. Best is trial 19 with value: 0.6190102120974077.\n"
     ]
    },
    {
     "name": "stderr",
     "output_type": "stream",
     "text": [
      "Best trial: 19. Best value: 0.61901:  39%|███▉      | 118/300 [1:39:06<2:56:06, 58.06s/it, 5946.20/14400 seconds]"
     ]
    },
    {
     "name": "stdout",
     "output_type": "stream",
     "text": [
      "[I 2025-08-11 01:27:51,200] Trial 117 finished with value: 0.6047700170357752 and parameters: {'iterations': 8000, 'learning_rate': 0.02910253188953033, 'depth': 5, 'l2_leaf_reg': 14.879245852356997, 'bagging_temperature': 2.0374510649704134, 'random_strength': 0.22097454249500942, 'subsample': 0.815378219008797, 'rsm': 0.7268262221467419, 'scale_pos_weight': 2.185688222750123}. Best is trial 19 with value: 0.6190102120974077.\n"
     ]
    },
    {
     "name": "stderr",
     "output_type": "stream",
     "text": [
      "Best trial: 19. Best value: 0.61901:  40%|███▉      | 119/300 [1:39:48<2:40:41, 53.27s/it, 5988.30/14400 seconds]"
     ]
    },
    {
     "name": "stdout",
     "output_type": "stream",
     "text": [
      "[I 2025-08-11 01:28:33,338] Trial 118 finished with value: 0.6099173553719008 and parameters: {'iterations': 7000, 'learning_rate': 0.05161975562572536, 'depth': 4, 'l2_leaf_reg': 6.087161242992895, 'bagging_temperature': 0.8437140525150519, 'random_strength': 2.085648983244216, 'subsample': 0.7158493935290823, 'rsm': 0.9651265140500541, 'scale_pos_weight': 1.7360702439145215}. Best is trial 19 with value: 0.6190102120974077.\n"
     ]
    },
    {
     "name": "stderr",
     "output_type": "stream",
     "text": [
      "Best trial: 19. Best value: 0.61901:  40%|████      | 120/300 [1:40:59<2:55:51, 58.62s/it, 6059.39/14400 seconds]"
     ]
    },
    {
     "name": "stdout",
     "output_type": "stream",
     "text": [
      "[I 2025-08-11 01:29:44,409] Trial 119 finished with value: 0.6143896523848019 and parameters: {'iterations': 12000, 'learning_rate': 0.020509306861753764, 'depth': 4, 'l2_leaf_reg': 8.118789420862184, 'bagging_temperature': 1.844529416942499, 'random_strength': 0.2607866477848197, 'subsample': 0.7471617288852865, 'rsm': 0.963864234170854, 'scale_pos_weight': 2.407238941506463}. Best is trial 19 with value: 0.6190102120974077.\n"
     ]
    },
    {
     "name": "stderr",
     "output_type": "stream",
     "text": [
      "Best trial: 19. Best value: 0.61901:  40%|████      | 121/300 [1:42:18<3:13:33, 64.88s/it, 6138.89/14400 seconds]"
     ]
    },
    {
     "name": "stdout",
     "output_type": "stream",
     "text": [
      "[I 2025-08-11 01:31:03,924] Trial 120 finished with value: 0.5941080196399345 and parameters: {'iterations': 12000, 'learning_rate': 0.027914048338008, 'depth': 6, 'l2_leaf_reg': 38.46981265088489, 'bagging_temperature': 1.1006868505588732, 'random_strength': 1.3043164332514805, 'subsample': 0.8578789012324451, 'rsm': 0.9095060328483672, 'scale_pos_weight': 2.4539497690411545}. Best is trial 19 with value: 0.6190102120974077.\n"
     ]
    },
    {
     "name": "stderr",
     "output_type": "stream",
     "text": [
      "Best trial: 19. Best value: 0.61901:  41%|████      | 122/300 [1:43:13<3:03:21, 61.81s/it, 6193.52/14400 seconds]"
     ]
    },
    {
     "name": "stdout",
     "output_type": "stream",
     "text": [
      "[I 2025-08-11 01:31:58,557] Trial 121 finished with value: 0.6100917431192661 and parameters: {'iterations': 12000, 'learning_rate': 0.027722480248879276, 'depth': 5, 'l2_leaf_reg': 9.074674623387432, 'bagging_temperature': 0.87609614758161, 'random_strength': 0.39385367635638796, 'subsample': 0.7788728925499164, 'rsm': 0.9755441102606025, 'scale_pos_weight': 2.4116284790916938}. Best is trial 19 with value: 0.6190102120974077.\n"
     ]
    },
    {
     "name": "stderr",
     "output_type": "stream",
     "text": [
      "Best trial: 19. Best value: 0.61901:  41%|████      | 123/300 [1:44:39<3:24:02, 69.17s/it, 6279.87/14400 seconds]"
     ]
    },
    {
     "name": "stdout",
     "output_type": "stream",
     "text": [
      "[I 2025-08-11 01:33:24,915] Trial 122 finished with value: 0.607085346215781 and parameters: {'iterations': 11000, 'learning_rate': 0.02480693820151721, 'depth': 4, 'l2_leaf_reg': 43.96786644753567, 'bagging_temperature': 2.460542015374311, 'random_strength': 1.0643476360428747, 'subsample': 0.7875355472376264, 'rsm': 0.8882473593519364, 'scale_pos_weight': 2.3826951758680956}. Best is trial 19 with value: 0.6190102120974077.\n"
     ]
    },
    {
     "name": "stderr",
     "output_type": "stream",
     "text": [
      "Best trial: 19. Best value: 0.61901:  41%|████▏     | 124/300 [1:45:17<2:54:53, 59.62s/it, 6317.22/14400 seconds]"
     ]
    },
    {
     "name": "stdout",
     "output_type": "stream",
     "text": [
      "[I 2025-08-11 01:34:02,263] Trial 123 finished with value: 0.6065573770491803 and parameters: {'iterations': 7000, 'learning_rate': 0.0457431545217397, 'depth': 5, 'l2_leaf_reg': 4.274194821963025, 'bagging_temperature': 2.295013822883126, 'random_strength': 0.13420025617597664, 'subsample': 0.7036636746738906, 'rsm': 0.7711625653930987, 'scale_pos_weight': 1.391590802880891}. Best is trial 19 with value: 0.6190102120974077.\n"
     ]
    },
    {
     "name": "stderr",
     "output_type": "stream",
     "text": [
      "Best trial: 19. Best value: 0.61901:  42%|████▏     | 125/300 [1:45:54<2:34:33, 52.99s/it, 6354.75/14400 seconds]"
     ]
    },
    {
     "name": "stdout",
     "output_type": "stream",
     "text": [
      "[I 2025-08-11 01:34:39,793] Trial 124 finished with value: 0.6130573248407644 and parameters: {'iterations': 11000, 'learning_rate': 0.02852509847064277, 'depth': 4, 'l2_leaf_reg': 0.7110495899502511, 'bagging_temperature': 1.653528617835548, 'random_strength': 0.5290402954886002, 'subsample': 0.7836267292567002, 'rsm': 0.9929088578856867, 'scale_pos_weight': 2.4679292306900993}. Best is trial 19 with value: 0.6190102120974077.\n"
     ]
    },
    {
     "name": "stderr",
     "output_type": "stream",
     "text": [
      "Best trial: 19. Best value: 0.61901:  42%|████▏     | 126/300 [1:46:38<2:25:45, 50.26s/it, 6398.63/14400 seconds]"
     ]
    },
    {
     "name": "stdout",
     "output_type": "stream",
     "text": [
      "[I 2025-08-11 01:35:23,677] Trial 125 finished with value: 0.6140209508460919 and parameters: {'iterations': 5000, 'learning_rate': 0.032547549523494125, 'depth': 4, 'l2_leaf_reg': 7.574332851257108, 'bagging_temperature': 2.4672325604818814, 'random_strength': 0.40068387400357475, 'subsample': 0.7984941027221492, 'rsm': 0.8340998416119135, 'scale_pos_weight': 1.8390987973158446}. Best is trial 19 with value: 0.6190102120974077.\n"
     ]
    },
    {
     "name": "stderr",
     "output_type": "stream",
     "text": [
      "Best trial: 19. Best value: 0.61901:  42%|████▏     | 127/300 [1:47:48<2:41:27, 56.00s/it, 6468.00/14400 seconds]"
     ]
    },
    {
     "name": "stdout",
     "output_type": "stream",
     "text": [
      "[I 2025-08-11 01:36:33,047] Trial 126 finished with value: 0.6096959737058341 and parameters: {'iterations': 12000, 'learning_rate': 0.02052295454359942, 'depth': 4, 'l2_leaf_reg': 42.83036985584147, 'bagging_temperature': 0.5514516605820121, 'random_strength': 0.5561915338817406, 'subsample': 0.7563439043569267, 'rsm': 0.8811371588356887, 'scale_pos_weight': 2.2637284631332797}. Best is trial 19 with value: 0.6190102120974077.\n"
     ]
    },
    {
     "name": "stderr",
     "output_type": "stream",
     "text": [
      "Best trial: 19. Best value: 0.61901:  43%|████▎     | 128/300 [1:48:28<2:27:07, 51.32s/it, 6508.42/14400 seconds]"
     ]
    },
    {
     "name": "stdout",
     "output_type": "stream",
     "text": [
      "[I 2025-08-11 01:37:13,468] Trial 127 finished with value: 0.6090675791274593 and parameters: {'iterations': 5000, 'learning_rate': 0.05615309963352519, 'depth': 4, 'l2_leaf_reg': 27.025718541036092, 'bagging_temperature': 0.26883597519930663, 'random_strength': 1.1748676769795199, 'subsample': 0.7090808423895291, 'rsm': 0.808359256990258, 'scale_pos_weight': 1.995894257877809}. Best is trial 19 with value: 0.6190102120974077.\n"
     ]
    },
    {
     "name": "stderr",
     "output_type": "stream",
     "text": [
      "Best trial: 19. Best value: 0.61901:  43%|████▎     | 129/300 [1:48:58<2:08:26, 45.06s/it, 6538.87/14400 seconds]"
     ]
    },
    {
     "name": "stdout",
     "output_type": "stream",
     "text": [
      "[I 2025-08-11 01:37:43,906] Trial 128 finished with value: 0.6105733432613552 and parameters: {'iterations': 5000, 'learning_rate': 0.06357678399480063, 'depth': 4, 'l2_leaf_reg': 0.686512156464315, 'bagging_temperature': 2.5398958782395074, 'random_strength': 1.662547566527203, 'subsample': 0.7131969378842375, 'rsm': 0.778923637401311, 'scale_pos_weight': 1.6189142626402429}. Best is trial 19 with value: 0.6190102120974077.\n"
     ]
    },
    {
     "name": "stderr",
     "output_type": "stream",
     "text": [
      "Best trial: 19. Best value: 0.61901:  43%|████▎     | 130/300 [1:50:07<2:27:25, 52.03s/it, 6607.18/14400 seconds]"
     ]
    },
    {
     "name": "stdout",
     "output_type": "stream",
     "text": [
      "[I 2025-08-11 01:38:52,209] Trial 129 finished with value: 0.6121495327102804 and parameters: {'iterations': 11000, 'learning_rate': 0.027715147185869492, 'depth': 4, 'l2_leaf_reg': 21.045282993880516, 'bagging_temperature': 3.5761152407740004, 'random_strength': 0.3234183962812928, 'subsample': 0.7071587725136602, 'rsm': 0.9868955339408075, 'scale_pos_weight': 2.4108273224129966}. Best is trial 19 with value: 0.6190102120974077.\n"
     ]
    },
    {
     "name": "stderr",
     "output_type": "stream",
     "text": [
      "Best trial: 19. Best value: 0.61901:  44%|████▎     | 131/300 [1:50:50<2:19:28, 49.52s/it, 6650.82/14400 seconds]"
     ]
    },
    {
     "name": "stdout",
     "output_type": "stream",
     "text": [
      "[I 2025-08-11 01:39:35,843] Trial 130 finished with value: 0.6135265700483091 and parameters: {'iterations': 12000, 'learning_rate': 0.023461697618827704, 'depth': 4, 'l2_leaf_reg': 0.380553407334919, 'bagging_temperature': 0.8320707023888008, 'random_strength': 0.0709754088783357, 'subsample': 0.7133084751507012, 'rsm': 0.8977876334641797, 'scale_pos_weight': 2.2278898452107843}. Best is trial 19 with value: 0.6190102120974077.\n"
     ]
    },
    {
     "name": "stderr",
     "output_type": "stream",
     "text": [
      "Best trial: 19. Best value: 0.61901:  44%|████▎     | 131/300 [1:51:47<2:19:28, 49.52s/it, 6650.82/14400 seconds]"
     ]
    },
    {
     "name": "stdout",
     "output_type": "stream",
     "text": [
      "[I 2025-08-11 01:40:32,523] Trial 131 finished with value: 0.6031007751937985 and parameters: {'iterations': 4000, 'learning_rate': 0.04450814741994384, 'depth': 6, 'l2_leaf_reg': 3.4645901929229246, 'bagging_temperature': 1.6213008737548096, 'random_strength': 1.5711166400824537, 'subsample': 0.851779136097285, 'rsm': 0.9778518213087464, 'scale_pos_weight': 0.9111397887552272}. Best is trial 19 with value: 0.6190102120974077.\n"
     ]
    },
    {
     "name": "stderr",
     "output_type": "stream",
     "text": [
      "Best trial: 19. Best value: 0.61901:  44%|████▍     | 133/300 [1:52:53<2:35:52, 56.01s/it, 6773.63/14400 seconds]"
     ]
    },
    {
     "name": "stdout",
     "output_type": "stream",
     "text": [
      "[I 2025-08-11 01:41:38,664] Trial 132 finished with value: 0.6115107913669064 and parameters: {'iterations': 12000, 'learning_rate': 0.02220846711432824, 'depth': 4, 'l2_leaf_reg': 0.14692483921727179, 'bagging_temperature': 3.908880740386133, 'random_strength': 0.8047281762167705, 'subsample': 0.7193658324136925, 'rsm': 0.7305604365509095, 'scale_pos_weight': 1.5201104389727693}. Best is trial 19 with value: 0.6190102120974077.\n"
     ]
    },
    {
     "name": "stderr",
     "output_type": "stream",
     "text": [
      "Best trial: 19. Best value: 0.61901:  45%|████▍     | 134/300 [1:53:45<2:31:42, 54.83s/it, 6825.74/14400 seconds]"
     ]
    },
    {
     "name": "stdout",
     "output_type": "stream",
     "text": [
      "[I 2025-08-11 01:42:30,771] Trial 133 finished with value: 0.6076923076923076 and parameters: {'iterations': 12000, 'learning_rate': 0.02033092234628889, 'depth': 4, 'l2_leaf_reg': 0.642443952057877, 'bagging_temperature': 3.7662573515075612, 'random_strength': 0.4040254114455112, 'subsample': 0.7569833586040713, 'rsm': 0.9879626814918532, 'scale_pos_weight': 2.4876831945789553}. Best is trial 19 with value: 0.6190102120974077.\n"
     ]
    },
    {
     "name": "stderr",
     "output_type": "stream",
     "text": [
      "Best trial: 19. Best value: 0.61901:  45%|████▌     | 135/300 [1:54:41<2:31:49, 55.21s/it, 6825.74/14400 seconds]"
     ]
    },
    {
     "name": "stdout",
     "output_type": "stream",
     "text": [
      "[I 2025-08-11 01:43:26,824] Trial 134 finished with value: 0.6087649402390438 and parameters: {'iterations': 4000, 'learning_rate': 0.03526243662012796, 'depth': 4, 'l2_leaf_reg': 8.404929916185349, 'bagging_temperature': 0.9379017548825888, 'random_strength': 2.2921822435085257, 'subsample': 0.7478942113092546, 'rsm': 0.7925716985079866, 'scale_pos_weight': 2.1449518989357284}. Best is trial 19 with value: 0.6190102120974077.\n"
     ]
    },
    {
     "name": "stderr",
     "output_type": "stream",
     "text": [
      "Best trial: 19. Best value: 0.61901:  45%|████▌     | 136/300 [1:55:34<2:28:41, 54.40s/it, 6934.34/14400 seconds]"
     ]
    },
    {
     "name": "stdout",
     "output_type": "stream",
     "text": [
      "[I 2025-08-11 01:44:19,372] Trial 135 finished with value: 0.6036789297658863 and parameters: {'iterations': 4000, 'learning_rate': 0.030678016846856438, 'depth': 4, 'l2_leaf_reg': 0.06614766643644492, 'bagging_temperature': 2.3825720917879565, 'random_strength': 2.5530748870784614, 'subsample': 0.7537495315843378, 'rsm': 0.9504863682573146, 'scale_pos_weight': 1.6339681569482891}. Best is trial 19 with value: 0.6190102120974077.\n"
     ]
    },
    {
     "name": "stderr",
     "output_type": "stream",
     "text": [
      "Best trial: 19. Best value: 0.61901:  46%|████▌     | 137/300 [1:56:08<2:11:16, 48.32s/it, 6968.49/14400 seconds]"
     ]
    },
    {
     "name": "stdout",
     "output_type": "stream",
     "text": [
      "[I 2025-08-11 01:44:53,521] Trial 136 finished with value: 0.6040609137055838 and parameters: {'iterations': 4000, 'learning_rate': 0.08116965065344932, 'depth': 5, 'l2_leaf_reg': 0.6091309028841354, 'bagging_temperature': 2.5741900523151346, 'random_strength': 2.300242186713466, 'subsample': 0.8195890858546621, 'rsm': 0.9223443841788453, 'scale_pos_weight': 1.0895906657148535}. Best is trial 19 with value: 0.6190102120974077.\n"
     ]
    },
    {
     "name": "stderr",
     "output_type": "stream",
     "text": [
      "Best trial: 19. Best value: 0.61901:  46%|████▌     | 138/300 [1:56:41<1:58:11, 43.78s/it, 7001.64/14400 seconds]"
     ]
    },
    {
     "name": "stdout",
     "output_type": "stream",
     "text": [
      "[I 2025-08-11 01:45:26,662] Trial 137 finished with value: 0.609984399375975 and parameters: {'iterations': 12000, 'learning_rate': 0.048873387738784115, 'depth': 4, 'l2_leaf_reg': 0.22540170977088322, 'bagging_temperature': 3.619241560535018, 'random_strength': 0.4379934557754881, 'subsample': 0.7414011102416936, 'rsm': 0.796443549133748, 'scale_pos_weight': 1.8162049979285073}. Best is trial 19 with value: 0.6190102120974077.\n"
     ]
    },
    {
     "name": "stderr",
     "output_type": "stream",
     "text": [
      "Best trial: 19. Best value: 0.61901:  46%|████▋     | 139/300 [1:57:38<2:08:10, 47.77s/it, 7058.72/14400 seconds]"
     ]
    },
    {
     "name": "stdout",
     "output_type": "stream",
     "text": [
      "[I 2025-08-11 01:46:23,752] Trial 138 finished with value: 0.6066838046272494 and parameters: {'iterations': 4000, 'learning_rate': 0.049903929516098657, 'depth': 4, 'l2_leaf_reg': 74.92300876576064, 'bagging_temperature': 0.43354661868516364, 'random_strength': 2.0011143690783917, 'subsample': 0.7545871871574059, 'rsm': 0.6821553319716038, 'scale_pos_weight': 1.6974020594597363}. Best is trial 19 with value: 0.6190102120974077.\n"
     ]
    },
    {
     "name": "stderr",
     "output_type": "stream",
     "text": [
      "Best trial: 19. Best value: 0.61901:  47%|████▋     | 140/300 [1:58:36<2:15:40, 50.88s/it, 7116.87/14400 seconds]"
     ]
    },
    {
     "name": "stdout",
     "output_type": "stream",
     "text": [
      "[I 2025-08-11 01:47:21,883] Trial 139 finished with value: 0.6132404181184669 and parameters: {'iterations': 12000, 'learning_rate': 0.022107079876677007, 'depth': 4, 'l2_leaf_reg': 0.08742439856710262, 'bagging_temperature': 0.7326720964807638, 'random_strength': 0.9306961289018967, 'subsample': 0.7445848252403918, 'rsm': 0.8026747026508705, 'scale_pos_weight': 1.9198914552551054}. Best is trial 19 with value: 0.6190102120974077.\n"
     ]
    },
    {
     "name": "stderr",
     "output_type": "stream",
     "text": [
      "Best trial: 19. Best value: 0.61901:  47%|████▋     | 141/300 [1:59:26<2:13:39, 50.44s/it, 7166.28/14400 seconds]"
     ]
    },
    {
     "name": "stdout",
     "output_type": "stream",
     "text": [
      "[I 2025-08-11 01:48:11,308] Trial 140 finished with value: 0.6045016077170418 and parameters: {'iterations': 10000, 'learning_rate': 0.05680040012251911, 'depth': 4, 'l2_leaf_reg': 24.755776886996994, 'bagging_temperature': 1.9153926002313706, 'random_strength': 1.1985820077705864, 'subsample': 0.7257039831684469, 'rsm': 0.8305922702518435, 'scale_pos_weight': 1.9617631342578292}. Best is trial 19 with value: 0.6190102120974077.\n"
     ]
    },
    {
     "name": "stderr",
     "output_type": "stream",
     "text": [
      "Best trial: 19. Best value: 0.61901:  47%|████▋     | 142/300 [2:00:22<2:17:45, 52.31s/it, 7222.97/14400 seconds]"
     ]
    },
    {
     "name": "stdout",
     "output_type": "stream",
     "text": [
      "[I 2025-08-11 01:49:08,008] Trial 141 finished with value: 0.601755786113328 and parameters: {'iterations': 12000, 'learning_rate': 0.025110666192992234, 'depth': 6, 'l2_leaf_reg': 1.2230726647636336, 'bagging_temperature': 2.3655287633398676, 'random_strength': 0.6450332977730291, 'subsample': 0.703084841553467, 'rsm': 0.7918058201810104, 'scale_pos_weight': 2.0356663971519593}. Best is trial 19 with value: 0.6190102120974077.\n"
     ]
    },
    {
     "name": "stderr",
     "output_type": "stream",
     "text": [
      "Best trial: 19. Best value: 0.61901:  48%|████▊     | 143/300 [2:01:22<2:22:46, 54.56s/it, 7282.78/14400 seconds]"
     ]
    },
    {
     "name": "stdout",
     "output_type": "stream",
     "text": [
      "[I 2025-08-11 01:50:07,804] Trial 142 finished with value: 0.6084942084942085 and parameters: {'iterations': 10000, 'learning_rate': 0.021437196714167987, 'depth': 4, 'l2_leaf_reg': 2.800906944836604, 'bagging_temperature': 1.704266267869756, 'random_strength': 0.8904234099434567, 'subsample': 0.8892548097345228, 'rsm': 0.9273886351464743, 'scale_pos_weight': 1.9268376399811682}. Best is trial 19 with value: 0.6190102120974077.\n"
     ]
    },
    {
     "name": "stderr",
     "output_type": "stream",
     "text": [
      "Best trial: 19. Best value: 0.61901:  48%|████▊     | 144/300 [2:02:27<2:29:43, 57.58s/it, 7347.41/14400 seconds]"
     ]
    },
    {
     "name": "stdout",
     "output_type": "stream",
     "text": [
      "[I 2025-08-11 01:51:12,450] Trial 143 finished with value: 0.6116731517509728 and parameters: {'iterations': 12000, 'learning_rate': 0.02082327778913383, 'depth': 4, 'l2_leaf_reg': 3.449651255110408, 'bagging_temperature': 3.0885913858876886, 'random_strength': 0.6917498265940117, 'subsample': 0.7149465991837978, 'rsm': 0.8449554339885602, 'scale_pos_weight': 2.2523519032027735}. Best is trial 19 with value: 0.6190102120974077.\n"
     ]
    },
    {
     "name": "stderr",
     "output_type": "stream",
     "text": [
      "Best trial: 19. Best value: 0.61901:  48%|████▊     | 145/300 [2:02:50<2:01:59, 47.22s/it, 7370.46/14400 seconds]"
     ]
    },
    {
     "name": "stdout",
     "output_type": "stream",
     "text": [
      "[I 2025-08-11 01:51:35,494] Trial 144 finished with value: 0.5935483870967742 and parameters: {'iterations': 4000, 'learning_rate': 0.07888332993258561, 'depth': 5, 'l2_leaf_reg': 0.004936656730897591, 'bagging_temperature': 5.847402394471932, 'random_strength': 0.848316110832884, 'subsample': 0.9307485208084236, 'rsm': 0.9275093237692765, 'scale_pos_weight': 2.2348171679854216}. Best is trial 19 with value: 0.6190102120974077.\n"
     ]
    },
    {
     "name": "stderr",
     "output_type": "stream",
     "text": [
      "Best trial: 19. Best value: 0.61901:  49%|████▊     | 146/300 [2:03:46<2:07:40, 49.75s/it, 7426.09/14400 seconds]"
     ]
    },
    {
     "name": "stdout",
     "output_type": "stream",
     "text": [
      "[I 2025-08-11 01:52:31,123] Trial 145 finished with value: 0.6062176165803109 and parameters: {'iterations': 6000, 'learning_rate': 0.03463915906524025, 'depth': 4, 'l2_leaf_reg': 0.6139444450316592, 'bagging_temperature': 0.2680081467428458, 'random_strength': 2.224990166726835, 'subsample': 0.7013569463912471, 'rsm': 0.8031900994647413, 'scale_pos_weight': 1.8433331915395232}. Best is trial 19 with value: 0.6190102120974077.\n"
     ]
    },
    {
     "name": "stderr",
     "output_type": "stream",
     "text": [
      "Best trial: 19. Best value: 0.61901:  49%|████▉     | 147/300 [2:05:20<2:41:06, 63.18s/it, 7520.62/14400 seconds]"
     ]
    },
    {
     "name": "stdout",
     "output_type": "stream",
     "text": [
      "[I 2025-08-11 01:54:05,656] Trial 146 finished with value: 0.6020558002936858 and parameters: {'iterations': 11000, 'learning_rate': 0.020849513539346828, 'depth': 6, 'l2_leaf_reg': 42.07046879929778, 'bagging_temperature': 1.9872265458475236, 'random_strength': 1.04636404611817, 'subsample': 0.7219230028698378, 'rsm': 0.9915647476363905, 'scale_pos_weight': 2.402224696727581}. Best is trial 19 with value: 0.6190102120974077.\n"
     ]
    },
    {
     "name": "stderr",
     "output_type": "stream",
     "text": [
      "Best trial: 19. Best value: 0.61901:  49%|████▉     | 148/300 [2:06:02<2:23:40, 56.71s/it, 7562.24/14400 seconds]"
     ]
    },
    {
     "name": "stdout",
     "output_type": "stream",
     "text": [
      "[I 2025-08-11 01:54:47,271] Trial 147 finished with value: 0.5799540933435348 and parameters: {'iterations': 10000, 'learning_rate': 0.028417522637968012, 'depth': 9, 'l2_leaf_reg': 0.0018593361302040063, 'bagging_temperature': 3.0477821969297674, 'random_strength': 1.3001325612277395, 'subsample': 0.9261031336859122, 'rsm': 0.8290632920047726, 'scale_pos_weight': 1.2766317823200868}. Best is trial 19 with value: 0.6190102120974077.\n"
     ]
    },
    {
     "name": "stderr",
     "output_type": "stream",
     "text": [
      "Best trial: 19. Best value: 0.61901:  50%|████▉     | 149/300 [2:06:30<2:01:31, 48.29s/it, 7590.88/14400 seconds]"
     ]
    },
    {
     "name": "stdout",
     "output_type": "stream",
     "text": [
      "[I 2025-08-11 01:55:15,905] Trial 148 finished with value: 0.6037174721189591 and parameters: {'iterations': 12000, 'learning_rate': 0.04979723918235987, 'depth': 6, 'l2_leaf_reg': 0.113330932478909, 'bagging_temperature': 0.7821461460320083, 'random_strength': 0.3966051857548478, 'subsample': 0.7214673412788412, 'rsm': 0.8904683063554487, 'scale_pos_weight': 2.1182264589599895}. Best is trial 19 with value: 0.6190102120974077.\n"
     ]
    },
    {
     "name": "stderr",
     "output_type": "stream",
     "text": [
      "Best trial: 19. Best value: 0.61901:  50%|█████     | 150/300 [2:07:26<2:06:28, 50.59s/it, 7646.84/14400 seconds]"
     ]
    },
    {
     "name": "stdout",
     "output_type": "stream",
     "text": [
      "[I 2025-08-11 01:56:11,872] Trial 149 finished with value: 0.6089150546677881 and parameters: {'iterations': 7000, 'learning_rate': 0.030556372789433482, 'depth': 4, 'l2_leaf_reg': 7.042224628569727, 'bagging_temperature': 6.468354528634328, 'random_strength': 2.4936499000798236, 'subsample': 0.8588379652721798, 'rsm': 0.9602766565200973, 'scale_pos_weight': 1.7722172176631705}. Best is trial 19 with value: 0.6190102120974077.\n"
     ]
    },
    {
     "name": "stderr",
     "output_type": "stream",
     "text": [
      "Best trial: 19. Best value: 0.61901:  50%|█████     | 151/300 [2:08:12<2:01:42, 49.01s/it, 7692.16/14400 seconds]"
     ]
    },
    {
     "name": "stdout",
     "output_type": "stream",
     "text": [
      "[I 2025-08-11 01:56:57,185] Trial 150 finished with value: 0.6116941529235382 and parameters: {'iterations': 12000, 'learning_rate': 0.028699789859039523, 'depth': 4, 'l2_leaf_reg': 0.7065075927347163, 'bagging_temperature': 1.7306926627606343, 'random_strength': 0.4568656808718925, 'subsample': 0.7958570176530533, 'rsm': 0.8851328600443178, 'scale_pos_weight': 2.2780267712593245}. Best is trial 19 with value: 0.6190102120974077.\n"
     ]
    },
    {
     "name": "stderr",
     "output_type": "stream",
     "text": [
      "Best trial: 19. Best value: 0.61901:  50%|█████     | 151/300 [2:08:57<2:01:42, 49.01s/it, 7692.16/14400 seconds]"
     ]
    },
    {
     "name": "stdout",
     "output_type": "stream",
     "text": [
      "[I 2025-08-11 01:57:42,557] Trial 151 finished with value: 0.6010362694300518 and parameters: {'iterations': 8000, 'learning_rate': 0.030630938123416482, 'depth': 7, 'l2_leaf_reg': 0.04560019865245177, 'bagging_temperature': 0.663433904735961, 'random_strength': 0.9123630726105832, 'subsample': 0.9582243376915299, 'rsm': 0.9940815649099995, 'scale_pos_weight': 0.9404870497324584}. Best is trial 19 with value: 0.6190102120974077.\n"
     ]
    },
    {
     "name": "stderr",
     "output_type": "stream",
     "text": [
      "Best trial: 19. Best value: 0.61901:  51%|█████     | 153/300 [2:09:34<1:49:30, 44.70s/it, 7774.73/14400 seconds]"
     ]
    },
    {
     "name": "stdout",
     "output_type": "stream",
     "text": [
      "[I 2025-08-11 01:58:19,768] Trial 152 finished with value: 0.6093366093366094 and parameters: {'iterations': 8000, 'learning_rate': 0.04596649263349582, 'depth': 4, 'l2_leaf_reg': 0.09205751634398242, 'bagging_temperature': 0.7897106105266845, 'random_strength': 1.1253723473792963, 'subsample': 0.8223764967701567, 'rsm': 0.8482345628152184, 'scale_pos_weight': 1.0452125038836273}. Best is trial 19 with value: 0.6190102120974077.\n"
     ]
    },
    {
     "name": "stderr",
     "output_type": "stream",
     "text": [
      "Best trial: 19. Best value: 0.61901:  51%|█████▏    | 154/300 [2:10:08<1:40:29, 41.30s/it, 7808.08/14400 seconds]"
     ]
    },
    {
     "name": "stdout",
     "output_type": "stream",
     "text": [
      "[I 2025-08-11 01:58:53,115] Trial 153 finished with value: 0.6042345276872965 and parameters: {'iterations': 4000, 'learning_rate': 0.057323190510889376, 'depth': 5, 'l2_leaf_reg': 0.08152636663013452, 'bagging_temperature': 1.1048109458125972, 'random_strength': 1.789315385817424, 'subsample': 0.9338954787101271, 'rsm': 0.9438887399455953, 'scale_pos_weight': 1.0549533243980695}. Best is trial 19 with value: 0.6190102120974077.\n"
     ]
    },
    {
     "name": "stderr",
     "output_type": "stream",
     "text": [
      "Best trial: 19. Best value: 0.61901:  52%|█████▏    | 155/300 [2:11:11<1:55:35, 47.83s/it, 7871.16/14400 seconds]"
     ]
    },
    {
     "name": "stdout",
     "output_type": "stream",
     "text": [
      "[I 2025-08-11 01:59:56,196] Trial 154 finished with value: 0.6142625607779578 and parameters: {'iterations': 12000, 'learning_rate': 0.02008035515494629, 'depth': 4, 'l2_leaf_reg': 2.7001117145056863, 'bagging_temperature': 2.8622968499695975, 'random_strength': 0.6290037342971053, 'subsample': 0.734207646226894, 'rsm': 0.9237368215187935, 'scale_pos_weight': 2.290931958036035}. Best is trial 19 with value: 0.6190102120974077.\n"
     ]
    },
    {
     "name": "stderr",
     "output_type": "stream",
     "text": [
      "Best trial: 19. Best value: 0.61901:  52%|█████▏    | 156/300 [2:12:20<2:10:25, 54.35s/it, 7940.71/14400 seconds]"
     ]
    },
    {
     "name": "stdout",
     "output_type": "stream",
     "text": [
      "[I 2025-08-11 02:01:05,741] Trial 155 finished with value: 0.6069078947368421 and parameters: {'iterations': 11000, 'learning_rate': 0.020344648249111093, 'depth': 5, 'l2_leaf_reg': 1.152218752028157, 'bagging_temperature': 0.1726549289771795, 'random_strength': 1.5093440008728332, 'subsample': 0.72864429063144, 'rsm': 0.9174742426883172, 'scale_pos_weight': 2.4849727947506457}. Best is trial 19 with value: 0.6190102120974077.\n"
     ]
    },
    {
     "name": "stderr",
     "output_type": "stream",
     "text": [
      "Best trial: 19. Best value: 0.61901:  52%|█████▏    | 157/300 [2:13:12<2:07:42, 53.59s/it, 7992.52/14400 seconds]"
     ]
    },
    {
     "name": "stdout",
     "output_type": "stream",
     "text": [
      "[I 2025-08-11 02:01:57,556] Trial 156 finished with value: 0.6041666666666666 and parameters: {'iterations': 4000, 'learning_rate': 0.05304767503837762, 'depth': 7, 'l2_leaf_reg': 6.3874665232659105, 'bagging_temperature': 0.40754259758785266, 'random_strength': 2.416323465108058, 'subsample': 0.8235273633068457, 'rsm': 0.7605945105974978, 'scale_pos_weight': 1.7247255804272712}. Best is trial 19 with value: 0.6190102120974077.\n"
     ]
    },
    {
     "name": "stderr",
     "output_type": "stream",
     "text": [
      "Best trial: 19. Best value: 0.61901:  53%|█████▎    | 158/300 [2:14:03<2:04:54, 52.78s/it, 8043.42/14400 seconds]"
     ]
    },
    {
     "name": "stdout",
     "output_type": "stream",
     "text": [
      "[I 2025-08-11 02:02:48,439] Trial 157 finished with value: 0.5958429561200924 and parameters: {'iterations': 8000, 'learning_rate': 0.04602958280785682, 'depth': 7, 'l2_leaf_reg': 0.3730647960212967, 'bagging_temperature': 0.5017892853190189, 'random_strength': 1.986727268136057, 'subsample': 0.7480652327308761, 'rsm': 0.8522355927991456, 'scale_pos_weight': 0.8691302228678215}. Best is trial 19 with value: 0.6190102120974077.\n"
     ]
    },
    {
     "name": "stderr",
     "output_type": "stream",
     "text": [
      "Best trial: 19. Best value: 0.61901:  53%|█████▎    | 159/300 [2:14:45<1:56:13, 49.45s/it, 8085.12/14400 seconds]"
     ]
    },
    {
     "name": "stdout",
     "output_type": "stream",
     "text": [
      "[I 2025-08-11 02:03:30,141] Trial 158 finished with value: 0.6153846153846154 and parameters: {'iterations': 12000, 'learning_rate': 0.03917795731501714, 'depth': 4, 'l2_leaf_reg': 1.5600311006830356, 'bagging_temperature': 1.0773651008014857, 'random_strength': 1.1140121362851825, 'subsample': 0.7167009628128825, 'rsm': 0.6952690557156036, 'scale_pos_weight': 2.4078135828428526}. Best is trial 19 with value: 0.6190102120974077.\n"
     ]
    },
    {
     "name": "stderr",
     "output_type": "stream",
     "text": [
      "Best trial: 19. Best value: 0.61901:  53%|█████▎    | 160/300 [2:15:32<1:53:56, 48.83s/it, 8132.49/14400 seconds]"
     ]
    },
    {
     "name": "stdout",
     "output_type": "stream",
     "text": [
      "[I 2025-08-11 02:04:17,527] Trial 159 finished with value: 0.599483204134367 and parameters: {'iterations': 12000, 'learning_rate': 0.03094661845321174, 'depth': 5, 'l2_leaf_reg': 0.20281915875386267, 'bagging_temperature': 2.3766294272428787, 'random_strength': 1.3661855873430098, 'subsample': 0.7409978634292326, 'rsm': 0.6843314866895682, 'scale_pos_weight': 2.1830320118985598}. Best is trial 19 with value: 0.6190102120974077.\n"
     ]
    },
    {
     "name": "stderr",
     "output_type": "stream",
     "text": [
      "Best trial: 19. Best value: 0.61901:  54%|█████▎    | 161/300 [2:16:07<1:43:14, 44.57s/it, 8167.12/14400 seconds]"
     ]
    },
    {
     "name": "stdout",
     "output_type": "stream",
     "text": [
      "[I 2025-08-11 02:04:52,151] Trial 160 finished with value: 0.6135986733001658 and parameters: {'iterations': 10000, 'learning_rate': 0.04548022099394297, 'depth': 4, 'l2_leaf_reg': 0.692065731557581, 'bagging_temperature': 2.8866263983727265, 'random_strength': 0.9520447881243749, 'subsample': 0.7456062971498535, 'rsm': 0.668585824326851, 'scale_pos_weight': 2.2867131421506355}. Best is trial 19 with value: 0.6190102120974077.\n"
     ]
    },
    {
     "name": "stderr",
     "output_type": "stream",
     "text": [
      "Best trial: 19. Best value: 0.61901:  54%|█████▍    | 162/300 [2:17:01<1:49:15, 47.50s/it, 8221.47/14400 seconds]"
     ]
    },
    {
     "name": "stdout",
     "output_type": "stream",
     "text": [
      "[I 2025-08-11 02:05:46,480] Trial 161 finished with value: 0.6032210834553441 and parameters: {'iterations': 12000, 'learning_rate': 0.024795829117514257, 'depth': 5, 'l2_leaf_reg': 0.6974992508522094, 'bagging_temperature': 0.15180493237420056, 'random_strength': 0.8991880808953208, 'subsample': 0.762214233076616, 'rsm': 0.6484000212074936, 'scale_pos_weight': 2.461400827707646}. Best is trial 19 with value: 0.6190102120974077.\n"
     ]
    },
    {
     "name": "stderr",
     "output_type": "stream",
     "text": [
      "Best trial: 19. Best value: 0.61901:  54%|█████▍    | 163/300 [2:17:49<1:48:55, 47.70s/it, 8269.64/14400 seconds]"
     ]
    },
    {
     "name": "stdout",
     "output_type": "stream",
     "text": [
      "[I 2025-08-11 02:06:34,664] Trial 162 finished with value: 0.6109822119102861 and parameters: {'iterations': 12000, 'learning_rate': 0.03377863692138014, 'depth': 4, 'l2_leaf_reg': 3.8040898716328746, 'bagging_temperature': 0.2636104938123198, 'random_strength': 1.5152025204684048, 'subsample': 0.7403766901186869, 'rsm': 0.7621258735974787, 'scale_pos_weight': 2.4936801561952766}. Best is trial 19 with value: 0.6190102120974077.\n"
     ]
    },
    {
     "name": "stderr",
     "output_type": "stream",
     "text": [
      "Best trial: 19. Best value: 0.61901:  55%|█████▍    | 164/300 [2:18:41<1:50:55, 48.94s/it, 8321.46/14400 seconds]"
     ]
    },
    {
     "name": "stdout",
     "output_type": "stream",
     "text": [
      "[I 2025-08-11 02:07:26,484] Trial 163 finished with value: 0.6058779201205727 and parameters: {'iterations': 10000, 'learning_rate': 0.02578347142982777, 'depth': 4, 'l2_leaf_reg': 6.797353473361536, 'bagging_temperature': 1.4755208531568527, 'random_strength': 0.2016266400530452, 'subsample': 0.7403378957794294, 'rsm': 0.9740935305575357, 'scale_pos_weight': 2.1572235883259077}. Best is trial 19 with value: 0.6190102120974077.\n"
     ]
    },
    {
     "name": "stderr",
     "output_type": "stream",
     "text": [
      "Best trial: 19. Best value: 0.61901:  55%|█████▌    | 165/300 [2:19:10<1:36:58, 43.10s/it, 8350.94/14400 seconds]"
     ]
    },
    {
     "name": "stdout",
     "output_type": "stream",
     "text": [
      "[I 2025-08-11 02:07:55,964] Trial 164 finished with value: 0.6144927536231884 and parameters: {'iterations': 9000, 'learning_rate': 0.04863462951886968, 'depth': 4, 'l2_leaf_reg': 0.06999166164705825, 'bagging_temperature': 1.0311810334128542, 'random_strength': 0.16310330184685556, 'subsample': 0.7031430254593705, 'rsm': 0.7349351640090653, 'scale_pos_weight': 2.321309226446271}. Best is trial 19 with value: 0.6190102120974077.\n"
     ]
    },
    {
     "name": "stderr",
     "output_type": "stream",
     "text": [
      "Best trial: 19. Best value: 0.61901:  55%|█████▌    | 166/300 [2:19:44<1:29:57, 40.28s/it, 8384.65/14400 seconds]"
     ]
    },
    {
     "name": "stdout",
     "output_type": "stream",
     "text": [
      "[I 2025-08-11 02:08:29,686] Trial 165 finished with value: 0.6131934032983508 and parameters: {'iterations': 10000, 'learning_rate': 0.04822973340760975, 'depth': 4, 'l2_leaf_reg': 3.323639444475735, 'bagging_temperature': 3.1240813582282954, 'random_strength': 0.3740397954740282, 'subsample': 0.7312619981480725, 'rsm': 0.8991504458669249, 'scale_pos_weight': 2.4090732148217606}. Best is trial 19 with value: 0.6190102120974077.\n"
     ]
    },
    {
     "name": "stderr",
     "output_type": "stream",
     "text": [
      "Best trial: 166. Best value: 0.619808:  56%|█████▌    | 167/300 [2:20:16<1:23:38, 37.74s/it, 8416.44/14400 seconds]"
     ]
    },
    {
     "name": "stdout",
     "output_type": "stream",
     "text": [
      "[I 2025-08-11 02:09:01,458] Trial 166 finished with value: 0.6198083067092651 and parameters: {'iterations': 8000, 'learning_rate': 0.038672331129433905, 'depth': 4, 'l2_leaf_reg': 0.2425848673521176, 'bagging_temperature': 0.26008499214830416, 'random_strength': 0.12371436659742688, 'subsample': 0.7577624950796806, 'rsm': 0.7585025397167989, 'scale_pos_weight': 2.313896313849405}. Best is trial 166 with value: 0.6198083067092651.\n"
     ]
    },
    {
     "name": "stderr",
     "output_type": "stream",
     "text": [
      "Best trial: 166. Best value: 0.619808:  56%|█████▌    | 168/300 [2:20:46<1:18:01, 35.47s/it, 8446.60/14400 seconds]"
     ]
    },
    {
     "name": "stdout",
     "output_type": "stream",
     "text": [
      "[I 2025-08-11 02:09:31,634] Trial 167 finished with value: 0.617005267118134 and parameters: {'iterations': 9000, 'learning_rate': 0.04784927516269524, 'depth': 4, 'l2_leaf_reg': 0.4992854767347406, 'bagging_temperature': 0.225785190240811, 'random_strength': 0.05654020994409806, 'subsample': 0.7134970928030939, 'rsm': 0.7503759893160438, 'scale_pos_weight': 2.0877511916456637}. Best is trial 166 with value: 0.6198083067092651.\n"
     ]
    },
    {
     "name": "stderr",
     "output_type": "stream",
     "text": [
      "Best trial: 166. Best value: 0.619808:  56%|█████▋    | 169/300 [2:21:16<1:13:38, 33.73s/it, 8476.29/14400 seconds]"
     ]
    },
    {
     "name": "stdout",
     "output_type": "stream",
     "text": [
      "[I 2025-08-11 02:10:01,320] Trial 168 finished with value: 0.6015873015873016 and parameters: {'iterations': 10000, 'learning_rate': 0.04470812665718756, 'depth': 4, 'l2_leaf_reg': 0.010012642583882748, 'bagging_temperature': 0.4582786743673054, 'random_strength': 0.12286110415667498, 'subsample': 0.7212203429372229, 'rsm': 0.7982801983715221, 'scale_pos_weight': 1.9431513516271353}. Best is trial 166 with value: 0.6198083067092651.\n"
     ]
    },
    {
     "name": "stderr",
     "output_type": "stream",
     "text": [
      "Best trial: 166. Best value: 0.619808:  57%|█████▋    | 170/300 [2:21:44<1:09:30, 32.08s/it, 8504.53/14400 seconds]"
     ]
    },
    {
     "name": "stdout",
     "output_type": "stream",
     "text": [
      "[I 2025-08-11 02:10:29,561] Trial 169 finished with value: 0.6064924782264449 and parameters: {'iterations': 10000, 'learning_rate': 0.04790215387794813, 'depth': 5, 'l2_leaf_reg': 0.017070773213726895, 'bagging_temperature': 1.3474157001943947, 'random_strength': 0.19581759289073958, 'subsample': 0.757004924788071, 'rsm': 0.6901448150793419, 'scale_pos_weight': 2.4862638053857293}. Best is trial 166 with value: 0.6198083067092651.\n"
     ]
    },
    {
     "name": "stderr",
     "output_type": "stream",
     "text": [
      "Best trial: 166. Best value: 0.619808:  57%|█████▋    | 171/300 [2:22:27<1:15:58, 35.34s/it, 8547.46/14400 seconds]"
     ]
    },
    {
     "name": "stdout",
     "output_type": "stream",
     "text": [
      "[I 2025-08-11 02:11:12,493] Trial 170 finished with value: 0.6052227342549923 and parameters: {'iterations': 8000, 'learning_rate': 0.029269146416466975, 'depth': 5, 'l2_leaf_reg': 0.3354597745619753, 'bagging_temperature': 0.5230548149877051, 'random_strength': 0.33302238292239794, 'subsample': 0.8130736749773448, 'rsm': 0.7550108661778121, 'scale_pos_weight': 1.915454381806644}. Best is trial 166 with value: 0.6198083067092651.\n"
     ]
    },
    {
     "name": "stderr",
     "output_type": "stream",
     "text": [
      "Best trial: 166. Best value: 0.619808:  57%|█████▋    | 172/300 [2:22:56<1:11:08, 33.35s/it, 8576.15/14400 seconds]"
     ]
    },
    {
     "name": "stdout",
     "output_type": "stream",
     "text": [
      "[I 2025-08-11 02:11:41,177] Trial 171 finished with value: 0.6067746686303387 and parameters: {'iterations': 6000, 'learning_rate': 0.04275774472936065, 'depth': 4, 'l2_leaf_reg': 0.05695459697732413, 'bagging_temperature': 0.43627661242808524, 'random_strength': 0.3834569380884122, 'subsample': 0.7461164527316777, 'rsm': 0.7354879565231682, 'scale_pos_weight': 2.2669552490129785}. Best is trial 166 with value: 0.6198083067092651.\n"
     ]
    },
    {
     "name": "stderr",
     "output_type": "stream",
     "text": [
      "Best trial: 166. Best value: 0.619808:  58%|█████▊    | 173/300 [2:23:21<1:05:32, 30.96s/it, 8601.56/14400 seconds]"
     ]
    },
    {
     "name": "stdout",
     "output_type": "stream",
     "text": [
      "[I 2025-08-11 02:12:06,595] Trial 172 finished with value: 0.6091772151898734 and parameters: {'iterations': 9000, 'learning_rate': 0.0856622290601187, 'depth': 5, 'l2_leaf_reg': 0.20529997207647818, 'bagging_temperature': 0.4542638180906027, 'random_strength': 0.3072963840467372, 'subsample': 0.7032206912578978, 'rsm': 0.7513874289806327, 'scale_pos_weight': 1.8750832419654442}. Best is trial 166 with value: 0.6198083067092651.\n"
     ]
    },
    {
     "name": "stderr",
     "output_type": "stream",
     "text": [
      "Best trial: 166. Best value: 0.619808:  58%|█████▊    | 174/300 [2:24:00<1:09:58, 33.32s/it, 8640.39/14400 seconds]"
     ]
    },
    {
     "name": "stdout",
     "output_type": "stream",
     "text": [
      "[I 2025-08-11 02:12:45,416] Trial 173 finished with value: 0.6034624896949712 and parameters: {'iterations': 8000, 'learning_rate': 0.036354515743521554, 'depth': 5, 'l2_leaf_reg': 1.9042233488306446, 'bagging_temperature': 0.24566918380925146, 'random_strength': 0.3974971687348141, 'subsample': 0.7663021317119092, 'rsm': 0.7683135424957509, 'scale_pos_weight': 2.3485283801442285}. Best is trial 166 with value: 0.6198083067092651.\n"
     ]
    },
    {
     "name": "stderr",
     "output_type": "stream",
     "text": [
      "Best trial: 166. Best value: 0.619808:  58%|█████▊    | 175/300 [2:25:27<1:42:52, 49.38s/it, 8727.23/14400 seconds]"
     ]
    },
    {
     "name": "stdout",
     "output_type": "stream",
     "text": [
      "[I 2025-08-11 02:14:12,259] Trial 174 finished with value: 0.6122098022355976 and parameters: {'iterations': 12000, 'learning_rate': 0.020404849790949718, 'depth': 4, 'l2_leaf_reg': 13.374960607981802, 'bagging_temperature': 2.537220615559608, 'random_strength': 0.08005697967687248, 'subsample': 0.7009538334792574, 'rsm': 0.9761115154572946, 'scale_pos_weight': 1.949622674524111}. Best is trial 166 with value: 0.6198083067092651.\n"
     ]
    },
    {
     "name": "stderr",
     "output_type": "stream",
     "text": [
      "Best trial: 166. Best value: 0.619808:  59%|█████▊    | 176/300 [2:26:00<1:32:17, 44.66s/it, 8760.87/14400 seconds]"
     ]
    },
    {
     "name": "stdout",
     "output_type": "stream",
     "text": [
      "[I 2025-08-11 02:14:45,908] Trial 175 finished with value: 0.6028002947678703 and parameters: {'iterations': 9000, 'learning_rate': 0.041608282610984586, 'depth': 4, 'l2_leaf_reg': 0.27580716846511216, 'bagging_temperature': 0.7100904414515713, 'random_strength': 0.42707662554772197, 'subsample': 0.7168508160168485, 'rsm': 0.7425248802739705, 'scale_pos_weight': 2.1476934083790344}. Best is trial 166 with value: 0.6198083067092651.\n"
     ]
    },
    {
     "name": "stderr",
     "output_type": "stream",
     "text": [
      "Best trial: 166. Best value: 0.619808:  59%|█████▉    | 177/300 [2:26:32<1:23:47, 40.87s/it, 8792.91/14400 seconds]"
     ]
    },
    {
     "name": "stdout",
     "output_type": "stream",
     "text": [
      "[I 2025-08-11 02:15:17,940] Trial 176 finished with value: 0.6001456664238893 and parameters: {'iterations': 11000, 'learning_rate': 0.052205533281404856, 'depth': 4, 'l2_leaf_reg': 0.581288325536176, 'bagging_temperature': 1.4845100821569974, 'random_strength': 1.6713274051952078, 'subsample': 0.7080878420912953, 'rsm': 0.7103725761822177, 'scale_pos_weight': 2.277114973156259}. Best is trial 166 with value: 0.6198083067092651.\n"
     ]
    },
    {
     "name": "stderr",
     "output_type": "stream",
     "text": [
      "Best trial: 166. Best value: 0.619808:  59%|█████▉    | 178/300 [2:26:58<1:13:59, 36.39s/it, 8818.84/14400 seconds]"
     ]
    },
    {
     "name": "stdout",
     "output_type": "stream",
     "text": [
      "[I 2025-08-11 02:15:43,867] Trial 177 finished with value: 0.6024691358024692 and parameters: {'iterations': 10000, 'learning_rate': 0.0563845006038337, 'depth': 4, 'l2_leaf_reg': 0.1672819939548283, 'bagging_temperature': 1.1787696417944609, 'random_strength': 0.026435001972061917, 'subsample': 0.7404920115389679, 'rsm': 0.6338207300237059, 'scale_pos_weight': 2.0549058407451217}. Best is trial 166 with value: 0.6198083067092651.\n"
     ]
    },
    {
     "name": "stderr",
     "output_type": "stream",
     "text": [
      "Best trial: 166. Best value: 0.619808:  60%|█████▉    | 179/300 [2:27:25<1:07:20, 33.39s/it, 8845.24/14400 seconds]"
     ]
    },
    {
     "name": "stdout",
     "output_type": "stream",
     "text": [
      "[I 2025-08-11 02:16:10,273] Trial 178 finished with value: 0.6066270178419712 and parameters: {'iterations': 8000, 'learning_rate': 0.05410358365580995, 'depth': 4, 'l2_leaf_reg': 0.14537446684954505, 'bagging_temperature': 1.14881865234421, 'random_strength': 0.3642116740905905, 'subsample': 0.7694696177317667, 'rsm': 0.7935473158281474, 'scale_pos_weight': 2.233444937475118}. Best is trial 166 with value: 0.6198083067092651.\n"
     ]
    },
    {
     "name": "stderr",
     "output_type": "stream",
     "text": [
      "Best trial: 166. Best value: 0.619808:  60%|██████    | 180/300 [2:28:17<1:18:19, 39.16s/it, 8897.86/14400 seconds]"
     ]
    },
    {
     "name": "stdout",
     "output_type": "stream",
     "text": [
      "[I 2025-08-11 02:17:02,896] Trial 179 finished with value: 0.6116504854368932 and parameters: {'iterations': 4000, 'learning_rate': 0.03610622950057008, 'depth': 5, 'l2_leaf_reg': 5.884627485442426, 'bagging_temperature': 2.5879622881672106, 'random_strength': 1.7285073713776447, 'subsample': 0.8377434777274197, 'rsm': 0.9375875110956213, 'scale_pos_weight': 1.956366129266317}. Best is trial 166 with value: 0.6198083067092651.\n"
     ]
    },
    {
     "name": "stderr",
     "output_type": "stream",
     "text": [
      "Best trial: 166. Best value: 0.619808:  60%|██████    | 180/300 [2:28:47<1:18:19, 39.16s/it, 8897.86/14400 seconds]"
     ]
    },
    {
     "name": "stdout",
     "output_type": "stream",
     "text": [
      "[I 2025-08-11 02:17:32,715] Trial 180 finished with value: 0.6094771241830066 and parameters: {'iterations': 9000, 'learning_rate': 0.049099682801181835, 'depth': 5, 'l2_leaf_reg': 0.15222854318347867, 'bagging_temperature': 0.44571365496332516, 'random_strength': 0.10049525206903322, 'subsample': 0.7326862812900019, 'rsm': 0.8239808923157607, 'scale_pos_weight': 2.4904497569861146}. Best is trial 166 with value: 0.6198083067092651.\n"
     ]
    },
    {
     "name": "stderr",
     "output_type": "stream",
     "text": [
      "Best trial: 166. Best value: 0.619808:  61%|██████    | 182/300 [2:30:09<1:38:06, 49.89s/it, 9009.16/14400 seconds]"
     ]
    },
    {
     "name": "stdout",
     "output_type": "stream",
     "text": [
      "[I 2025-08-11 02:18:54,200] Trial 181 finished with value: 0.6038610038610038 and parameters: {'iterations': 6000, 'learning_rate': 0.0497674556332096, 'depth': 6, 'l2_leaf_reg': 74.07466591224811, 'bagging_temperature': 1.9498600722736654, 'random_strength': 2.083317935903714, 'subsample': 0.7137145081254381, 'rsm': 0.8527743571981503, 'scale_pos_weight': 1.3116549746904336}. Best is trial 166 with value: 0.6198083067092651.\n"
     ]
    },
    {
     "name": "stderr",
     "output_type": "stream",
     "text": [
      "Best trial: 166. Best value: 0.619808:  61%|██████    | 183/300 [2:30:41<1:26:55, 44.58s/it, 9041.34/14400 seconds]"
     ]
    },
    {
     "name": "stdout",
     "output_type": "stream",
     "text": [
      "[I 2025-08-11 02:19:26,368] Trial 182 finished with value: 0.6003460207612457 and parameters: {'iterations': 5000, 'learning_rate': 0.053743745581278445, 'depth': 4, 'l2_leaf_reg': 0.06251908415882956, 'bagging_temperature': 0.010378424256211383, 'random_strength': 2.1877455839489564, 'subsample': 0.772162478092797, 'rsm': 0.6707565666010713, 'scale_pos_weight': 1.55955813281344}. Best is trial 166 with value: 0.6198083067092651.\n"
     ]
    },
    {
     "name": "stderr",
     "output_type": "stream",
     "text": [
      "Best trial: 166. Best value: 0.619808:  61%|██████▏   | 184/300 [2:31:25<1:25:49, 44.39s/it, 9085.29/14400 seconds]"
     ]
    },
    {
     "name": "stdout",
     "output_type": "stream",
     "text": [
      "[I 2025-08-11 02:20:10,320] Trial 183 finished with value: 0.6054313099041534 and parameters: {'iterations': 9000, 'learning_rate': 0.051779780137503076, 'depth': 5, 'l2_leaf_reg': 13.561190781212495, 'bagging_temperature': 2.7078449607301565, 'random_strength': 0.697976697184755, 'subsample': 0.726106260250932, 'rsm': 0.8602965505203508, 'scale_pos_weight': 1.662110586386696}. Best is trial 166 with value: 0.6198083067092651.\n"
     ]
    },
    {
     "name": "stderr",
     "output_type": "stream",
     "text": [
      "Best trial: 166. Best value: 0.619808:  62%|██████▏   | 185/300 [2:31:56<1:17:13, 40.29s/it, 9116.02/14400 seconds]"
     ]
    },
    {
     "name": "stdout",
     "output_type": "stream",
     "text": [
      "[I 2025-08-11 02:20:41,052] Trial 184 finished with value: 0.6098360655737705 and parameters: {'iterations': 12000, 'learning_rate': 0.05235136243030846, 'depth': 4, 'l2_leaf_reg': 2.6644497196656234, 'bagging_temperature': 1.553229129714828, 'random_strength': 0.629690943328969, 'subsample': 0.7047711541762823, 'rsm': 0.6752919838448702, 'scale_pos_weight': 2.377266802963419}. Best is trial 166 with value: 0.6198083067092651.\n"
     ]
    },
    {
     "name": "stderr",
     "output_type": "stream",
     "text": [
      "Best trial: 166. Best value: 0.619808:  62%|██████▏   | 186/300 [2:32:50<1:24:48, 44.64s/it, 9170.80/14400 seconds]"
     ]
    },
    {
     "name": "stdout",
     "output_type": "stream",
     "text": [
      "[I 2025-08-11 02:21:35,832] Trial 185 finished with value: 0.6132906325060048 and parameters: {'iterations': 8000, 'learning_rate': 0.033634850311929865, 'depth': 4, 'l2_leaf_reg': 5.590587379561941, 'bagging_temperature': 6.1819923766376315, 'random_strength': 1.637414642577812, 'subsample': 0.8192274592387591, 'rsm': 0.8508302353076526, 'scale_pos_weight': 1.6188416978924667}. Best is trial 166 with value: 0.6198083067092651.\n"
     ]
    },
    {
     "name": "stderr",
     "output_type": "stream",
     "text": [
      "Best trial: 166. Best value: 0.619808:  62%|██████▏   | 187/300 [2:33:45<1:29:31, 47.53s/it, 9225.09/14400 seconds]"
     ]
    },
    {
     "name": "stdout",
     "output_type": "stream",
     "text": [
      "[I 2025-08-11 02:22:30,116] Trial 186 finished with value: 0.6066420664206642 and parameters: {'iterations': 11000, 'learning_rate': 0.03972014108069058, 'depth': 4, 'l2_leaf_reg': 25.514998494503406, 'bagging_temperature': 2.6704806672967023, 'random_strength': 0.40275348072917805, 'subsample': 0.7867686237740176, 'rsm': 0.7775717488522097, 'scale_pos_weight': 2.0348139909093126}. Best is trial 166 with value: 0.6198083067092651.\n"
     ]
    },
    {
     "name": "stderr",
     "output_type": "stream",
     "text": [
      "Best trial: 166. Best value: 0.619808:  63%|██████▎   | 188/300 [2:34:35<1:30:30, 48.49s/it, 9275.81/14400 seconds]"
     ]
    },
    {
     "name": "stdout",
     "output_type": "stream",
     "text": [
      "[I 2025-08-11 02:23:20,835] Trial 187 finished with value: 0.6151288445552785 and parameters: {'iterations': 7000, 'learning_rate': 0.04379226403529342, 'depth': 4, 'l2_leaf_reg': 30.02133277881435, 'bagging_temperature': 0.9622638690036578, 'random_strength': 0.13377614235544788, 'subsample': 0.722349194015643, 'rsm': 0.762351709431347, 'scale_pos_weight': 2.342499752306548}. Best is trial 166 with value: 0.6198083067092651.\n"
     ]
    },
    {
     "name": "stderr",
     "output_type": "stream",
     "text": [
      "Best trial: 166. Best value: 0.619808:  63%|██████▎   | 189/300 [2:35:32<1:34:06, 50.87s/it, 9332.24/14400 seconds]"
     ]
    },
    {
     "name": "stdout",
     "output_type": "stream",
     "text": [
      "[I 2025-08-11 02:24:17,268] Trial 188 finished with value: 0.6052044609665428 and parameters: {'iterations': 7000, 'learning_rate': 0.04253813145795375, 'depth': 4, 'l2_leaf_reg': 98.25077159621522, 'bagging_temperature': 1.3821487006741058, 'random_strength': 0.042877905102828476, 'subsample': 0.8030447959308157, 'rsm': 0.8126849406710142, 'scale_pos_weight': 2.29927716008648}. Best is trial 166 with value: 0.6198083067092651.\n"
     ]
    },
    {
     "name": "stderr",
     "output_type": "stream",
     "text": [
      "Best trial: 166. Best value: 0.619808:  63%|██████▎   | 190/300 [2:35:56<1:18:22, 42.75s/it, 9356.04/14400 seconds]"
     ]
    },
    {
     "name": "stdout",
     "output_type": "stream",
     "text": [
      "[I 2025-08-11 02:24:41,060] Trial 189 finished with value: 0.6013462976813763 and parameters: {'iterations': 12000, 'learning_rate': 0.07323727055217388, 'depth': 4, 'l2_leaf_reg': 0.02080657598958212, 'bagging_temperature': 2.885813100377276, 'random_strength': 0.5730856683207428, 'subsample': 0.7246130189565666, 'rsm': 0.8520579836093932, 'scale_pos_weight': 2.382765037160122}. Best is trial 166 with value: 0.6198083067092651.\n"
     ]
    },
    {
     "name": "stderr",
     "output_type": "stream",
     "text": [
      "Best trial: 166. Best value: 0.619808:  64%|██████▎   | 191/300 [2:37:01<1:29:53, 49.48s/it, 9421.23/14400 seconds]"
     ]
    },
    {
     "name": "stdout",
     "output_type": "stream",
     "text": [
      "[I 2025-08-11 02:25:46,266] Trial 190 finished with value: 0.6110154905335629 and parameters: {'iterations': 8000, 'learning_rate': 0.042391571054167874, 'depth': 4, 'l2_leaf_reg': 42.54901899231636, 'bagging_temperature': 1.9264339080503377, 'random_strength': 0.6755857907573092, 'subsample': 0.7174641812856517, 'rsm': 0.7959754340392995, 'scale_pos_weight': 1.9306747254405}. Best is trial 166 with value: 0.6198083067092651.\n"
     ]
    },
    {
     "name": "stderr",
     "output_type": "stream",
     "text": [
      "Best trial: 166. Best value: 0.619808:  64%|██████▍   | 192/300 [2:37:39<1:22:49, 46.01s/it, 9459.15/14400 seconds]"
     ]
    },
    {
     "name": "stdout",
     "output_type": "stream",
     "text": [
      "[I 2025-08-11 02:26:24,172] Trial 191 finished with value: 0.613747954173486 and parameters: {'iterations': 8000, 'learning_rate': 0.03179990248597816, 'depth': 4, 'l2_leaf_reg': 0.24951843015007588, 'bagging_temperature': 1.1396653070656777, 'random_strength': 0.25938205460045294, 'subsample': 0.7102285911630193, 'rsm': 0.6744611683113737, 'scale_pos_weight': 2.465334254406035}. Best is trial 166 with value: 0.6198083067092651.\n"
     ]
    },
    {
     "name": "stderr",
     "output_type": "stream",
     "text": [
      "Best trial: 166. Best value: 0.619808:  64%|██████▍   | 193/300 [2:38:09<1:13:45, 41.36s/it, 9489.64/14400 seconds]"
     ]
    },
    {
     "name": "stdout",
     "output_type": "stream",
     "text": [
      "[I 2025-08-11 02:26:54,677] Trial 192 finished with value: 0.6115830115830115 and parameters: {'iterations': 7000, 'learning_rate': 0.051233664996074596, 'depth': 4, 'l2_leaf_reg': 3.6846478759567813, 'bagging_temperature': 1.7457541721780072, 'random_strength': 0.15834051723107834, 'subsample': 0.7539453142585957, 'rsm': 0.7539614042206887, 'scale_pos_weight': 2.4368900797674686}. Best is trial 166 with value: 0.6198083067092651.\n"
     ]
    },
    {
     "name": "stderr",
     "output_type": "stream",
     "text": [
      "Best trial: 166. Best value: 0.619808:  64%|██████▍   | 193/300 [2:38:57<1:13:45, 41.36s/it, 9489.64/14400 seconds]"
     ]
    },
    {
     "name": "stdout",
     "output_type": "stream",
     "text": [
      "[I 2025-08-11 02:27:43,068] Trial 193 finished with value: 0.603264726756565 and parameters: {'iterations': 4000, 'learning_rate': 0.035677989795244766, 'depth': 5, 'l2_leaf_reg': 5.444671136570739, 'bagging_temperature': 0.5376951475683515, 'random_strength': 1.310958196195907, 'subsample': 0.7022096577363428, 'rsm': 0.8796277833699229, 'scale_pos_weight': 2.3310793491983652}. Best is trial 166 with value: 0.6198083067092651.\n"
     ]
    },
    {
     "name": "stderr",
     "output_type": "stream",
     "text": [
      "Best trial: 166. Best value: 0.619808:  65%|██████▌   | 195/300 [2:39:36<1:13:19, 41.90s/it, 9576.31/14400 seconds]"
     ]
    },
    {
     "name": "stdout",
     "output_type": "stream",
     "text": [
      "[I 2025-08-11 02:28:21,352] Trial 194 finished with value: 0.5995525727069351 and parameters: {'iterations': 12000, 'learning_rate': 0.027535353284348495, 'depth': 5, 'l2_leaf_reg': 0.029273943517561074, 'bagging_temperature': 3.884333012703241, 'random_strength': 0.16200758930266657, 'subsample': 0.7443260504179314, 'rsm': 0.8491120404611585, 'scale_pos_weight': 1.7808373770898998}. Best is trial 166 with value: 0.6198083067092651.\n"
     ]
    },
    {
     "name": "stderr",
     "output_type": "stream",
     "text": [
      "Best trial: 166. Best value: 0.619808:  65%|██████▌   | 196/300 [2:40:41<1:24:34, 48.79s/it, 9641.19/14400 seconds]"
     ]
    },
    {
     "name": "stdout",
     "output_type": "stream",
     "text": [
      "[I 2025-08-11 02:29:26,184] Trial 195 finished with value: 0.5985915492957746 and parameters: {'iterations': 10000, 'learning_rate': 0.05608988577573609, 'depth': 4, 'l2_leaf_reg': 52.40255368124941, 'bagging_temperature': 1.2336616655040087, 'random_strength': 0.7589384562130803, 'subsample': 0.7231856378248398, 'rsm': 0.6584573821115168, 'scale_pos_weight': 1.713053375122001}. Best is trial 166 with value: 0.6198083067092651.\n"
     ]
    },
    {
     "name": "stderr",
     "output_type": "stream",
     "text": [
      "Best trial: 166. Best value: 0.619808:  66%|██████▌   | 197/300 [2:41:37<1:27:35, 51.02s/it, 9697.41/14400 seconds]"
     ]
    },
    {
     "name": "stdout",
     "output_type": "stream",
     "text": [
      "[I 2025-08-11 02:30:22,441] Trial 196 finished with value: 0.6135265700483091 and parameters: {'iterations': 12000, 'learning_rate': 0.02083498225313477, 'depth': 4, 'l2_leaf_reg': 1.0153501698256289, 'bagging_temperature': 0.16252871659229218, 'random_strength': 0.34541145273617135, 'subsample': 0.7514583417656217, 'rsm': 0.9402249801508803, 'scale_pos_weight': 2.4809099758796576}. Best is trial 166 with value: 0.6198083067092651.\n"
     ]
    },
    {
     "name": "stderr",
     "output_type": "stream",
     "text": [
      "Best trial: 166. Best value: 0.619808:  66%|██████▌   | 198/300 [2:42:06<1:15:30, 44.41s/it, 9726.40/14400 seconds]"
     ]
    },
    {
     "name": "stdout",
     "output_type": "stream",
     "text": [
      "[I 2025-08-11 02:30:51,427] Trial 197 finished with value: 0.6097750193948798 and parameters: {'iterations': 12000, 'learning_rate': 0.10613819741375374, 'depth': 5, 'l2_leaf_reg': 3.8834237830319935, 'bagging_temperature': 1.123601931150092, 'random_strength': 1.960073703106396, 'subsample': 0.904553323040093, 'rsm': 0.839221090658659, 'scale_pos_weight': 1.2467239777897472}. Best is trial 166 with value: 0.6198083067092651.\n"
     ]
    },
    {
     "name": "stderr",
     "output_type": "stream",
     "text": [
      "Best trial: 166. Best value: 0.619808:  66%|██████▋   | 199/300 [2:43:03<1:21:09, 48.21s/it, 9783.47/14400 seconds]"
     ]
    },
    {
     "name": "stdout",
     "output_type": "stream",
     "text": [
      "[I 2025-08-11 02:31:48,486] Trial 198 finished with value: 0.6048632218844985 and parameters: {'iterations': 4000, 'learning_rate': 0.037519961130019056, 'depth': 6, 'l2_leaf_reg': 2.221253991067739, 'bagging_temperature': 1.3323789312779042, 'random_strength': 2.3697385312862327, 'subsample': 0.7317470321116368, 'rsm': 0.903148882618566, 'scale_pos_weight': 1.6104375696792392}. Best is trial 166 with value: 0.6198083067092651.\n"
     ]
    },
    {
     "name": "stderr",
     "output_type": "stream",
     "text": [
      "Best trial: 166. Best value: 0.619808:  67%|██████▋   | 200/300 [2:44:21<1:35:29, 57.30s/it, 9861.97/14400 seconds]"
     ]
    },
    {
     "name": "stdout",
     "output_type": "stream",
     "text": [
      "[I 2025-08-11 02:33:06,990] Trial 199 finished with value: 0.6061120543293718 and parameters: {'iterations': 12000, 'learning_rate': 0.029014437875968947, 'depth': 4, 'l2_leaf_reg': 36.00064478237158, 'bagging_temperature': 0.2784635980376422, 'random_strength': 0.7497258801036247, 'subsample': 0.7156796497328402, 'rsm': 0.6667156991450401, 'scale_pos_weight': 2.189603705651611}. Best is trial 166 with value: 0.6198083067092651.\n"
     ]
    },
    {
     "name": "stderr",
     "output_type": "stream",
     "text": [
      "Best trial: 166. Best value: 0.619808:  67%|██████▋   | 201/300 [2:44:47<1:18:55, 47.83s/it, 9887.71/14400 seconds]"
     ]
    },
    {
     "name": "stdout",
     "output_type": "stream",
     "text": [
      "[I 2025-08-11 02:33:32,744] Trial 200 finished with value: 0.5949470252648736 and parameters: {'iterations': 11000, 'learning_rate': 0.11132571202234294, 'depth': 6, 'l2_leaf_reg': 0.004856668703784856, 'bagging_temperature': 3.9025151204185975, 'random_strength': 2.394749449732811, 'subsample': 0.9569784245195587, 'rsm': 0.6800967426207392, 'scale_pos_weight': 2.362145056707893}. Best is trial 166 with value: 0.6198083067092651.\n"
     ]
    },
    {
     "name": "stderr",
     "output_type": "stream",
     "text": [
      "Best trial: 166. Best value: 0.619808:  67%|██████▋   | 202/300 [2:45:47<1:23:54, 51.37s/it, 9947.34/14400 seconds]"
     ]
    },
    {
     "name": "stdout",
     "output_type": "stream",
     "text": [
      "[I 2025-08-11 02:34:32,345] Trial 201 finished with value: 0.6072874493927125 and parameters: {'iterations': 6000, 'learning_rate': 0.039207332057622314, 'depth': 4, 'l2_leaf_reg': 59.394123459134555, 'bagging_temperature': 0.4590238018644073, 'random_strength': 0.2987473143880494, 'subsample': 0.7217241553035005, 'rsm': 0.8121073131758089, 'scale_pos_weight': 2.233885251671543}. Best is trial 166 with value: 0.6198083067092651.\n"
     ]
    },
    {
     "name": "stderr",
     "output_type": "stream",
     "text": [
      "Best trial: 166. Best value: 0.619808:  68%|██████▊   | 203/300 [2:46:35<1:21:15, 50.27s/it, 9995.04/14400 seconds]"
     ]
    },
    {
     "name": "stdout",
     "output_type": "stream",
     "text": [
      "[I 2025-08-11 02:35:20,074] Trial 202 finished with value: 0.5993740219092332 and parameters: {'iterations': 6000, 'learning_rate': 0.0379227782172112, 'depth': 6, 'l2_leaf_reg': 0.2536201805026411, 'bagging_temperature': 0.15411349163326205, 'random_strength': 1.6244904785463077, 'subsample': 0.8393950994886735, 'rsm': 0.9825434375404536, 'scale_pos_weight': 1.7346932161745257}. Best is trial 166 with value: 0.6198083067092651.\n"
     ]
    },
    {
     "name": "stderr",
     "output_type": "stream",
     "text": [
      "Best trial: 166. Best value: 0.619808:  68%|██████▊   | 204/300 [2:48:09<1:41:51, 63.66s/it, 10089.94/14400 seconds]"
     ]
    },
    {
     "name": "stdout",
     "output_type": "stream",
     "text": [
      "[I 2025-08-11 02:36:54,940] Trial 203 finished with value: 0.6070588235294118 and parameters: {'iterations': 12000, 'learning_rate': 0.02145862753489717, 'depth': 4, 'l2_leaf_reg': 70.2392869467618, 'bagging_temperature': 2.0510267016617254, 'random_strength': 0.26425024824076365, 'subsample': 0.7323526137941218, 'rsm': 0.969642564101749, 'scale_pos_weight': 2.4582988594093425}. Best is trial 166 with value: 0.6198083067092651.\n"
     ]
    },
    {
     "name": "stderr",
     "output_type": "stream",
     "text": [
      "Best trial: 166. Best value: 0.619808:  68%|██████▊   | 205/300 [2:49:05<1:37:06, 61.33s/it, 10145.85/14400 seconds]"
     ]
    },
    {
     "name": "stdout",
     "output_type": "stream",
     "text": [
      "[I 2025-08-11 02:37:50,881] Trial 204 finished with value: 0.6132930513595166 and parameters: {'iterations': 7000, 'learning_rate': 0.06607651010346116, 'depth': 4, 'l2_leaf_reg': 49.51098266453475, 'bagging_temperature': 0.45407139126338436, 'random_strength': 1.7853556791099696, 'subsample': 0.7688661004561477, 'rsm': 0.9627091410013525, 'scale_pos_weight': 1.5999072538632948}. Best is trial 166 with value: 0.6198083067092651.\n"
     ]
    },
    {
     "name": "stderr",
     "output_type": "stream",
     "text": [
      "Best trial: 166. Best value: 0.619808:  69%|██████▊   | 206/300 [2:49:41<1:23:48, 53.50s/it, 10181.06/14400 seconds]"
     ]
    },
    {
     "name": "stdout",
     "output_type": "stream",
     "text": [
      "[I 2025-08-11 02:38:26,097] Trial 205 finished with value: 0.6053639846743295 and parameters: {'iterations': 8000, 'learning_rate': 0.049731452823562804, 'depth': 4, 'l2_leaf_reg': 5.164112076390603, 'bagging_temperature': 0.04661022735748954, 'random_strength': 0.10278538019503822, 'subsample': 0.7044208342910777, 'rsm': 0.8595759878471843, 'scale_pos_weight': 1.9816146806922652}. Best is trial 166 with value: 0.6198083067092651.\n"
     ]
    },
    {
     "name": "stderr",
     "output_type": "stream",
     "text": [
      "Best trial: 166. Best value: 0.619808:  69%|██████▉   | 207/300 [2:50:46<1:28:39, 57.20s/it, 10246.90/14400 seconds]"
     ]
    },
    {
     "name": "stdout",
     "output_type": "stream",
     "text": [
      "[I 2025-08-11 02:39:31,933] Trial 206 finished with value: 0.6028257456828885 and parameters: {'iterations': 9000, 'learning_rate': 0.03687626927046419, 'depth': 5, 'l2_leaf_reg': 36.1906743505334, 'bagging_temperature': 1.3799549688770845, 'random_strength': 0.7222959506466237, 'subsample': 0.7201263601709353, 'rsm': 0.7095657091122015, 'scale_pos_weight': 2.4916661723453974}. Best is trial 166 with value: 0.6198083067092651.\n"
     ]
    },
    {
     "name": "stderr",
     "output_type": "stream",
     "text": [
      "Best trial: 166. Best value: 0.619808:  69%|██████▉   | 208/300 [2:51:18<1:15:54, 49.50s/it, 10278.44/14400 seconds]"
     ]
    },
    {
     "name": "stdout",
     "output_type": "stream",
     "text": [
      "[I 2025-08-11 02:40:03,475] Trial 207 finished with value: 0.6056971514242878 and parameters: {'iterations': 9000, 'learning_rate': 0.04294066871481712, 'depth': 4, 'l2_leaf_reg': 0.03489441889462198, 'bagging_temperature': 0.10734380843588487, 'random_strength': 0.3964707028426948, 'subsample': 0.7121247014782265, 'rsm': 0.7386295689828977, 'scale_pos_weight': 2.441247706148825}. Best is trial 166 with value: 0.6198083067092651.\n"
     ]
    },
    {
     "name": "stderr",
     "output_type": "stream",
     "text": [
      "Best trial: 166. Best value: 0.619808:  70%|██████▉   | 209/300 [2:52:35<1:27:40, 57.80s/it, 10355.62/14400 seconds]"
     ]
    },
    {
     "name": "stdout",
     "output_type": "stream",
     "text": [
      "[I 2025-08-11 02:41:20,655] Trial 208 finished with value: 0.6044444444444445 and parameters: {'iterations': 9000, 'learning_rate': 0.0226509499146663, 'depth': 4, 'l2_leaf_reg': 11.098155486025377, 'bagging_temperature': 4.507816480685733, 'random_strength': 2.2132600374636384, 'subsample': 0.7878065968739393, 'rsm': 0.9405016908477434, 'scale_pos_weight': 1.985815771192565}. Best is trial 166 with value: 0.6198083067092651.\n"
     ]
    },
    {
     "name": "stderr",
     "output_type": "stream",
     "text": [
      "Best trial: 166. Best value: 0.619808:  70%|███████   | 210/300 [2:53:25<1:23:01, 55.35s/it, 10405.23/14400 seconds]"
     ]
    },
    {
     "name": "stdout",
     "output_type": "stream",
     "text": [
      "[I 2025-08-11 02:42:10,256] Trial 209 finished with value: 0.6161137440758294 and parameters: {'iterations': 9000, 'learning_rate': 0.02666564804509191, 'depth': 4, 'l2_leaf_reg': 0.13854105614154905, 'bagging_temperature': 2.2410825748190315, 'random_strength': 0.7967727123733812, 'subsample': 0.7241838418529059, 'rsm': 0.8313185788151976, 'scale_pos_weight': 2.0025471459287414}. Best is trial 166 with value: 0.6198083067092651.\n"
     ]
    },
    {
     "name": "stderr",
     "output_type": "stream",
     "text": [
      "Best trial: 166. Best value: 0.619808:  70%|███████   | 211/300 [2:53:59<1:12:42, 49.02s/it, 10439.48/14400 seconds]"
     ]
    },
    {
     "name": "stdout",
     "output_type": "stream",
     "text": [
      "[I 2025-08-11 02:42:44,505] Trial 210 finished with value: 0.6009316770186336 and parameters: {'iterations': 4000, 'learning_rate': 0.05240683756087623, 'depth': 5, 'l2_leaf_reg': 0.06597308794990957, 'bagging_temperature': 2.3888080981347075, 'random_strength': 2.4003343256801974, 'subsample': 0.8260269590318503, 'rsm': 0.972536143587943, 'scale_pos_weight': 1.860476116599226}. Best is trial 166 with value: 0.6198083067092651.\n"
     ]
    },
    {
     "name": "stderr",
     "output_type": "stream",
     "text": [
      "Best trial: 166. Best value: 0.619808:  71%|███████   | 212/300 [2:54:29<1:03:20, 43.18s/it, 10469.05/14400 seconds]"
     ]
    },
    {
     "name": "stdout",
     "output_type": "stream",
     "text": [
      "[I 2025-08-11 02:43:14,072] Trial 211 finished with value: 0.6073380171740828 and parameters: {'iterations': 10000, 'learning_rate': 0.05356459371086677, 'depth': 4, 'l2_leaf_reg': 0.14714714915389943, 'bagging_temperature': 2.837664959125284, 'random_strength': 0.9806177869947101, 'subsample': 0.7002130762733506, 'rsm': 0.9457424760663915, 'scale_pos_weight': 2.2926459190308863}. Best is trial 166 with value: 0.6198083067092651.\n"
     ]
    },
    {
     "name": "stderr",
     "output_type": "stream",
     "text": [
      "Best trial: 166. Best value: 0.619808:  71%|███████   | 213/300 [2:55:31<1:11:03, 49.01s/it, 10531.64/14400 seconds]"
     ]
    },
    {
     "name": "stdout",
     "output_type": "stream",
     "text": [
      "[I 2025-08-11 02:44:16,677] Trial 212 finished with value: 0.6161449752883031 and parameters: {'iterations': 5000, 'learning_rate': 0.03359276447491974, 'depth': 4, 'l2_leaf_reg': 12.750634226972545, 'bagging_temperature': 1.5517237068993295, 'random_strength': 1.6025852047035265, 'subsample': 0.7026139959810744, 'rsm': 0.8349982515518047, 'scale_pos_weight': 1.8126933272134502}. Best is trial 166 with value: 0.6198083067092651.\n"
     ]
    },
    {
     "name": "stderr",
     "output_type": "stream",
     "text": [
      "Best trial: 166. Best value: 0.619808:  71%|███████▏  | 214/300 [2:56:43<1:20:15, 56.00s/it, 10603.95/14400 seconds]"
     ]
    },
    {
     "name": "stdout",
     "output_type": "stream",
     "text": [
      "[I 2025-08-11 02:45:28,977] Trial 213 finished with value: 0.6075313807531381 and parameters: {'iterations': 4000, 'learning_rate': 0.02851934189018875, 'depth': 5, 'l2_leaf_reg': 15.517365441954226, 'bagging_temperature': 2.053200523305124, 'random_strength': 1.5335892439882857, 'subsample': 0.7012146437500173, 'rsm': 0.8220356280539993, 'scale_pos_weight': 2.0281239499809733}. Best is trial 166 with value: 0.6198083067092651.\n"
     ]
    },
    {
     "name": "stderr",
     "output_type": "stream",
     "text": [
      "Best trial: 166. Best value: 0.619808:  72%|███████▏  | 215/300 [2:57:54<1:25:26, 60.32s/it, 10674.35/14400 seconds]"
     ]
    },
    {
     "name": "stdout",
     "output_type": "stream",
     "text": [
      "[I 2025-08-11 02:46:39,377] Trial 214 finished with value: 0.6071133167907361 and parameters: {'iterations': 5000, 'learning_rate': 0.034473776297917876, 'depth': 4, 'l2_leaf_reg': 26.259232671209066, 'bagging_temperature': 1.4117772891810743, 'random_strength': 1.3743281779365577, 'subsample': 0.717445970225708, 'rsm': 0.9504548727252273, 'scale_pos_weight': 1.6610529884568017}. Best is trial 166 with value: 0.6198083067092651.\n"
     ]
    },
    {
     "name": "stderr",
     "output_type": "stream",
     "text": [
      "Best trial: 215. Best value: 0.624705:  72%|███████▏  | 215/300 [2:58:24<1:25:26, 60.32s/it, 10674.35/14400 seconds]"
     ]
    },
    {
     "name": "stdout",
     "output_type": "stream",
     "text": [
      "[I 2025-08-11 02:47:08,988] Trial 215 finished with value: 0.6247049567269867 and parameters: {'iterations': 9000, 'learning_rate': 0.05493064682626694, 'depth': 4, 'l2_leaf_reg': 0.5115786758048061, 'bagging_temperature': 1.2242967294479623, 'random_strength': 0.04837554120029483, 'subsample': 0.7248481343107376, 'rsm': 0.7610964299432775, 'scale_pos_weight': 1.7084264209085225}. Best is trial 215 with value: 0.6247049567269867.\n"
     ]
    },
    {
     "name": "stderr",
     "output_type": "stream",
     "text": [
      "Best trial: 215. Best value: 0.624705:  72%|███████▏  | 217/300 [2:58:59<1:04:03, 46.31s/it, 10739.10/14400 seconds]"
     ]
    },
    {
     "name": "stdout",
     "output_type": "stream",
     "text": [
      "[I 2025-08-11 02:47:44,126] Trial 216 finished with value: 0.6046511627906976 and parameters: {'iterations': 8000, 'learning_rate': 0.0504157674006212, 'depth': 4, 'l2_leaf_reg': 0.0880535938460963, 'bagging_temperature': 1.5105048528541545, 'random_strength': 0.5516659994547637, 'subsample': 0.7336007116728401, 'rsm': 0.6832865690192554, 'scale_pos_weight': 1.1038979397681434}. Best is trial 215 with value: 0.6247049567269867.\n"
     ]
    },
    {
     "name": "stderr",
     "output_type": "stream",
     "text": [
      "Best trial: 215. Best value: 0.624705:  73%|███████▎  | 218/300 [2:59:56<1:07:59, 49.74s/it, 10796.85/14400 seconds]"
     ]
    },
    {
     "name": "stdout",
     "output_type": "stream",
     "text": [
      "[I 2025-08-11 02:48:41,884] Trial 217 finished with value: 0.6131147540983607 and parameters: {'iterations': 12000, 'learning_rate': 0.02501582218343864, 'depth': 4, 'l2_leaf_reg': 4.253297447832782, 'bagging_temperature': 1.3805568763239675, 'random_strength': 1.484818461758232, 'subsample': 0.8141417289351254, 'rsm': 0.9948799280639682, 'scale_pos_weight': 2.1680037702348978}. Best is trial 215 with value: 0.6247049567269867.\n"
     ]
    },
    {
     "name": "stderr",
     "output_type": "stream",
     "text": [
      "Best trial: 215. Best value: 0.624705:  73%|███████▎  | 219/300 [3:00:32<1:01:25, 45.50s/it, 10832.45/14400 seconds]"
     ]
    },
    {
     "name": "stdout",
     "output_type": "stream",
     "text": [
      "[I 2025-08-11 02:49:17,450] Trial 218 finished with value: 0.5962373371924746 and parameters: {'iterations': 11000, 'learning_rate': 0.04448288856006394, 'depth': 6, 'l2_leaf_reg': 0.5539757627900328, 'bagging_temperature': 1.0358386077364097, 'random_strength': 0.000339697607923857, 'subsample': 0.7544998894244219, 'rsm': 0.8391349806241302, 'scale_pos_weight': 1.4152767902771317}. Best is trial 215 with value: 0.6247049567269867.\n"
     ]
    },
    {
     "name": "stderr",
     "output_type": "stream",
     "text": [
      "Best trial: 215. Best value: 0.624705:  73%|███████▎  | 220/300 [3:01:23<1:02:58, 47.24s/it, 10883.74/14400 seconds]"
     ]
    },
    {
     "name": "stdout",
     "output_type": "stream",
     "text": [
      "[I 2025-08-11 02:50:08,764] Trial 219 finished with value: 0.6075768406004288 and parameters: {'iterations': 8000, 'learning_rate': 0.025786790156347682, 'depth': 4, 'l2_leaf_reg': 0.10054012933355862, 'bagging_temperature': 3.3200059151428976, 'random_strength': 0.6086536447025955, 'subsample': 0.7497074867273053, 'rsm': 0.7845400000548411, 'scale_pos_weight': 1.7596446885556272}. Best is trial 215 with value: 0.6247049567269867.\n"
     ]
    },
    {
     "name": "stderr",
     "output_type": "stream",
     "text": [
      "Best trial: 215. Best value: 0.624705:  74%|███████▎  | 221/300 [3:02:45<1:15:46, 57.55s/it, 10965.36/14400 seconds]"
     ]
    },
    {
     "name": "stdout",
     "output_type": "stream",
     "text": [
      "[I 2025-08-11 02:51:30,392] Trial 220 finished with value: 0.6066718386346005 and parameters: {'iterations': 6000, 'learning_rate': 0.03938972630768875, 'depth': 4, 'l2_leaf_reg': 35.82355785553786, 'bagging_temperature': 3.0715978602755296, 'random_strength': 1.3900014592721457, 'subsample': 0.7169784923142525, 'rsm': 0.7392448414425149, 'scale_pos_weight': 1.2506340372113764}. Best is trial 215 with value: 0.6247049567269867.\n"
     ]
    },
    {
     "name": "stderr",
     "output_type": "stream",
     "text": [
      "Best trial: 215. Best value: 0.624705:  74%|███████▍  | 222/300 [3:03:14<1:03:36, 48.92s/it, 10994.14/14400 seconds]"
     ]
    },
    {
     "name": "stdout",
     "output_type": "stream",
     "text": [
      "[I 2025-08-11 02:51:59,175] Trial 221 finished with value: 0.60625 and parameters: {'iterations': 10000, 'learning_rate': 0.0628794895286966, 'depth': 4, 'l2_leaf_reg': 0.2726126475204213, 'bagging_temperature': 2.196778297920789, 'random_strength': 0.00019981972885097649, 'subsample': 0.7150960760747086, 'rsm': 0.7353940031989192, 'scale_pos_weight': 1.6132148804178326}. Best is trial 215 with value: 0.6247049567269867.\n"
     ]
    },
    {
     "name": "stderr",
     "output_type": "stream",
     "text": [
      "Best trial: 215. Best value: 0.624705:  74%|███████▍  | 223/300 [3:04:07<1:04:20, 50.13s/it, 11047.08/14400 seconds]"
     ]
    },
    {
     "name": "stdout",
     "output_type": "stream",
     "text": [
      "[I 2025-08-11 02:52:52,115] Trial 222 finished with value: 0.5829228243021346 and parameters: {'iterations': 10000, 'learning_rate': 0.026690748366245087, 'depth': 8, 'l2_leaf_reg': 0.00709591459985929, 'bagging_temperature': 6.84567100112474, 'random_strength': 2.3492168328026017, 'subsample': 0.8257935110998945, 'rsm': 0.6797861704853473, 'scale_pos_weight': 0.9725879980031241}. Best is trial 215 with value: 0.6247049567269867.\n"
     ]
    },
    {
     "name": "stderr",
     "output_type": "stream",
     "text": [
      "Best trial: 215. Best value: 0.624705:  75%|███████▍  | 224/300 [3:05:09<1:08:17, 53.91s/it, 11109.84/14400 seconds]"
     ]
    },
    {
     "name": "stdout",
     "output_type": "stream",
     "text": [
      "[I 2025-08-11 02:53:54,867] Trial 223 finished with value: 0.604149377593361 and parameters: {'iterations': 4000, 'learning_rate': 0.02125124130369017, 'depth': 5, 'l2_leaf_reg': 1.256781774595027, 'bagging_temperature': 1.3344584566297744, 'random_strength': 0.5401848952188977, 'subsample': 0.7429520275749656, 'rsm': 0.8339500482333156, 'scale_pos_weight': 1.8019105507889766}. Best is trial 215 with value: 0.6247049567269867.\n"
     ]
    },
    {
     "name": "stderr",
     "output_type": "stream",
     "text": [
      "Best trial: 215. Best value: 0.624705:  75%|███████▌  | 225/300 [3:05:47<1:01:14, 49.00s/it, 11147.36/14400 seconds]"
     ]
    },
    {
     "name": "stdout",
     "output_type": "stream",
     "text": [
      "[I 2025-08-11 02:54:32,389] Trial 224 finished with value: 0.6106264869151468 and parameters: {'iterations': 4000, 'learning_rate': 0.04763663478537734, 'depth': 4, 'l2_leaf_reg': 0.6236340491596802, 'bagging_temperature': 0.8557133214062751, 'random_strength': 2.8579407593034905, 'subsample': 0.745731000511519, 'rsm': 0.9537118172834768, 'scale_pos_weight': 2.1904366604806578}. Best is trial 215 with value: 0.6247049567269867.\n"
     ]
    },
    {
     "name": "stderr",
     "output_type": "stream",
     "text": [
      "Best trial: 215. Best value: 0.624705:  75%|███████▌  | 226/300 [3:06:38<1:01:08, 49.57s/it, 11198.27/14400 seconds]"
     ]
    },
    {
     "name": "stdout",
     "output_type": "stream",
     "text": [
      "[I 2025-08-11 02:55:23,295] Trial 225 finished with value: 0.6054628224582701 and parameters: {'iterations': 8000, 'learning_rate': 0.02791750009976855, 'depth': 5, 'l2_leaf_reg': 0.24344259151834532, 'bagging_temperature': 3.9486391675919936, 'random_strength': 0.9514387213327999, 'subsample': 0.7265729968483897, 'rsm': 0.9264229691769771, 'scale_pos_weight': 2.006727441108321}. Best is trial 215 with value: 0.6247049567269867.\n"
     ]
    },
    {
     "name": "stderr",
     "output_type": "stream",
     "text": [
      "Best trial: 215. Best value: 0.624705:  76%|███████▌  | 227/300 [3:07:05<52:18, 42.99s/it, 11225.90/14400 seconds]  "
     ]
    },
    {
     "name": "stdout",
     "output_type": "stream",
     "text": [
      "[I 2025-08-11 02:55:50,931] Trial 226 finished with value: 0.6165527714502658 and parameters: {'iterations': 9000, 'learning_rate': 0.06101732487029369, 'depth': 4, 'l2_leaf_reg': 0.5350934615065783, 'bagging_temperature': 1.2989963802430424, 'random_strength': 0.19665828507439873, 'subsample': 0.7054674520604806, 'rsm': 0.7678739648801362, 'scale_pos_weight': 2.1981121594514206}. Best is trial 215 with value: 0.6247049567269867.\n"
     ]
    },
    {
     "name": "stderr",
     "output_type": "stream",
     "text": [
      "Best trial: 215. Best value: 0.624705:  76%|███████▌  | 228/300 [3:07:46<50:52, 42.39s/it, 11266.90/14400 seconds]"
     ]
    },
    {
     "name": "stdout",
     "output_type": "stream",
     "text": [
      "[I 2025-08-11 02:56:31,902] Trial 227 finished with value: 0.610410094637224 and parameters: {'iterations': 10000, 'learning_rate': 0.033630300925586325, 'depth': 4, 'l2_leaf_reg': 0.5521539109388122, 'bagging_temperature': 2.794374925842209, 'random_strength': 0.29683210230978047, 'subsample': 0.7007718689654863, 'rsm': 0.8201902161373564, 'scale_pos_weight': 1.5773162441546884}. Best is trial 215 with value: 0.6247049567269867.\n"
     ]
    },
    {
     "name": "stderr",
     "output_type": "stream",
     "text": [
      "Best trial: 215. Best value: 0.624705:  76%|███████▋  | 229/300 [3:08:29<50:22, 42.57s/it, 11309.88/14400 seconds]"
     ]
    },
    {
     "name": "stdout",
     "output_type": "stream",
     "text": [
      "[I 2025-08-11 02:57:14,904] Trial 228 finished with value: 0.6085011185682326 and parameters: {'iterations': 5000, 'learning_rate': 0.05210338073515918, 'depth': 4, 'l2_leaf_reg': 4.900552493688214, 'bagging_temperature': 4.230059103324002, 'random_strength': 2.918089859568659, 'subsample': 0.8137710626846262, 'rsm': 0.9742155064768195, 'scale_pos_weight': 1.3847586675266397}. Best is trial 215 with value: 0.6247049567269867.\n"
     ]
    },
    {
     "name": "stderr",
     "output_type": "stream",
     "text": [
      "Best trial: 215. Best value: 0.624705:  77%|███████▋  | 230/300 [3:09:03<46:32, 39.89s/it, 11343.52/14400 seconds]"
     ]
    },
    {
     "name": "stdout",
     "output_type": "stream",
     "text": [
      "[I 2025-08-11 02:57:48,546] Trial 229 finished with value: 0.6143682906688687 and parameters: {'iterations': 8000, 'learning_rate': 0.05120011368078945, 'depth': 5, 'l2_leaf_reg': 6.4364519788308225, 'bagging_temperature': 0.2204918904492208, 'random_strength': 0.07871856951637728, 'subsample': 0.7018595692874245, 'rsm': 0.6354576584415217, 'scale_pos_weight': 1.9969202616457862}. Best is trial 215 with value: 0.6247049567269867.\n"
     ]
    },
    {
     "name": "stderr",
     "output_type": "stream",
     "text": [
      "Best trial: 215. Best value: 0.624705:  77%|███████▋  | 231/300 [3:09:42<45:26, 39.51s/it, 11382.13/14400 seconds]"
     ]
    },
    {
     "name": "stdout",
     "output_type": "stream",
     "text": [
      "[I 2025-08-11 02:58:27,161] Trial 230 finished with value: 0.61 and parameters: {'iterations': 4000, 'learning_rate': 0.05492183797926886, 'depth': 4, 'l2_leaf_reg': 2.959697905153624, 'bagging_temperature': 1.1543537543318332, 'random_strength': 2.1670364741465593, 'subsample': 0.7498908224184683, 'rsm': 0.82395471393363, 'scale_pos_weight': 1.7383334401036978}. Best is trial 215 with value: 0.6247049567269867.\n"
     ]
    },
    {
     "name": "stderr",
     "output_type": "stream",
     "text": [
      "Best trial: 215. Best value: 0.624705:  77%|███████▋  | 232/300 [3:10:11<41:11, 36.35s/it, 11411.10/14400 seconds]"
     ]
    },
    {
     "name": "stdout",
     "output_type": "stream",
     "text": [
      "[I 2025-08-11 02:58:56,130] Trial 231 finished with value: 0.6111975116640747 and parameters: {'iterations': 8000, 'learning_rate': 0.059333226366816434, 'depth': 4, 'l2_leaf_reg': 0.7348893866407459, 'bagging_temperature': 0.10975292213796728, 'random_strength': 0.2496756726842877, 'subsample': 0.7294534299991343, 'rsm': 0.74995948741065, 'scale_pos_weight': 1.8099661423171898}. Best is trial 215 with value: 0.6247049567269867.\n"
     ]
    },
    {
     "name": "stderr",
     "output_type": "stream",
     "text": [
      "Best trial: 215. Best value: 0.624705:  78%|███████▊  | 233/300 [3:10:34<36:22, 32.58s/it, 11434.90/14400 seconds]"
     ]
    },
    {
     "name": "stdout",
     "output_type": "stream",
     "text": [
      "[I 2025-08-11 02:59:19,931] Trial 232 finished with value: 0.6059351276742581 and parameters: {'iterations': 9000, 'learning_rate': 0.07880430702730969, 'depth': 4, 'l2_leaf_reg': 0.2416198721188833, 'bagging_temperature': 0.7919491355692451, 'random_strength': 0.21388517697308093, 'subsample': 0.7161406244716929, 'rsm': 0.712046641764017, 'scale_pos_weight': 2.3168402510323887}. Best is trial 215 with value: 0.6247049567269867.\n"
     ]
    },
    {
     "name": "stderr",
     "output_type": "stream",
     "text": [
      "Best trial: 215. Best value: 0.624705:  78%|███████▊  | 234/300 [3:11:12<37:34, 34.16s/it, 11472.74/14400 seconds]"
     ]
    },
    {
     "name": "stdout",
     "output_type": "stream",
     "text": [
      "[I 2025-08-11 02:59:57,771] Trial 233 finished with value: 0.6144366197183099 and parameters: {'iterations': 9000, 'learning_rate': 0.048296217106575744, 'depth': 5, 'l2_leaf_reg': 4.125951704077785, 'bagging_temperature': 0.4805517194035025, 'random_strength': 0.7148552924997579, 'subsample': 0.7558667591245207, 'rsm': 0.6719041432399647, 'scale_pos_weight': 2.059800713860649}. Best is trial 215 with value: 0.6247049567269867.\n"
     ]
    },
    {
     "name": "stderr",
     "output_type": "stream",
     "text": [
      "Best trial: 215. Best value: 0.624705:  78%|███████▊  | 235/300 [3:12:18<47:11, 43.56s/it, 11538.22/14400 seconds]"
     ]
    },
    {
     "name": "stdout",
     "output_type": "stream",
     "text": [
      "[I 2025-08-11 03:01:03,251] Trial 234 finished with value: 0.6021671826625387 and parameters: {'iterations': 10000, 'learning_rate': 0.03831603086848556, 'depth': 6, 'l2_leaf_reg': 17.685337852677495, 'bagging_temperature': 1.4643137180904646, 'random_strength': 1.0933764725888104, 'subsample': 0.8304581632960095, 'rsm': 0.6936353340448208, 'scale_pos_weight': 1.6990799830539902}. Best is trial 215 with value: 0.6247049567269867.\n"
     ]
    },
    {
     "name": "stderr",
     "output_type": "stream",
     "text": [
      "Best trial: 215. Best value: 0.624705:  79%|███████▊  | 236/300 [3:13:09<48:52, 45.82s/it, 11589.33/14400 seconds]"
     ]
    },
    {
     "name": "stdout",
     "output_type": "stream",
     "text": [
      "[I 2025-08-11 03:01:54,339] Trial 235 finished with value: 0.6124542124542125 and parameters: {'iterations': 5000, 'learning_rate': 0.04097055774410094, 'depth': 5, 'l2_leaf_reg': 2.2110432998240768, 'bagging_temperature': 0.6337293152973285, 'random_strength': 2.403032048280882, 'subsample': 0.8538488602401554, 'rsm': 0.9770214015153981, 'scale_pos_weight': 0.8426057834871251}. Best is trial 215 with value: 0.6247049567269867.\n"
     ]
    },
    {
     "name": "stderr",
     "output_type": "stream",
     "text": [
      "Best trial: 215. Best value: 0.624705:  79%|███████▉  | 237/300 [3:13:41<43:54, 41.82s/it, 11621.80/14400 seconds]"
     ]
    },
    {
     "name": "stdout",
     "output_type": "stream",
     "text": [
      "[I 2025-08-11 03:02:26,840] Trial 236 finished with value: 0.6094137076796037 and parameters: {'iterations': 9000, 'learning_rate': 0.06306256554690974, 'depth': 5, 'l2_leaf_reg': 0.759627237601774, 'bagging_temperature': 1.790179405205449, 'random_strength': 0.6729525988230923, 'subsample': 0.8120733849885358, 'rsm': 0.6464674226322248, 'scale_pos_weight': 1.6813596723929556}. Best is trial 215 with value: 0.6247049567269867.\n"
     ]
    },
    {
     "name": "stderr",
     "output_type": "stream",
     "text": [
      "Best trial: 215. Best value: 0.624705:  79%|███████▉  | 238/300 [3:14:19<41:55, 40.57s/it, 11659.45/14400 seconds]"
     ]
    },
    {
     "name": "stdout",
     "output_type": "stream",
     "text": [
      "[I 2025-08-11 03:03:04,482] Trial 237 finished with value: 0.5789839944328462 and parameters: {'iterations': 9000, 'learning_rate': 0.04940031036637698, 'depth': 9, 'l2_leaf_reg': 0.008119923908405522, 'bagging_temperature': 6.112596306350614, 'random_strength': 1.7672863235919718, 'subsample': 0.9120818844548115, 'rsm': 0.8910562775895648, 'scale_pos_weight': 2.1451544011522667}. Best is trial 215 with value: 0.6247049567269867.\n"
     ]
    },
    {
     "name": "stderr",
     "output_type": "stream",
     "text": [
      "Best trial: 215. Best value: 0.624705:  80%|███████▉  | 239/300 [3:15:33<51:27, 50.61s/it, 11733.50/14400 seconds]"
     ]
    },
    {
     "name": "stdout",
     "output_type": "stream",
     "text": [
      "[I 2025-08-11 03:04:18,499] Trial 238 finished with value: 0.6103678929765887 and parameters: {'iterations': 12000, 'learning_rate': 0.05868501147523632, 'depth': 7, 'l2_leaf_reg': 83.89965443318076, 'bagging_temperature': 6.144035106523563, 'random_strength': 2.5334691854887086, 'subsample': 0.8694805279050695, 'rsm': 0.7550881797554044, 'scale_pos_weight': 1.3903237392432577}. Best is trial 215 with value: 0.6247049567269867.\n"
     ]
    },
    {
     "name": "stderr",
     "output_type": "stream",
     "text": [
      "Best trial: 215. Best value: 0.624705:  80%|████████  | 240/300 [3:16:11<46:43, 46.72s/it, 11771.14/14400 seconds]"
     ]
    },
    {
     "name": "stdout",
     "output_type": "stream",
     "text": [
      "[I 2025-08-11 03:04:56,169] Trial 239 finished with value: 0.590711175616836 and parameters: {'iterations': 9000, 'learning_rate': 0.021255163457720504, 'depth': 7, 'l2_leaf_reg': 0.01051632431925711, 'bagging_temperature': 6.135754762565484, 'random_strength': 0.43055811847445025, 'subsample': 0.9185131758355802, 'rsm': 0.6985790132141284, 'scale_pos_weight': 1.7891257449115248}. Best is trial 215 with value: 0.6247049567269867.\n"
     ]
    },
    {
     "name": "stderr",
     "output_type": "stream",
     "text": [
      "Best trial: 215. Best value: 0.624705:  80%|████████  | 241/300 [3:16:51<44:01, 44.77s/it, 11811.36/14400 seconds]"
     ]
    },
    {
     "name": "stdout",
     "output_type": "stream",
     "text": [
      "[I 2025-08-11 03:05:36,387] Trial 240 finished with value: 0.6044830079537238 and parameters: {'iterations': 9000, 'learning_rate': 0.03415581327422481, 'depth': 4, 'l2_leaf_reg': 0.1619675213176587, 'bagging_temperature': 3.537248816816765, 'random_strength': 1.319656128291871, 'subsample': 0.7336494365466731, 'rsm': 0.8319511267618008, 'scale_pos_weight': 2.289986076714893}. Best is trial 215 with value: 0.6247049567269867.\n"
     ]
    },
    {
     "name": "stderr",
     "output_type": "stream",
     "text": [
      "Best trial: 215. Best value: 0.624705:  81%|████████  | 242/300 [3:17:39<44:08, 45.66s/it, 11859.09/14400 seconds]"
     ]
    },
    {
     "name": "stdout",
     "output_type": "stream",
     "text": [
      "[I 2025-08-11 03:06:24,105] Trial 241 finished with value: 0.6001523229246002 and parameters: {'iterations': 9000, 'learning_rate': 0.025650793196082062, 'depth': 4, 'l2_leaf_reg': 0.029365774756347808, 'bagging_temperature': 1.3475209645284703, 'random_strength': 1.1393544442503154, 'subsample': 0.7320594933568154, 'rsm': 0.8687867391860749, 'scale_pos_weight': 2.033553914631656}. Best is trial 215 with value: 0.6247049567269867.\n"
     ]
    },
    {
     "name": "stderr",
     "output_type": "stream",
     "text": [
      "Best trial: 215. Best value: 0.624705:  81%|████████  | 243/300 [3:18:23<43:00, 45.28s/it, 11903.47/14400 seconds]"
     ]
    },
    {
     "name": "stdout",
     "output_type": "stream",
     "text": [
      "[I 2025-08-11 03:07:08,509] Trial 242 finished with value: 0.6066270178419712 and parameters: {'iterations': 6000, 'learning_rate': 0.05159547749994924, 'depth': 4, 'l2_leaf_reg': 13.354292657143677, 'bagging_temperature': 0.48122981202192616, 'random_strength': 2.884234454752126, 'subsample': 0.8419521675681008, 'rsm': 0.6491970061722101, 'scale_pos_weight': 1.7339053828387356}. Best is trial 215 with value: 0.6247049567269867.\n"
     ]
    },
    {
     "name": "stderr",
     "output_type": "stream",
     "text": [
      "Best trial: 215. Best value: 0.624705:  81%|████████  | 243/300 [3:19:28<43:00, 45.28s/it, 11903.47/14400 seconds]"
     ]
    },
    {
     "name": "stdout",
     "output_type": "stream",
     "text": [
      "[I 2025-08-11 03:08:13,602] Trial 243 finished with value: 0.6090404440919904 and parameters: {'iterations': 4000, 'learning_rate': 0.041158961449145326, 'depth': 4, 'l2_leaf_reg': 36.37962141154912, 'bagging_temperature': 0.08096935945153869, 'random_strength': 1.92840322772585, 'subsample': 0.7123347089402609, 'rsm': 0.8547281395033163, 'scale_pos_weight': 1.9524132152718725}. Best is trial 215 with value: 0.6247049567269867.\n"
     ]
    },
    {
     "name": "stderr",
     "output_type": "stream",
     "text": [
      "Best trial: 215. Best value: 0.624705:  82%|████████▏ | 245/300 [3:20:06<43:16, 47.21s/it, 12006.42/14400 seconds]"
     ]
    },
    {
     "name": "stdout",
     "output_type": "stream",
     "text": [
      "[I 2025-08-11 03:08:51,461] Trial 244 finished with value: 0.5946843853820598 and parameters: {'iterations': 8000, 'learning_rate': 0.06930090813571575, 'depth': 7, 'l2_leaf_reg': 5.354685561964853, 'bagging_temperature': 0.8804483126474082, 'random_strength': 0.6374883458229833, 'subsample': 0.7417226910331794, 'rsm': 0.7180992416818341, 'scale_pos_weight': 1.9196065366517128}. Best is trial 215 with value: 0.6247049567269867.\n"
     ]
    },
    {
     "name": "stderr",
     "output_type": "stream",
     "text": [
      "Best trial: 215. Best value: 0.624705:  82%|████████▏ | 246/300 [3:20:44<39:59, 44.43s/it, 12044.38/14400 seconds]"
     ]
    },
    {
     "name": "stdout",
     "output_type": "stream",
     "text": [
      "[I 2025-08-11 03:09:29,403] Trial 245 finished with value: 0.6028309741881765 and parameters: {'iterations': 7000, 'learning_rate': 0.04301014320365435, 'depth': 5, 'l2_leaf_reg': 3.493431823342164, 'bagging_temperature': 2.390595431497786, 'random_strength': 0.32977488118257414, 'subsample': 0.7284526889555016, 'rsm': 0.6082798939753459, 'scale_pos_weight': 1.8392681252709921}. Best is trial 215 with value: 0.6247049567269867.\n"
     ]
    },
    {
     "name": "stderr",
     "output_type": "stream",
     "text": [
      "Best trial: 215. Best value: 0.624705:  82%|████████▏ | 247/300 [3:21:27<38:52, 44.01s/it, 12087.39/14400 seconds]"
     ]
    },
    {
     "name": "stdout",
     "output_type": "stream",
     "text": [
      "[I 2025-08-11 03:10:12,420] Trial 246 finished with value: 0.6036585365853658 and parameters: {'iterations': 7000, 'learning_rate': 0.02793301762501094, 'depth': 4, 'l2_leaf_reg': 0.4419082258117209, 'bagging_temperature': 6.375002212231091, 'random_strength': 0.5999975172529579, 'subsample': 0.8620336874351491, 'rsm': 0.6042799848427164, 'scale_pos_weight': 2.3957555508531527}. Best is trial 215 with value: 0.6247049567269867.\n"
     ]
    },
    {
     "name": "stderr",
     "output_type": "stream",
     "text": [
      "Best trial: 215. Best value: 0.624705:  83%|████████▎ | 248/300 [3:21:53<33:35, 38.75s/it, 12113.88/14400 seconds]"
     ]
    },
    {
     "name": "stdout",
     "output_type": "stream",
     "text": [
      "[I 2025-08-11 03:10:38,918] Trial 247 finished with value: 0.5975696926375983 and parameters: {'iterations': 9000, 'learning_rate': 0.06362499371885046, 'depth': 5, 'l2_leaf_reg': 0.10347954484268251, 'bagging_temperature': 2.5928676980963514, 'random_strength': 0.07294704381783523, 'subsample': 0.7081194556903425, 'rsm': 0.7348934719810186, 'scale_pos_weight': 2.3870389547525326}. Best is trial 215 with value: 0.6247049567269867.\n"
     ]
    },
    {
     "name": "stderr",
     "output_type": "stream",
     "text": [
      "Best trial: 215. Best value: 0.624705:  83%|████████▎ | 249/300 [3:22:30<32:20, 38.04s/it, 12150.27/14400 seconds]"
     ]
    },
    {
     "name": "stdout",
     "output_type": "stream",
     "text": [
      "[I 2025-08-11 03:11:15,293] Trial 248 finished with value: 0.6086274509803922 and parameters: {'iterations': 6000, 'learning_rate': 0.06040981364148249, 'depth': 5, 'l2_leaf_reg': 0.24998351379575928, 'bagging_temperature': 1.596960141204167, 'random_strength': 2.3468929023136083, 'subsample': 0.8053492315530405, 'rsm': 0.9923354347579322, 'scale_pos_weight': 1.1560981715902132}. Best is trial 215 with value: 0.6247049567269867.\n"
     ]
    },
    {
     "name": "stderr",
     "output_type": "stream",
     "text": [
      "Best trial: 215. Best value: 0.624705:  83%|████████▎ | 250/300 [3:23:22<35:15, 42.30s/it, 12202.50/14400 seconds]"
     ]
    },
    {
     "name": "stdout",
     "output_type": "stream",
     "text": [
      "[I 2025-08-11 03:12:07,517] Trial 249 finished with value: 0.5969275786393563 and parameters: {'iterations': 5000, 'learning_rate': 0.020218236456794263, 'depth': 9, 'l2_leaf_reg': 0.006302893801497762, 'bagging_temperature': 6.375229982879946, 'random_strength': 1.0460862882118582, 'subsample': 0.9429741125427432, 'rsm': 0.9921814688525608, 'scale_pos_weight': 1.9061914856832303}. Best is trial 215 with value: 0.6247049567269867.\n"
     ]
    },
    {
     "name": "stderr",
     "output_type": "stream",
     "text": [
      "Best trial: 215. Best value: 0.624705:  84%|████████▎ | 251/300 [3:24:02<34:05, 41.75s/it, 12242.98/14400 seconds]"
     ]
    },
    {
     "name": "stdout",
     "output_type": "stream",
     "text": [
      "[I 2025-08-11 03:12:48,006] Trial 250 finished with value: 0.6107883817427386 and parameters: {'iterations': 10000, 'learning_rate': 0.041653652957015105, 'depth': 4, 'l2_leaf_reg': 0.5231139409435921, 'bagging_temperature': 0.15373190919069873, 'random_strength': 0.3055643869383744, 'subsample': 0.7937706965679536, 'rsm': 0.7754833519829408, 'scale_pos_weight': 2.076262110240014}. Best is trial 215 with value: 0.6247049567269867.\n"
     ]
    },
    {
     "name": "stderr",
     "output_type": "stream",
     "text": [
      "Best trial: 215. Best value: 0.624705:  84%|████████▍ | 252/300 [3:24:44<33:15, 41.57s/it, 12284.12/14400 seconds]"
     ]
    },
    {
     "name": "stdout",
     "output_type": "stream",
     "text": [
      "[I 2025-08-11 03:13:29,164] Trial 251 finished with value: 0.6109324758842444 and parameters: {'iterations': 9000, 'learning_rate': 0.04285748328627582, 'depth': 7, 'l2_leaf_reg': 1.7151025672946922, 'bagging_temperature': 0.3382525251663303, 'random_strength': 0.27578092921895314, 'subsample': 0.7006316304472622, 'rsm': 0.7077993630926133, 'scale_pos_weight': 1.9168345182840407}. Best is trial 215 with value: 0.6247049567269867.\n"
     ]
    },
    {
     "name": "stderr",
     "output_type": "stream",
     "text": [
      "Best trial: 215. Best value: 0.624705:  84%|████████▍ | 253/300 [3:25:45<37:16, 47.59s/it, 12345.75/14400 seconds]"
     ]
    },
    {
     "name": "stdout",
     "output_type": "stream",
     "text": [
      "[I 2025-08-11 03:14:30,774] Trial 252 finished with value: 0.6076158940397351 and parameters: {'iterations': 5000, 'learning_rate': 0.024386041681393737, 'depth': 4, 'l2_leaf_reg': 0.983551096459761, 'bagging_temperature': 2.8144769802591676, 'random_strength': 2.7506242524601667, 'subsample': 0.7960382938316527, 'rsm': 0.9951365879338173, 'scale_pos_weight': 1.7450264189940718}. Best is trial 215 with value: 0.6247049567269867.\n"
     ]
    },
    {
     "name": "stderr",
     "output_type": "stream",
     "text": [
      "Best trial: 215. Best value: 0.624705:  85%|████████▍ | 254/300 [3:26:43<38:43, 50.52s/it, 12403.10/14400 seconds]"
     ]
    },
    {
     "name": "stdout",
     "output_type": "stream",
     "text": [
      "[I 2025-08-11 03:15:28,146] Trial 253 finished with value: 0.6078280890253261 and parameters: {'iterations': 10000, 'learning_rate': 0.037870282708314114, 'depth': 4, 'l2_leaf_reg': 47.80625965564876, 'bagging_temperature': 0.7222222779758024, 'random_strength': 0.38215972041543067, 'subsample': 0.7302307002688305, 'rsm': 0.6997153383669323, 'scale_pos_weight': 2.1088868138515076}. Best is trial 215 with value: 0.6247049567269867.\n"
     ]
    },
    {
     "name": "stderr",
     "output_type": "stream",
     "text": [
      "Best trial: 215. Best value: 0.624705:  85%|████████▌ | 255/300 [3:27:21<35:03, 46.74s/it, 12441.03/14400 seconds]"
     ]
    },
    {
     "name": "stdout",
     "output_type": "stream",
     "text": [
      "[I 2025-08-11 03:16:06,067] Trial 254 finished with value: 0.609717868338558 and parameters: {'iterations': 7000, 'learning_rate': 0.057454388601803234, 'depth': 4, 'l2_leaf_reg': 11.879585186008525, 'bagging_temperature': 0.30324447601853505, 'random_strength': 0.8259595729407413, 'subsample': 0.7625075454971775, 'rsm': 0.6702412206904254, 'scale_pos_weight': 1.836770701075555}. Best is trial 215 with value: 0.6247049567269867.\n"
     ]
    },
    {
     "name": "stderr",
     "output_type": "stream",
     "text": [
      "Best trial: 215. Best value: 0.624705:  85%|████████▌ | 256/300 [3:27:54<31:25, 42.85s/it, 12474.81/14400 seconds]"
     ]
    },
    {
     "name": "stdout",
     "output_type": "stream",
     "text": [
      "[I 2025-08-11 03:16:39,852] Trial 255 finished with value: 0.6132295719844358 and parameters: {'iterations': 11000, 'learning_rate': 0.11898731348209567, 'depth': 6, 'l2_leaf_reg': 25.39887896494187, 'bagging_temperature': 3.2112232894935695, 'random_strength': 2.2098990760509483, 'subsample': 0.8416505926498798, 'rsm': 0.7770605494884315, 'scale_pos_weight': 2.111110653565514}. Best is trial 215 with value: 0.6247049567269867.\n"
     ]
    },
    {
     "name": "stderr",
     "output_type": "stream",
     "text": [
      "Best trial: 215. Best value: 0.624705:  86%|████████▌ | 257/300 [3:28:29<28:52, 40.28s/it, 12509.10/14400 seconds]"
     ]
    },
    {
     "name": "stdout",
     "output_type": "stream",
     "text": [
      "[I 2025-08-11 03:17:14,129] Trial 256 finished with value: 0.5920704845814978 and parameters: {'iterations': 8000, 'learning_rate': 0.05199457609048414, 'depth': 5, 'l2_leaf_reg': 0.14113555371578174, 'bagging_temperature': 1.3677291885408684, 'random_strength': 1.118058245256771, 'subsample': 0.7435781166632786, 'rsm': 0.6432280068662194, 'scale_pos_weight': 2.1200959587198005}. Best is trial 215 with value: 0.6247049567269867.\n"
     ]
    },
    {
     "name": "stderr",
     "output_type": "stream",
     "text": [
      "Best trial: 215. Best value: 0.624705:  86%|████████▌ | 258/300 [3:28:54<25:00, 35.72s/it, 12534.17/14400 seconds]"
     ]
    },
    {
     "name": "stdout",
     "output_type": "stream",
     "text": [
      "[I 2025-08-11 03:17:39,203] Trial 257 finished with value: 0.604274134119381 and parameters: {'iterations': 10000, 'learning_rate': 0.0819901369745366, 'depth': 4, 'l2_leaf_reg': 0.8997358481784448, 'bagging_temperature': 1.9322441770688874, 'random_strength': 0.5983320297079664, 'subsample': 0.793892766646961, 'rsm': 0.8095362083857459, 'scale_pos_weight': 1.9632617271767003}. Best is trial 215 with value: 0.6247049567269867.\n"
     ]
    },
    {
     "name": "stderr",
     "output_type": "stream",
     "text": [
      "Best trial: 215. Best value: 0.624705:  86%|████████▋ | 259/300 [3:30:03<31:16, 45.76s/it, 12603.37/14400 seconds]"
     ]
    },
    {
     "name": "stdout",
     "output_type": "stream",
     "text": [
      "[I 2025-08-11 03:18:48,405] Trial 258 finished with value: 0.6083976006855184 and parameters: {'iterations': 8000, 'learning_rate': 0.021529092074165923, 'depth': 5, 'l2_leaf_reg': 3.055828596248017, 'bagging_temperature': 1.6123588129144832, 'random_strength': 1.2486398818989768, 'subsample': 0.7654239899827987, 'rsm': 0.7976115724788501, 'scale_pos_weight': 1.9430437395207192}. Best is trial 215 with value: 0.6247049567269867.\n"
     ]
    },
    {
     "name": "stderr",
     "output_type": "stream",
     "text": [
      "Best trial: 215. Best value: 0.624705:  87%|████████▋ | 260/300 [3:31:03<33:24, 50.11s/it, 12663.64/14400 seconds]"
     ]
    },
    {
     "name": "stdout",
     "output_type": "stream",
     "text": [
      "[I 2025-08-11 03:19:48,644] Trial 259 finished with value: 0.6063218390804598 and parameters: {'iterations': 11000, 'learning_rate': 0.04825981196829621, 'depth': 7, 'l2_leaf_reg': 14.529597078117671, 'bagging_temperature': 1.8677983060480479, 'random_strength': 2.882555551218394, 'subsample': 0.8161031838249524, 'rsm': 0.982975386269766, 'scale_pos_weight': 1.75663944828348}. Best is trial 215 with value: 0.6247049567269867.\n"
     ]
    },
    {
     "name": "stderr",
     "output_type": "stream",
     "text": [
      "Best trial: 215. Best value: 0.624705:  87%|████████▋ | 261/300 [3:31:33<28:39, 44.10s/it, 12693.69/14400 seconds]"
     ]
    },
    {
     "name": "stdout",
     "output_type": "stream",
     "text": [
      "[I 2025-08-11 03:20:18,729] Trial 260 finished with value: 0.6078853046594982 and parameters: {'iterations': 9000, 'learning_rate': 0.06061518015066805, 'depth': 5, 'l2_leaf_reg': 7.227194581611925, 'bagging_temperature': 0.9360161382783265, 'random_strength': 0.04347462448567749, 'subsample': 0.7690132508718209, 'rsm': 0.601149187045774, 'scale_pos_weight': 2.40756266079058}. Best is trial 215 with value: 0.6247049567269867.\n"
     ]
    },
    {
     "name": "stderr",
     "output_type": "stream",
     "text": [
      "Best trial: 215. Best value: 0.624705:  87%|████████▋ | 262/300 [3:32:22<28:45, 45.40s/it, 12742.15/14400 seconds]"
     ]
    },
    {
     "name": "stdout",
     "output_type": "stream",
     "text": [
      "[I 2025-08-11 03:21:07,181] Trial 261 finished with value: 0.6094420600858369 and parameters: {'iterations': 8000, 'learning_rate': 0.05069975006469727, 'depth': 5, 'l2_leaf_reg': 46.885599172632396, 'bagging_temperature': 0.8872871947667236, 'random_strength': 0.16818039986075495, 'subsample': 0.7222067795483653, 'rsm': 0.6681331683481991, 'scale_pos_weight': 2.0261576909093924}. Best is trial 215 with value: 0.6247049567269867.\n"
     ]
    },
    {
     "name": "stderr",
     "output_type": "stream",
     "text": [
      "Best trial: 215. Best value: 0.624705:  88%|████████▊ | 263/300 [3:32:51<25:05, 40.69s/it, 12771.83/14400 seconds]"
     ]
    },
    {
     "name": "stdout",
     "output_type": "stream",
     "text": [
      "[I 2025-08-11 03:21:36,866] Trial 262 finished with value: 0.5869218500797448 and parameters: {'iterations': 5000, 'learning_rate': 0.03872459210777544, 'depth': 7, 'l2_leaf_reg': 0.0037568173364719445, 'bagging_temperature': 4.361082016876938, 'random_strength': 0.21654487298610636, 'subsample': 0.8378554531382633, 'rsm': 0.9502109799098131, 'scale_pos_weight': 1.9083508695899591}. Best is trial 215 with value: 0.6247049567269867.\n"
     ]
    },
    {
     "name": "stderr",
     "output_type": "stream",
     "text": [
      "Best trial: 215. Best value: 0.624705:  88%|████████▊ | 264/300 [3:33:48<27:19, 45.53s/it, 12828.66/14400 seconds]"
     ]
    },
    {
     "name": "stdout",
     "output_type": "stream",
     "text": [
      "[I 2025-08-11 03:22:33,690] Trial 263 finished with value: 0.6094920899250624 and parameters: {'iterations': 10000, 'learning_rate': 0.024312141821106546, 'depth': 4, 'l2_leaf_reg': 0.7333301692162165, 'bagging_temperature': 1.6663070444841086, 'random_strength': 1.0786826028450132, 'subsample': 0.7179047562527072, 'rsm': 0.7816135717307949, 'scale_pos_weight': 2.1827050953655434}. Best is trial 215 with value: 0.6247049567269867.\n"
     ]
    },
    {
     "name": "stderr",
     "output_type": "stream",
     "text": [
      "Best trial: 215. Best value: 0.624705:  88%|████████▊ | 265/300 [3:34:26<25:11, 43.18s/it, 12866.36/14400 seconds]"
     ]
    },
    {
     "name": "stdout",
     "output_type": "stream",
     "text": [
      "[I 2025-08-11 03:23:11,389] Trial 264 finished with value: 0.6095717884130982 and parameters: {'iterations': 11000, 'learning_rate': 0.042950462359260706, 'depth': 4, 'l2_leaf_reg': 1.9274241755405095, 'bagging_temperature': 2.4757662052858045, 'random_strength': 0.23807982419527896, 'subsample': 0.7031805573371038, 'rsm': 0.8283647116931789, 'scale_pos_weight': 2.082613090552061}. Best is trial 215 with value: 0.6247049567269867.\n"
     ]
    },
    {
     "name": "stderr",
     "output_type": "stream",
     "text": [
      "Best trial: 215. Best value: 0.624705:  89%|████████▊ | 266/300 [3:35:03<23:30, 41.50s/it, 12903.93/14400 seconds]"
     ]
    },
    {
     "name": "stdout",
     "output_type": "stream",
     "text": [
      "[I 2025-08-11 03:23:48,971] Trial 265 finished with value: 0.6086274509803922 and parameters: {'iterations': 12000, 'learning_rate': 0.042152086500220204, 'depth': 4, 'l2_leaf_reg': 0.22218466326213113, 'bagging_temperature': 3.1502465736397545, 'random_strength': 0.9667095581716086, 'subsample': 0.7140592291627541, 'rsm': 0.8461949794465671, 'scale_pos_weight': 1.9481516023758543}. Best is trial 215 with value: 0.6247049567269867.\n"
     ]
    },
    {
     "name": "stderr",
     "output_type": "stream",
     "text": [
      "Best trial: 215. Best value: 0.624705:  89%|████████▉ | 267/300 [3:35:31<20:27, 37.19s/it, 12931.06/14400 seconds]"
     ]
    },
    {
     "name": "stdout",
     "output_type": "stream",
     "text": [
      "[I 2025-08-11 03:24:16,101] Trial 266 finished with value: 0.600451467268623 and parameters: {'iterations': 5000, 'learning_rate': 0.06688757461758049, 'depth': 4, 'l2_leaf_reg': 0.0014908924809216, 'bagging_temperature': 7.5311712653196725, 'random_strength': 1.4880484399931038, 'subsample': 0.8411137017273752, 'rsm': 0.6675741012870062, 'scale_pos_weight': 1.7285386305502524}. Best is trial 215 with value: 0.6247049567269867.\n"
     ]
    },
    {
     "name": "stderr",
     "output_type": "stream",
     "text": [
      "Best trial: 215. Best value: 0.624705:  89%|████████▉ | 268/300 [3:36:17<21:14, 39.84s/it, 12977.09/14400 seconds]"
     ]
    },
    {
     "name": "stdout",
     "output_type": "stream",
     "text": [
      "[I 2025-08-11 03:25:02,113] Trial 267 finished with value: 0.6063348416289592 and parameters: {'iterations': 7000, 'learning_rate': 0.050708529814315145, 'depth': 4, 'l2_leaf_reg': 51.303906753646565, 'bagging_temperature': 1.9255092682675594, 'random_strength': 0.24491828356960005, 'subsample': 0.7042621342984762, 'rsm': 0.7355689076846104, 'scale_pos_weight': 2.2342698822025264}. Best is trial 215 with value: 0.6247049567269867.\n"
     ]
    },
    {
     "name": "stderr",
     "output_type": "stream",
     "text": [
      "Best trial: 215. Best value: 0.624705:  90%|████████▉ | 269/300 [3:37:10<22:39, 43.87s/it, 13030.35/14400 seconds]"
     ]
    },
    {
     "name": "stdout",
     "output_type": "stream",
     "text": [
      "[I 2025-08-11 03:25:55,369] Trial 268 finished with value: 0.6111560226354082 and parameters: {'iterations': 4000, 'learning_rate': 0.02918624794580724, 'depth': 4, 'l2_leaf_reg': 2.164810100349381, 'bagging_temperature': 2.3534201679600653, 'random_strength': 1.0203336143706327, 'subsample': 0.7181557647961283, 'rsm': 0.8326649684967736, 'scale_pos_weight': 1.570557800379014}. Best is trial 215 with value: 0.6247049567269867.\n"
     ]
    },
    {
     "name": "stderr",
     "output_type": "stream",
     "text": [
      "Best trial: 215. Best value: 0.624705:  90%|█████████ | 270/300 [3:37:56<22:19, 44.66s/it, 13076.86/14400 seconds]"
     ]
    },
    {
     "name": "stdout",
     "output_type": "stream",
     "text": [
      "[I 2025-08-11 03:26:41,890] Trial 269 finished with value: 0.6133553173948887 and parameters: {'iterations': 6000, 'learning_rate': 0.0317851034353609, 'depth': 4, 'l2_leaf_reg': 2.429889125495742, 'bagging_temperature': 0.8792279069026611, 'random_strength': 0.19483260970531951, 'subsample': 0.719040896515192, 'rsm': 0.7185991627153108, 'scale_pos_weight': 2.163985805303863}. Best is trial 215 with value: 0.6247049567269867.\n"
     ]
    },
    {
     "name": "stderr",
     "output_type": "stream",
     "text": [
      "Best trial: 215. Best value: 0.624705:  90%|█████████ | 271/300 [3:38:37<21:02, 43.54s/it, 13117.79/14400 seconds]"
     ]
    },
    {
     "name": "stdout",
     "output_type": "stream",
     "text": [
      "[I 2025-08-11 03:27:22,826] Trial 270 finished with value: 0.6116207951070336 and parameters: {'iterations': 6000, 'learning_rate': 0.044830673619337645, 'depth': 4, 'l2_leaf_reg': 0.7301009773033041, 'bagging_temperature': 0.5518750479888709, 'random_strength': 1.198086135438723, 'subsample': 0.7255820568050544, 'rsm': 0.8651831834324868, 'scale_pos_weight': 1.7171719469637212}. Best is trial 215 with value: 0.6247049567269867.\n"
     ]
    },
    {
     "name": "stderr",
     "output_type": "stream",
     "text": [
      "Best trial: 215. Best value: 0.624705:  91%|█████████ | 272/300 [3:39:29<21:30, 46.10s/it, 13169.87/14400 seconds]"
     ]
    },
    {
     "name": "stdout",
     "output_type": "stream",
     "text": [
      "[I 2025-08-11 03:28:14,904] Trial 271 finished with value: 0.6159110350727117 and parameters: {'iterations': 6000, 'learning_rate': 0.04601126039048751, 'depth': 5, 'l2_leaf_reg': 19.986036985540228, 'bagging_temperature': 0.9830775211924063, 'random_strength': 1.396399524748487, 'subsample': 0.7331899033999686, 'rsm': 0.8257118414903574, 'scale_pos_weight': 1.5798662874452245}. Best is trial 215 with value: 0.6247049567269867.\n"
     ]
    },
    {
     "name": "stderr",
     "output_type": "stream",
     "text": [
      "Best trial: 215. Best value: 0.624705:  91%|█████████ | 273/300 [3:40:37<23:42, 52.69s/it, 13237.94/14400 seconds]"
     ]
    },
    {
     "name": "stdout",
     "output_type": "stream",
     "text": [
      "[I 2025-08-11 03:29:22,963] Trial 272 finished with value: 0.6079632465543645 and parameters: {'iterations': 6000, 'learning_rate': 0.043935247212066916, 'depth': 4, 'l2_leaf_reg': 58.8740037944022, 'bagging_temperature': 2.493715505319928, 'random_strength': 1.6234805934240195, 'subsample': 0.7296775516951134, 'rsm': 0.8584340410361088, 'scale_pos_weight': 1.8385596517195943}. Best is trial 215 with value: 0.6247049567269867.\n"
     ]
    },
    {
     "name": "stderr",
     "output_type": "stream",
     "text": [
      "Best trial: 215. Best value: 0.624705:  91%|█████████▏| 274/300 [3:42:42<32:11, 74.29s/it, 13362.61/14400 seconds]"
     ]
    },
    {
     "name": "stdout",
     "output_type": "stream",
     "text": [
      "[I 2025-08-11 03:31:27,637] Trial 273 finished with value: 0.5981922760887428 and parameters: {'iterations': 7000, 'learning_rate': 0.04670453281965954, 'depth': 9, 'l2_leaf_reg': 66.77528143165131, 'bagging_temperature': 4.271093420545585, 'random_strength': 1.3553702024577254, 'subsample': 0.8932128366423275, 'rsm': 0.954408119604333, 'scale_pos_weight': 1.4755079230251877}. Best is trial 215 with value: 0.6247049567269867.\n"
     ]
    },
    {
     "name": "stderr",
     "output_type": "stream",
     "text": [
      "Best trial: 215. Best value: 0.624705:  92%|█████████▏| 275/300 [3:44:16<33:26, 80.24s/it, 13456.75/14400 seconds]"
     ]
    },
    {
     "name": "stdout",
     "output_type": "stream",
     "text": [
      "[I 2025-08-11 03:33:01,784] Trial 274 finished with value: 0.6 and parameters: {'iterations': 5000, 'learning_rate': 0.041872396942967564, 'depth': 5, 'l2_leaf_reg': 82.8569032813395, 'bagging_temperature': 0.12189985207449719, 'random_strength': 1.254002592872532, 'subsample': 0.7129791102200713, 'rsm': 0.7628026273235367, 'scale_pos_weight': 1.1745081760915517}. Best is trial 215 with value: 0.6247049567269867.\n"
     ]
    },
    {
     "name": "stderr",
     "output_type": "stream",
     "text": [
      "Best trial: 215. Best value: 0.624705:  92%|█████████▏| 276/300 [3:44:56<27:14, 68.12s/it, 13496.57/14400 seconds]"
     ]
    },
    {
     "name": "stdout",
     "output_type": "stream",
     "text": [
      "[I 2025-08-11 03:33:41,598] Trial 275 finished with value: 0.5851318944844125 and parameters: {'iterations': 5000, 'learning_rate': 0.05530328501438933, 'depth': 9, 'l2_leaf_reg': 0.027805871560489106, 'bagging_temperature': 7.819588271204694, 'random_strength': 0.5675688543981782, 'subsample': 0.9435154960197017, 'rsm': 0.7029105172684487, 'scale_pos_weight': 0.9718156866912913}. Best is trial 215 with value: 0.6247049567269867.\n"
     ]
    },
    {
     "name": "stderr",
     "output_type": "stream",
     "text": [
      "Best trial: 215. Best value: 0.624705:  92%|█████████▏| 277/300 [3:45:27<21:52, 57.06s/it, 13527.83/14400 seconds]"
     ]
    },
    {
     "name": "stdout",
     "output_type": "stream",
     "text": [
      "[I 2025-08-11 03:34:12,858] Trial 276 finished with value: 0.5781487101669196 and parameters: {'iterations': 5000, 'learning_rate': 0.0662904809715324, 'depth': 8, 'l2_leaf_reg': 0.004609927622692934, 'bagging_temperature': 2.5441687017811474, 'random_strength': 0.2904655897787505, 'subsample': 0.9187443397775418, 'rsm': 0.7539621939743593, 'scale_pos_weight': 1.33815016251838}. Best is trial 215 with value: 0.6247049567269867.\n"
     ]
    },
    {
     "name": "stderr",
     "output_type": "stream",
     "text": [
      "Best trial: 215. Best value: 0.624705:  93%|█████████▎| 278/300 [3:46:28<21:16, 58.04s/it, 13588.13/14400 seconds]"
     ]
    },
    {
     "name": "stdout",
     "output_type": "stream",
     "text": [
      "[I 2025-08-11 03:35:13,167] Trial 277 finished with value: 0.603448275862069 and parameters: {'iterations': 10000, 'learning_rate': 0.06262221881696117, 'depth': 8, 'l2_leaf_reg': 11.384989827758325, 'bagging_temperature': 0.08444104436013067, 'random_strength': 0.42450880427151905, 'subsample': 0.9912389157628447, 'rsm': 0.8817520810567573, 'scale_pos_weight': 0.8960441306253523}. Best is trial 215 with value: 0.6247049567269867.\n"
     ]
    },
    {
     "name": "stderr",
     "output_type": "stream",
     "text": [
      "Best trial: 215. Best value: 0.624705:  93%|█████████▎| 279/300 [3:46:58<17:22, 49.62s/it, 13618.14/14400 seconds]"
     ]
    },
    {
     "name": "stdout",
     "output_type": "stream",
     "text": [
      "[I 2025-08-11 03:35:43,171] Trial 278 finished with value: 0.6044142614601019 and parameters: {'iterations': 5000, 'learning_rate': 0.10695572246235867, 'depth': 6, 'l2_leaf_reg': 18.225650803283514, 'bagging_temperature': 1.960238874759253, 'random_strength': 0.015352736531187183, 'subsample': 0.8334284658006986, 'rsm': 0.7455351774899333, 'scale_pos_weight': 2.4091904846752747}. Best is trial 215 with value: 0.6247049567269867.\n"
     ]
    },
    {
     "name": "stderr",
     "output_type": "stream",
     "text": [
      "Best trial: 215. Best value: 0.624705:  93%|█████████▎| 280/300 [3:47:43<16:07, 48.37s/it, 13663.58/14400 seconds]"
     ]
    },
    {
     "name": "stdout",
     "output_type": "stream",
     "text": [
      "[I 2025-08-11 03:36:28,609] Trial 279 finished with value: 0.6087704213241617 and parameters: {'iterations': 11000, 'learning_rate': 0.037519232215776153, 'depth': 5, 'l2_leaf_reg': 8.407880248004275, 'bagging_temperature': 0.717587840455767, 'random_strength': 1.690714794549804, 'subsample': 0.7261268234698505, 'rsm': 0.6231585059521196, 'scale_pos_weight': 2.28019145429384}. Best is trial 215 with value: 0.6247049567269867.\n"
     ]
    },
    {
     "name": "stderr",
     "output_type": "stream",
     "text": [
      "Best trial: 215. Best value: 0.624705:  94%|█████████▎| 281/300 [3:48:14<13:39, 43.14s/it, 13694.52/14400 seconds]"
     ]
    },
    {
     "name": "stdout",
     "output_type": "stream",
     "text": [
      "[I 2025-08-11 03:36:59,559] Trial 280 finished with value: 0.6017147310989868 and parameters: {'iterations': 11000, 'learning_rate': 0.05770209403955595, 'depth': 5, 'l2_leaf_reg': 0.4548485160996949, 'bagging_temperature': 0.18366710413558063, 'random_strength': 0.5976883006377475, 'subsample': 0.7155845263687652, 'rsm': 0.7566422144806396, 'scale_pos_weight': 2.4176194713153674}. Best is trial 215 with value: 0.6247049567269867.\n"
     ]
    },
    {
     "name": "stderr",
     "output_type": "stream",
     "text": [
      "Best trial: 215. Best value: 0.624705:  94%|█████████▍| 282/300 [3:48:57<12:55, 43.08s/it, 13737.44/14400 seconds]"
     ]
    },
    {
     "name": "stdout",
     "output_type": "stream",
     "text": [
      "[I 2025-08-11 03:37:42,480] Trial 281 finished with value: 0.6097972972972973 and parameters: {'iterations': 6000, 'learning_rate': 0.03722893995313772, 'depth': 4, 'l2_leaf_reg': 0.1251978807213278, 'bagging_temperature': 4.581248710239774, 'random_strength': 2.853845394628067, 'subsample': 0.7786390985201603, 'rsm': 0.9138497113206504, 'scale_pos_weight': 1.9686690722587818}. Best is trial 215 with value: 0.6247049567269867.\n"
     ]
    },
    {
     "name": "stderr",
     "output_type": "stream",
     "text": [
      "Best trial: 215. Best value: 0.624705:  94%|█████████▍| 283/300 [3:49:30<11:22, 40.13s/it, 13770.69/14400 seconds]"
     ]
    },
    {
     "name": "stdout",
     "output_type": "stream",
     "text": [
      "[I 2025-08-11 03:38:15,728] Trial 282 finished with value: 0.5953846153846154 and parameters: {'iterations': 4000, 'learning_rate': 0.049453366292167636, 'depth': 5, 'l2_leaf_reg': 0.0054335758515194925, 'bagging_temperature': 0.33974816449618483, 'random_strength': 0.3922886697169745, 'subsample': 0.94877152820384, 'rsm': 0.8086836132216599, 'scale_pos_weight': 0.9122753499998133}. Best is trial 215 with value: 0.6247049567269867.\n"
     ]
    },
    {
     "name": "stderr",
     "output_type": "stream",
     "text": [
      "Best trial: 215. Best value: 0.624705:  95%|█████████▍| 284/300 [3:50:04<10:13, 38.36s/it, 13804.91/14400 seconds]"
     ]
    },
    {
     "name": "stdout",
     "output_type": "stream",
     "text": [
      "[I 2025-08-11 03:38:49,943] Trial 283 finished with value: 0.6103703703703703 and parameters: {'iterations': 6000, 'learning_rate': 0.0755778195753218, 'depth': 4, 'l2_leaf_reg': 4.3765729914843545, 'bagging_temperature': 0.08344224663330668, 'random_strength': 1.93882380618851, 'subsample': 0.7288376864109003, 'rsm': 0.8454513076456462, 'scale_pos_weight': 1.3690241254149598}. Best is trial 215 with value: 0.6247049567269867.\n"
     ]
    },
    {
     "name": "stderr",
     "output_type": "stream",
     "text": [
      "Best trial: 215. Best value: 0.624705:  95%|█████████▌| 285/300 [3:50:43<09:35, 38.36s/it, 13843.29/14400 seconds]"
     ]
    },
    {
     "name": "stdout",
     "output_type": "stream",
     "text": [
      "[I 2025-08-11 03:39:28,316] Trial 284 finished with value: 0.6074688796680497 and parameters: {'iterations': 10000, 'learning_rate': 0.027297546296114604, 'depth': 7, 'l2_leaf_reg': 0.2457527635687355, 'bagging_temperature': 3.588239787574884, 'random_strength': 0.30861581222952156, 'subsample': 0.7109622312109165, 'rsm': 0.9373205586178512, 'scale_pos_weight': 2.306764021618985}. Best is trial 215 with value: 0.6247049567269867.\n"
     ]
    },
    {
     "name": "stderr",
     "output_type": "stream",
     "text": [
      "Best trial: 215. Best value: 0.624705:  95%|█████████▌| 286/300 [3:51:16<08:35, 36.81s/it, 13876.49/14400 seconds]"
     ]
    },
    {
     "name": "stdout",
     "output_type": "stream",
     "text": [
      "[I 2025-08-11 03:40:01,531] Trial 285 finished with value: 0.6061588330632091 and parameters: {'iterations': 4000, 'learning_rate': 0.07439355322911453, 'depth': 4, 'l2_leaf_reg': 15.824755243357997, 'bagging_temperature': 0.25226793647029555, 'random_strength': 2.3725535391010477, 'subsample': 0.7075148961459463, 'rsm': 0.7340465126197497, 'scale_pos_weight': 2.0287379972392996}. Best is trial 215 with value: 0.6247049567269867.\n"
     ]
    },
    {
     "name": "stderr",
     "output_type": "stream",
     "text": [
      "Best trial: 215. Best value: 0.624705:  96%|█████████▌| 287/300 [3:52:29<10:21, 47.80s/it, 13949.93/14400 seconds]"
     ]
    },
    {
     "name": "stdout",
     "output_type": "stream",
     "text": [
      "[I 2025-08-11 03:41:14,960] Trial 286 finished with value: 0.6042486231313926 and parameters: {'iterations': 11000, 'learning_rate': 0.03152404830126738, 'depth': 9, 'l2_leaf_reg': 1.6108542273422637, 'bagging_temperature': 0.9128296443076742, 'random_strength': 2.396782926398973, 'subsample': 0.7544524568568408, 'rsm': 0.6104967133653928, 'scale_pos_weight': 2.2603699771041175}. Best is trial 215 with value: 0.6247049567269867.\n"
     ]
    },
    {
     "name": "stderr",
     "output_type": "stream",
     "text": [
      "Best trial: 215. Best value: 0.624705:  96%|█████████▌| 288/300 [3:53:37<10:46, 53.85s/it, 14017.91/14400 seconds]"
     ]
    },
    {
     "name": "stdout",
     "output_type": "stream",
     "text": [
      "[I 2025-08-11 03:42:22,944] Trial 287 finished with value: 0.6097560975609756 and parameters: {'iterations': 6000, 'learning_rate': 0.03311865010803428, 'depth': 6, 'l2_leaf_reg': 7.656102376571564, 'bagging_temperature': 0.09302218075715052, 'random_strength': 1.4570927832126714, 'subsample': 0.7538498996515137, 'rsm': 0.8842136571026363, 'scale_pos_weight': 1.4331307474922699}. Best is trial 215 with value: 0.6247049567269867.\n"
     ]
    },
    {
     "name": "stderr",
     "output_type": "stream",
     "text": [
      "Best trial: 215. Best value: 0.624705:  96%|█████████▋| 289/300 [3:54:31<09:49, 53.64s/it, 14071.03/14400 seconds]"
     ]
    },
    {
     "name": "stdout",
     "output_type": "stream",
     "text": [
      "[I 2025-08-11 03:43:16,067] Trial 288 finished with value: 0.6125984251968504 and parameters: {'iterations': 5000, 'learning_rate': 0.03354568770949773, 'depth': 4, 'l2_leaf_reg': 6.630977383721254, 'bagging_temperature': 1.8092166795349895, 'random_strength': 0.4436376464802345, 'subsample': 0.7036570508036799, 'rsm': 0.8125734590472623, 'scale_pos_weight': 1.807307018315677}. Best is trial 215 with value: 0.6247049567269867.\n"
     ]
    },
    {
     "name": "stderr",
     "output_type": "stream",
     "text": [
      "Best trial: 215. Best value: 0.624705:  97%|█████████▋| 290/300 [3:55:02<07:50, 47.10s/it, 14102.87/14400 seconds]"
     ]
    },
    {
     "name": "stdout",
     "output_type": "stream",
     "text": [
      "[I 2025-08-11 03:43:47,894] Trial 289 finished with value: 0.611659192825112 and parameters: {'iterations': 11000, 'learning_rate': 0.07078527206753572, 'depth': 5, 'l2_leaf_reg': 0.1822821544454163, 'bagging_temperature': 5.18133991465735, 'random_strength': 1.8094528766564295, 'subsample': 0.911890256009874, 'rsm': 0.827057260007288, 'scale_pos_weight': 1.416350972591973}. Best is trial 215 with value: 0.6247049567269867.\n"
     ]
    },
    {
     "name": "stderr",
     "output_type": "stream",
     "text": [
      "Best trial: 215. Best value: 0.624705:  97%|█████████▋| 291/300 [3:56:05<07:45, 51.71s/it, 14165.35/14400 seconds]"
     ]
    },
    {
     "name": "stdout",
     "output_type": "stream",
     "text": [
      "[I 2025-08-11 03:44:50,381] Trial 290 finished with value: 0.5798138869005011 and parameters: {'iterations': 5000, 'learning_rate': 0.025292074901731142, 'depth': 9, 'l2_leaf_reg': 0.01861299921177681, 'bagging_temperature': 2.510173248726531, 'random_strength': 2.7928275168088827, 'subsample': 0.9455929611693111, 'rsm': 0.6957369204009684, 'scale_pos_weight': 1.467845632331821}. Best is trial 215 with value: 0.6247049567269867.\n"
     ]
    },
    {
     "name": "stderr",
     "output_type": "stream",
     "text": [
      "Best trial: 215. Best value: 0.624705:  97%|█████████▋| 292/300 [3:56:52<06:43, 50.48s/it, 14212.95/14400 seconds]"
     ]
    },
    {
     "name": "stdout",
     "output_type": "stream",
     "text": [
      "[I 2025-08-11 03:45:37,975] Trial 291 finished with value: 0.6069410815173527 and parameters: {'iterations': 12000, 'learning_rate': 0.03844937412764917, 'depth': 4, 'l2_leaf_reg': 28.805553537779964, 'bagging_temperature': 2.444149383823181, 'random_strength': 0.3549454212037449, 'subsample': 0.9011701194693797, 'rsm': 0.8846714991642972, 'scale_pos_weight': 2.2198122756794136}. Best is trial 215 with value: 0.6247049567269867.\n"
     ]
    },
    {
     "name": "stderr",
     "output_type": "stream",
     "text": [
      "Best trial: 215. Best value: 0.624705:  98%|█████████▊| 293/300 [3:57:45<05:57, 51.06s/it, 14265.38/14400 seconds]"
     ]
    },
    {
     "name": "stdout",
     "output_type": "stream",
     "text": [
      "[I 2025-08-11 03:46:30,412] Trial 292 finished with value: 0.6121768140116765 and parameters: {'iterations': 6000, 'learning_rate': 0.02956540841996121, 'depth': 4, 'l2_leaf_reg': 2.2410769130796693, 'bagging_temperature': 0.08376809130792191, 'random_strength': 1.7890041394687795, 'subsample': 0.8239551953612565, 'rsm': 0.8402568559357857, 'scale_pos_weight': 2.0243211426428878}. Best is trial 215 with value: 0.6247049567269867.\n"
     ]
    },
    {
     "name": "stderr",
     "output_type": "stream",
     "text": [
      "Best trial: 215. Best value: 0.624705:  98%|█████████▊| 294/300 [3:58:18<04:34, 45.79s/it, 14298.88/14400 seconds]"
     ]
    },
    {
     "name": "stdout",
     "output_type": "stream",
     "text": [
      "[I 2025-08-11 03:47:03,907] Trial 293 finished with value: 0.5987920621225195 and parameters: {'iterations': 7000, 'learning_rate': 0.09727210584633342, 'depth': 8, 'l2_leaf_reg': 0.4188370191777475, 'bagging_temperature': 3.5829574048195023, 'random_strength': 0.5385699023593672, 'subsample': 0.8959944293911596, 'rsm': 0.9718217817837076, 'scale_pos_weight': 1.5154477584801334}. Best is trial 215 with value: 0.6247049567269867.\n"
     ]
    },
    {
     "name": "stderr",
     "output_type": "stream",
     "text": [
      "Best trial: 215. Best value: 0.624705:  98%|█████████▊| 295/300 [3:59:02<03:46, 45.29s/it, 14342.97/14400 seconds]"
     ]
    },
    {
     "name": "stdout",
     "output_type": "stream",
     "text": [
      "[I 2025-08-11 03:47:48,014] Trial 294 finished with value: 0.6086956521739131 and parameters: {'iterations': 12000, 'learning_rate': 0.039295044497443594, 'depth': 4, 'l2_leaf_reg': 15.420080404252532, 'bagging_temperature': 2.6492621793939075, 'random_strength': 0.21249275680568486, 'subsample': 0.7914184842365289, 'rsm': 0.9158201489056147, 'scale_pos_weight': 2.194630140482347}. Best is trial 215 with value: 0.6247049567269867.\n"
     ]
    },
    {
     "name": "stderr",
     "output_type": "stream",
     "text": [
      "Best trial: 215. Best value: 0.624705:  99%|█████████▊| 296/300 [4:00:09<03:14, 48.68s/it, 14409.48/14400 seconds]"
     ]
    },
    {
     "name": "stdout",
     "output_type": "stream",
     "text": [
      "[I 2025-08-11 03:48:54,516] Trial 295 finished with value: 0.6175771971496437 and parameters: {'iterations': 12000, 'learning_rate': 0.02078042191440117, 'depth': 4, 'l2_leaf_reg': 2.044926715937879, 'bagging_temperature': 1.4297380433378295, 'random_strength': 0.8580748103452736, 'subsample': 0.7147685695086868, 'rsm': 0.9837987445549543, 'scale_pos_weight': 2.149582579462724}. Best is trial 215 with value: 0.6247049567269867.\n",
      "CB LONG best_f1: 0.624705 | th: 0.4099999999999999 \n",
      "params: {'iterations': 9000, 'learning_rate': 0.05493064682626694, 'depth': 4, 'l2_leaf_reg': 0.5115786758048061, 'bagging_temperature': 1.2242967294479623, 'random_strength': 0.04837554120029483, 'subsample': 0.7248481343107376, 'rsm': 0.7610964299432775, 'scale_pos_weight': 1.7084264209085225}\n"
     ]
    },
    {
     "name": "stderr",
     "output_type": "stream",
     "text": [
      "\n"
     ]
    }
   ],
   "source": [
    "# === 9-optuna-long (CB long search; after pools_tune, before 9) ===\n",
    "import optuna, os, json\n",
    "\n",
    "STORAGE = r\"sqlite:///C:/Users/koshihiramatsu/projects/MUFJ_competition_2025/cb_long.db\"\n",
    "STUDY_NAME = \"cb_long_v1\"\n",
    "\n",
    "sampler_long = optuna.samplers.TPESampler(seed=SEED, n_startup_trials=20, multivariate=True, group=True)\n",
    "pruner_long = optuna.pruners.HyperbandPruner(min_resource=200, reduction_factor=3)\n",
    "\n",
    "\n",
    "study_long = optuna.create_study(\n",
    "    direction=\"maximize\", sampler=sampler_long, pruner=pruner_long,\n",
    "    storage=STORAGE, study_name=STUDY_NAME, load_if_exists=True\n",
    ")\n",
    "\n",
    "def make_objective_long(pools, y_all):\n",
    "    def obj(trial):\n",
    "        params = {\n",
    "            \"iterations\": trial.suggest_int(\"iterations\", 4000, 12000, step=1000),\n",
    "            \"learning_rate\": trial.suggest_float(\"learning_rate\", 0.02, 0.12, log=True),\n",
    "            \"depth\": trial.suggest_int(\"depth\", 4, 9),\n",
    "            \"l2_leaf_reg\": trial.suggest_float(\"l2_leaf_reg\", 1e-3, 1e2, log=True),\n",
    "            \"bagging_temperature\": trial.suggest_float(\"bagging_temperature\", 0.0, 8.0),\n",
    "            \"random_strength\": trial.suggest_float(\"random_strength\", 0.0, 3.0),\n",
    "            \"subsample\": trial.suggest_float(\"subsample\", 0.7, 1.0),\n",
    "            \"rsm\": trial.suggest_float(\"rsm\", 0.6, 1.0),  # feature subsampling\n",
    "            \"scale_pos_weight\": trial.suggest_float(\"scale_pos_weight\", 0.8, 2.5),\n",
    "            \"loss_function\": \"Logloss\",\n",
    "            \"eval_metric\": \"Logloss\",\n",
    "            \"random_seed\": SEED,\n",
    "            \"verbose\": False,\n",
    "            \"thread_count\": -1,\n",
    "            \"use_best_model\": True,\n",
    "            \"allow_writing_files\": False,\n",
    "            # GPU使えるなら下2行を解禁\n",
    "            # \"task_type\": \"GPU\", \"devices\": \"0\",\n",
    "        }\n",
    "        oof_tmp = np.zeros(len(y_all), dtype=float)\n",
    "        for tr_pool, va_pool, va_idx in pools:\n",
    "            m = CatBoostClassifier(**params)\n",
    "            m.fit(tr_pool, eval_set=va_pool, early_stopping_rounds=200)\n",
    "            oof_tmp[va_idx] = m.predict_proba(va_pool)[:, 1]\n",
    "        f1, th = eval_oof_f1(oof_tmp, y_all)\n",
    "        trial.set_user_attr(\"best_threshold\", th)\n",
    "        return f1\n",
    "    return obj\n",
    "\n",
    "obj_long = make_objective_long(pools_tune, y_tune)\n",
    "\n",
    "# 目安: 4時間 or 300試行の早い方で止める（レジューム可）\n",
    "study_long.optimize(obj_long, timeout=4*3600, n_trials=300, gc_after_trial=True, show_progress_bar=True)\n",
    "\n",
    "best_params_long = study_long.best_trial.params.copy()\n",
    "best_th_long     = study_long.best_trial.user_attrs.get(\"best_threshold\", None)\n",
    "best_score_long  = study_long.best_value\n",
    "print(\"CB LONG best_f1:\", round(best_score_long,6), \"| th:\", best_th_long, \"\\nparams:\", best_params_long)\n",
    "\n",
    "# 記録\n",
    "with open(os.path.join(OUT_DIR, \"best_cb_long.json\"), \"w\", encoding=\"utf-8\") as f:\n",
    "    json.dump({\"f1\": best_score_long, \"th\": best_th_long, \"params\": best_params_long}, f, indent=2)\n"
   ]
  },
  {
   "cell_type": "code",
   "execution_count": 148,
   "id": "e177574e",
   "metadata": {},
   "outputs": [
    {
     "name": "stdout",
     "output_type": "stream",
     "text": [
      "BEST(long) trial: 215 | f1_subset: 0.624705\n",
      "best_params_cb (long):\n",
      "{\n",
      "  \"iterations\": 9000,\n",
      "  \"learning_rate\": 0.05493064682626694,\n",
      "  \"depth\": 4,\n",
      "  \"l2_leaf_reg\": 0.5115786758048061,\n",
      "  \"bagging_temperature\": 1.2242967294479623,\n",
      "  \"random_strength\": 0.04837554120029483,\n",
      "  \"subsample\": 0.7248481343107376,\n",
      "  \"rsm\": 0.7610964299432775,\n",
      "  \"scale_pos_weight\": 1.7084264209085225,\n",
      "  \"loss_function\": \"Logloss\",\n",
      "  \"eval_metric\": \"Logloss\",\n",
      "  \"verbose\": false,\n",
      "  \"thread_count\": -1,\n",
      "  \"use_best_model\": true,\n",
      "  \"allow_writing_files\": false\n",
      "}\n"
     ]
    }
   ],
   "source": [
    "# ==== 9-optuna-long: best trial pick & set ====\n",
    "# ここは 9-optuna-long の直下に置く\n",
    "assert 'study_long' in locals(), \"先に 9-optuna-long を実行して study_long を作ってあること\"\n",
    "\n",
    "best_trial_long = study_long.best_trial\n",
    "best_params_long = best_trial_long.params.copy()\n",
    "\n",
    "# CatBoost 固定項目をマージ（trial 側にある 'iterations' はそのまま使う）\n",
    "best_params_cb = {\n",
    "    **best_params_long,\n",
    "    \"loss_function\": \"Logloss\",\n",
    "    \"eval_metric\": \"Logloss\",\n",
    "    \"verbose\": False,\n",
    "    \"thread_count\": -1,\n",
    "    \"use_best_model\": True,\n",
    "    \"allow_writing_files\": False,\n",
    "    # GPU 使えるなら:\n",
    "    # \"task_type\": \"GPU\", \"devices\": \"0\",\n",
    "}\n",
    "\n",
    "print(\"BEST(long) trial:\", best_trial_long.number, \n",
    "      \"| f1_subset:\", round(best_trial_long.value, 6))\n",
    "print(\"best_params_cb (long):\")\n",
    "import json; print(json.dumps(best_params_cb, indent=2))\n"
   ]
  },
  {
   "cell_type": "code",
   "execution_count": null,
   "id": "6e341de2",
   "metadata": {},
   "outputs": [
    {
     "name": "stdout",
     "output_type": "stream",
     "text": [
      "bridge set: best_params <- best_params_cb (from long study)\n"
     ]
    }
   ],
   "source": [
    "# ==== bridge-for-long (put right after 9-optuna-long) ====\n",
    "# 以降の 9 / 9b が参照する best_params を、long の最良結果に差し替える\n",
    "best_params = best_params_cb\n",
    "print(\"bridge set: best_params <- best_params_cb (from long study)\")\n"
   ]
  },
  {
   "cell_type": "code",
   "execution_count": 172,
   "id": "eb42fff4",
   "metadata": {},
   "outputs": [],
   "source": [
    "best_params = {\n",
    "  \"learning_rate\": 0.06116108646095842,\n",
    "  \"depth\": 5,\n",
    "  \"l2_leaf_reg\": 5.478690083944246,\n",
    "  \"bagging_temperature\": 0.8884344994647464,\n",
    "  \"random_strength\": 1.865589408671679,\n",
    "  \"subsample\": 0.9516049519127788,\n",
    "  \"scale_pos_weight\": 1.1386783078556455,\n",
    "  \"loss_function\": \"Logloss\",\n",
    "  \"eval_metric\": \"Logloss\",\n",
    "  \"verbose\": False,\n",
    "  \"thread_count\": -1,\n",
    "  \"use_best_model\": True,\n",
    "  \"allow_writing_files\": False,\n",
    "}\n"
   ]
  },
  {
   "cell_type": "code",
   "execution_count": 150,
   "id": "3ef5fdb6",
   "metadata": {},
   "outputs": [
    {
     "name": "stdout",
     "output_type": "stream",
     "text": [
      "OOF F1: 0.638835 | th(full): 0.45\n"
     ]
    }
   ],
   "source": [
    "# ==== 9\n",
    "\n",
    "params = dict(best_params)\n",
    "params.update({\n",
    "    \"iterations\": 10000,\n",
    "    \"loss_function\": \"Logloss\",\n",
    "    \"eval_metric\": \"Logloss\",\n",
    "    \"random_seed\": SEED,\n",
    "    \"verbose\": False,\n",
    "    \"thread_count\": -1,\n",
    "    \"use_best_model\": True,\n",
    "    \"allow_writing_files\": False,\n",
    "    # \"task_type\": \"GPU\", \"devices\": \"0\",  # 使えるなら\n",
    "})\n",
    "\n",
    "oof = np.zeros(len(X_train), dtype=float)\n",
    "test_prob = np.zeros(len(X_test), dtype=float)\n",
    "fold_f1s = []\n",
    "\n",
    "for fold, (train_pool, valid_pool, va_idx) in enumerate(pools_full, 1):\n",
    "    model = CatBoostClassifier(**params)\n",
    "    model.fit(train_pool, eval_set=valid_pool, early_stopping_rounds=EARLY_STOP_FULL)\n",
    "    oof[va_idx] = model.predict_proba(valid_pool)[:,1]\n",
    "    test_prob  += model.predict_proba(Pool(X_test, cat_features=cat_features_idx))[:,1] / skf_full.n_splits\n",
    "\n",
    "oof_f1, best_th_full = eval_oof_f1(oof, y_train)\n",
    "print(\"OOF F1:\", round(oof_f1, 6), \"| th(full):\", round(best_th_full, 4))\n"
   ]
  },
  {
   "cell_type": "code",
   "execution_count": 173,
   "id": "751259cb",
   "metadata": {},
   "outputs": [
    {
     "name": "stdout",
     "output_type": "stream",
     "text": [
      "CB-bag  OOF F1: 0.642419 | th: 0.34\n"
     ]
    }
   ],
   "source": [
    "# ==== 9b: CatBoost seed-bagging ====\n",
    "SEED_BAG = [42, 2025, 777]\n",
    "\n",
    "params_cb = dict(best_params)\n",
    "params_cb.update({\n",
    "    \"iterations\": 10000,\n",
    "    \"loss_function\": \"Logloss\",\n",
    "    \"eval_metric\": \"Logloss\",\n",
    "    \"verbose\": False,\n",
    "    \"thread_count\": -1,\n",
    "    \"use_best_model\": True,\n",
    "    \"allow_writing_files\": False,\n",
    "})\n",
    "\n",
    "oof_cb = np.zeros(len(X_train), dtype=float)\n",
    "test_cb = np.zeros(len(X_test), dtype=float)\n",
    "\n",
    "for fold, (tr_pool, va_pool, va_idx) in enumerate(pools_full, 1):\n",
    "    fold_prob = np.zeros(len(va_idx))\n",
    "    fold_test = np.zeros(len(X_test))\n",
    "    for sd in SEED_BAG:\n",
    "        p = dict(params_cb); p[\"random_seed\"] = sd\n",
    "        m = CatBoostClassifier(**p)\n",
    "        m.fit(tr_pool, eval_set=va_pool, early_stopping_rounds=EARLY_STOP_FULL)\n",
    "        fold_prob += m.predict_proba(va_pool)[:,1] / len(SEED_BAG)\n",
    "        fold_test += m.predict_proba(Pool(X_test, cat_features=cat_features_idx))[:,1] / len(SEED_BAG)\n",
    "    oof_cb[va_idx] = fold_prob\n",
    "    test_cb += fold_test / skf_full.n_splits\n",
    "\n",
    "f1_cb, th_cb = eval_oof_f1(oof_cb, y_train)\n",
    "print(\"CB-bag  OOF F1:\", round(f1_cb,6), \"| th:\", round(th_cb,4))\n"
   ]
  },
  {
   "cell_type": "code",
   "execution_count": 175,
   "id": "ad840577",
   "metadata": {},
   "outputs": [
    {
     "name": "stdout",
     "output_type": "stream",
     "text": [
      "[CB jitter:rs_0p8] F1@0.315: 0.635007\n",
      "[CB jitter:rs_1p2] F1@0.315: 0.637224\n",
      "[CB jittered-avg] OOF F1@0.315: 0.637602\n"
     ]
    }
   ],
   "source": [
    "# ==== 9b++: CB param-jitter (random_strength ±20%) ====\n",
    "from catboost import CatBoostClassifier, Pool\n",
    "import numpy as np\n",
    "from sklearn.metrics import f1_score\n",
    "\n",
    "assert 'pools_full' in locals() and len(pools_full)==5\n",
    "assert 'oof_cb' in locals() and 'test_cb' in locals(), \"先に 9b を実行して oof_cb/test_cb を作ってから\"\n",
    "\n",
    "params_cb_base = locals().get('best_params', None)\n",
    "if not params_cb_base:\n",
    "    params_cb_base = {\n",
    "        \"learning_rate\": 0.06116108646095842,\n",
    "        \"depth\": 5,\n",
    "        \"l2_leaf_reg\": 5.478690083944246,\n",
    "        \"bagging_temperature\": 0.8884344994647464,\n",
    "        \"random_strength\": 1.865589408671679,\n",
    "        \"subsample\": 0.9516049519127788,\n",
    "        \"scale_pos_weight\": 1.1386783078556455\n",
    "    }\n",
    "\n",
    "# ±20% だけランダム性を変える（時間増を最小化）\n",
    "rs0 = float(params_cb_base.get(\"random_strength\", 1.0))\n",
    "rs_lo = max(0.0, rs0 * 0.8)\n",
    "rs_hi = rs0 * 1.2\n",
    "\n",
    "COMMON = dict(\n",
    "    iterations=10000,\n",
    "    loss_function=\"Logloss\",\n",
    "    eval_metric=\"Logloss\",\n",
    "    verbose=False,\n",
    "    thread_count=-1,\n",
    "    use_best_model=True,\n",
    "    allow_writing_files=False,\n",
    ")\n",
    "SUBMIT_TH = float(locals().get(\"SUBMIT_THRESHOLD_OVERRIDE\", 0.315))\n",
    "\n",
    "variants = [\n",
    "    (\"rs_0p8\", {**params_cb_base, **COMMON, \"random_seed\": 42, \"random_strength\": rs_lo}),\n",
    "    (\"rs_1p2\", {**params_cb_base, **COMMON, \"random_seed\": 42, \"random_strength\": rs_hi}),\n",
    "]\n",
    "\n",
    "new_oofs, new_tests = [], []\n",
    "\n",
    "for name, p in variants:\n",
    "    oof_tmp = np.zeros(len(y_train), dtype=float)\n",
    "    test_tmp = np.zeros(len(X_test), dtype=float)\n",
    "    for (tr_pool, va_pool, va_idx) in pools_full:\n",
    "        m = CatBoostClassifier(**p)\n",
    "        m.fit(tr_pool, eval_set=va_pool, early_stopping_rounds=EARLY_STOP_FULL)\n",
    "        oof_tmp[va_idx] = m.predict_proba(va_pool)[:,1]\n",
    "        test_tmp += m.predict_proba(Pool(X_test, cat_features=cat_features_idx))[:,1] / len(pools_full)\n",
    "    f1_here = f1_score(y_train, (oof_tmp >= SUBMIT_TH).astype(int))\n",
    "    print(f\"[CB jitter:{name}] F1@{SUBMIT_TH:.3f}: {f1_here:.6f}\")\n",
    "    new_oofs.append(oof_tmp); new_tests.append(test_tmp)\n",
    "\n",
    "# 既存seed-bagging（oof_cb/test_cb）と等重み平均\n",
    "oof_cb = np.mean([oof_cb] + new_oofs, axis=0)\n",
    "test_cb = np.mean([test_cb] + new_tests, axis=0)\n",
    "f1_cb = f1_score(y_train, (oof_cb >= SUBMIT_TH).astype(int))\n",
    "print(f\"[CB jittered-avg] OOF F1@{SUBMIT_TH:.3f}: {f1_cb:.6f}\")\n",
    "\n",
    "CURRENT_PIPE = \"cb_param_jitter_rs\"\n"
   ]
  },
  {
   "cell_type": "code",
   "execution_count": 174,
   "id": "a2d03658",
   "metadata": {},
   "outputs": [
    {
     "name": "stdout",
     "output_type": "stream",
     "text": [
      "LGBM(rollback) OOF F1: 0.628571 | th: 0.32\n"
     ]
    }
   ],
   "source": [
    "# 9c (rollback to baseline)\n",
    "import lightgbm as lgb\n",
    "from lightgbm import LGBMClassifier, early_stopping, log_evaluation\n",
    "\n",
    "X_train_lgb = X_train.copy()\n",
    "X_test_lgb  = X_test.copy()\n",
    "for c in cat_cols:\n",
    "    X_train_lgb[c] = X_train_lgb[c].astype(\"category\")\n",
    "    X_test_lgb[c]  = X_test_lgb[c].astype(\"category\")\n",
    "\n",
    "params_lgb = {\n",
    "    \"objective\": \"binary\",\n",
    "    \"learning_rate\": 0.03,\n",
    "    \"num_leaves\": 63,\n",
    "    \"min_child_samples\": 50,\n",
    "    \"subsample\": 0.9,\n",
    "    \"colsample_bytree\": 0.8,\n",
    "    \"reg_alpha\": 0.0,\n",
    "    \"reg_lambda\": 5.0,\n",
    "    \"n_estimators\": 10000,\n",
    "    \"random_state\": SEED,\n",
    "    \"n_jobs\": -1,\n",
    "    \"verbose\": -1,\n",
    "    \"scale_pos_weight\": 1.2,\n",
    "}\n",
    "\n",
    "oof_lgb = np.zeros(len(X_train))\n",
    "test_lgb = np.zeros(len(X_test))\n",
    "\n",
    "for fold, (tr_idx, va_idx) in enumerate(skf_full.split(X_train_lgb, y_train), 1):\n",
    "    X_tr, X_va = X_train_lgb.iloc[tr_idx], X_train_lgb.iloc[va_idx]\n",
    "    y_tr, y_va = y_train[tr_idx], y_train[va_idx]\n",
    "    m = LGBMClassifier(**params_lgb)\n",
    "    m.fit(\n",
    "        X_tr, y_tr,\n",
    "        eval_set=[(X_va, y_va)],\n",
    "        eval_metric=\"binary_logloss\",\n",
    "        callbacks=[early_stopping(stopping_rounds=200, verbose=False), log_evaluation(period=0)],\n",
    "    )\n",
    "    oof_lgb[va_idx] = m.predict_proba(X_va)[:, 1]\n",
    "    test_lgb += m.predict_proba(X_test_lgb)[:, 1] / skf_full.n_splits\n",
    "\n",
    "f1_lgb, th_lgb = eval_oof_f1(oof_lgb, y_train)\n",
    "print(\"LGBM(rollback) OOF F1:\", round(f1_lgb,6), \"| th:\", round(th_lgb,4))\n"
   ]
  },
  {
   "cell_type": "code",
   "execution_count": null,
   "id": "4f794960",
   "metadata": {},
   "outputs": [
    {
     "name": "stdout",
     "output_type": "stream",
     "text": [
      "Ensemble OOF F1: 0.644037 | w(CB)=0.45 | th=0.3150\n"
     ]
    }
   ],
   "source": [
    "# ==== 9d: Soft ensemble of CB-bag & LGBM ====\n",
    "weights = np.linspace(0.0, 1.0, 21)  # 0,0.05, …,1.0\n",
    "best = (-1, None, None)  # (f1, w, th)\n",
    "\n",
    "for w in weights:\n",
    "    oof_ens = w*oof_cb + (1-w)*oof_lgb\n",
    "    f1, th = eval_oof_f1(oof_ens, y_train)\n",
    "    if f1 > best[0]:\n",
    "        best = (f1, w, th)\n",
    "\n",
    "best_f1, best_w, best_th = best\n",
    "print(f\"Ensemble OOF F1: {best_f1:.6f} | w(CB)={best_w:.2f} | th={best_th:.4f}\")\n",
    "\n",
    "# テスト側の確率も同じ重みで合成\n",
    "test_ens = best_w*test_cb + (1-best_w)*test_lgb\n",
    "\n",
    "# 以降の提出セル（11）で使われる変数名に載せ替え\n",
    "# oof = w*oof_cb + (1-best_w)*oof_lgb   # 不要\n",
    "oof = best_w*oof_cb + (1-best_w)*oof_lgb\n",
    "test_prob = test_ens\n",
    "best_th_full = best_th\n"
   ]
  },
  {
   "cell_type": "code",
   "execution_count": null,
   "id": "aaa80aa8",
   "metadata": {},
   "outputs": [
    {
     "name": "stdout",
     "output_type": "stream",
     "text": [
      "Ensemble OOF F1: 0.644332 | w(CB)=0.46 | th=0.3150\n"
     ]
    }
   ],
   "source": [
    "# # 9d' (re-run)\n",
    "# weights = np.linspace(0.0, 1.0, 101)\n",
    "# best = (-1, None, None)\n",
    "# for w in weights:\n",
    "#     oof_ens = w*oof_cb + (1-w)*oof_lgb\n",
    "#     f1, th = eval_oof_f1(oof_ens, y_train)\n",
    "#     if f1 > best[0]:\n",
    "#         best = (f1, w, th)\n",
    "\n",
    "# best_f1, best_w, best_th = best\n",
    "# print(f\"Ensemble OOF F1: {best_f1:.6f} | w(CB)={best_w:.2f} | th={best_th:.4f}\")\n",
    "\n",
    "# test_ens = best_w*test_cb + (1-best_w)*test_lgb\n",
    "# oof = best_w*oof_cb + (1-best_w)*oof_lgb\n",
    "# test_prob = test_ens\n",
    "# best_th_full = best_th\n"
   ]
  },
  {
   "cell_type": "code",
   "execution_count": null,
   "id": "02029b63",
   "metadata": {},
   "outputs": [
    {
     "name": "stdout",
     "output_type": "stream",
     "text": [
      "[ENS@submit] F1@0.315: 0.637708 | w(CB)=0.41\n"
     ]
    }
   ],
   "source": [
    "# # ==== 9d-double-prime: Soft ensemble (opt for F1 at submit_th) ====\n",
    "# submit_th = float(locals().get('SUBMIT_THRESHOLD_OVERRIDE', 0.315))\n",
    "\n",
    "# weights = np.linspace(0.0, 1.0, 101)\n",
    "# best = (-1.0, None)  # (f1_submit, w)\n",
    "# for w in weights:\n",
    "#     oof_ens = w*oof_cb + (1-w)*oof_lgb\n",
    "#     f1_submit = f1_score(y_train, (oof_ens >= submit_th).astype(int))\n",
    "#     if f1_submit > best[0]:\n",
    "#         best = (f1_submit, w)\n",
    "\n",
    "# best_f1_submit, best_w_submit = best\n",
    "# print(f\"[ENS@submit] F1@{submit_th:.3f}: {best_f1_submit:.6f} | w(CB)={best_w_submit:.2f}\")\n",
    "\n",
    "# # 採用\n",
    "# oof = best_w_submit*oof_cb + (1-best_w_submit)*oof_lgb\n",
    "# test_prob = best_w_submit*test_cb + (1-best_w_submit)*test_lgb\n",
    "# best_w = best_w_submit  # ログ用\n",
    "# best_th_full = submit_th  # ログ用（提出はoverride）\n"
   ]
  },
  {
   "cell_type": "code",
   "execution_count": 176,
   "id": "63ce5787",
   "metadata": {},
   "outputs": [
    {
     "name": "stdout",
     "output_type": "stream",
     "text": [
      "[ENS@submit micro] F1@0.315: 0.645633 | w(CB)=0.475\n"
     ]
    }
   ],
   "source": [
    "# ==== 9d''-micro: Soft ensemble (opt for F1 at submit_th, 0.001 step) ====\n",
    "from sklearn.metrics import f1_score\n",
    "\n",
    "submit_th = float(locals().get(\"SUBMIT_THRESHOLD_OVERRIDE\", 0.315))\n",
    "# ベース最適が 0.455 付近なので、その近傍を狭域探索\n",
    "weights = np.round(np.arange(0.430, 0.481, 0.001), 3)\n",
    "\n",
    "best = (-1.0, None)\n",
    "for w in weights:\n",
    "    oof_ens = w * oof_cb + (1 - w) * oof_lgb\n",
    "    f1_sub = f1_score(y_train, (oof_ens >= submit_th).astype(int))\n",
    "    if f1_sub > best[0]:\n",
    "        best = (f1_sub, w)\n",
    "\n",
    "best_f1_submit, best_w_submit = best\n",
    "print(f\"[ENS@submit micro] F1@{submit_th:.3f}: {best_f1_submit:.6f} | w(CB)={best_w_submit:.3f}\")\n",
    "\n",
    "# 採用（このセルの出力を以降の提出に反映）\n",
    "oof = best_w_submit * oof_cb + (1 - best_w_submit) * oof_lgb\n",
    "test_prob = best_w_submit * test_cb + (1 - best_w_submit) * test_lgb\n",
    "best_w = best_w_submit   # ログ用\n",
    "best_th_full = submit_th # ログ用（提出はoverride）\n",
    "CURRENT_PIPE = \"ens_weight_micro\"\n"
   ]
  },
  {
   "cell_type": "code",
   "execution_count": null,
   "id": "c82a50c8",
   "metadata": {},
   "outputs": [],
   "source": [
    "# ==== 9d'''-rank-mix (micro) ====\n",
    "import numpy as np\n",
    "from scipy.stats import rankdata\n",
    "from sklearn.metrics import f1_score\n",
    "\n",
    "submit_th = float(locals().get(\"SUBMIT_THRESHOLD_OVERRIDE\", 0.315))\n",
    "\n",
    "# rank化（同順位は平均、[0,1]にスケール）\n",
    "def to_rank01(x):\n",
    "    r = rankdata(x, method=\"average\")\n",
    "    return (r - 1) / (len(r) - 1)\n",
    "\n",
    "oof_cb_r   = to_rank01(oof_cb)\n",
    "oof_lgb_r  = to_rank01(oof_lgb)\n",
    "test_cb_r  = to_rank01(test_cb)\n",
    "test_lgb_r = to_rank01(test_lgb)\n",
    "\n",
    "# rank混合の強さ gamma（0=確率そのまま, 1=rankのみ）\n",
    "gammas = np.round(np.arange(0.0, 0.31, 0.02), 3)  # 超軽く 0〜0.30\n",
    "best = (-1.0, None, None)\n",
    "\n",
    "for gamma in gammas:\n",
    "    cb_mix  = (1-gamma)*oof_cb  + gamma*oof_cb_r\n",
    "    lgb_mix = (1-gamma)*oof_lgb + gamma*oof_lgb_r\n",
    "    # 直前のベストw（なければ 0.454 を既定値に）\n",
    "    w0 = float(locals().get(\"best_w\", 0.454))\n",
    "    # w も  ±0.01 を 0.001刻みで軽くサーチ\n",
    "    ws = np.round(np.arange(max(0, w0-0.01), min(1, w0+0.01)+1e-12, 0.001), 3)\n",
    "    for w in ws:\n",
    "        p = w*cb_mix + (1-w)*lgb_mix\n",
    "        f1s = f1_score(y_train, (p >= submit_th).astype(int))\n",
    "        if f1s > best[0]:\n",
    "            best = (f1s, gamma, w)\n",
    "\n",
    "print(f\"[RankMix@submit] F1@{submit_th:.3f}: {best[0]:.6f} | gamma={best[1]} | w(CB)={best[2]}\")\n",
    "\n",
    "# 採用して test も更新\n",
    "gamma, w = best[1], best[2]\n",
    "oof = w*((1-gamma)*oof_cb + gamma*oof_cb_r) + (1-w)*((1-gamma)*oof_lgb + gamma*oof_lgb_r)\n",
    "test_prob = w*((1-gamma)*test_cb + gamma*test_cb_r) + (1-w)*((1-gamma)*test_lgb + gamma*test_lgb_r)\n",
    "\n",
    "best_w = float(w)\n",
    "best_th_full = submit_th\n",
    "CURRENT_PIPE = \"ens_rankmix_micro\"\n"
   ]
  },
  {
   "cell_type": "code",
   "execution_count": null,
   "id": "e7b94a8e",
   "metadata": {},
   "outputs": [],
   "source": [
    "# ==== 9d'''-refine: Ensemble weight refine (±0.01, step=0.0005) ====\n",
    "import numpy as np\n",
    "from sklearn.metrics import f1_score\n",
    "\n",
    "submit_th = float(locals().get(\"SUBMIT_THRESHOLD_OVERRIDE\", 0.315))\n",
    "w0 = float(locals().get(\"best_w\", 0.454))  # 9d''-micro の結果を初期値に\n",
    "lo = max(0.0, w0 - 0.01)\n",
    "hi = min(1.0, w0 + 0.01)\n",
    "weights = np.round(np.arange(lo, hi + 1e-12, 0.0005), 4)\n",
    "\n",
    "best = (-1.0, None)\n",
    "for w in weights:\n",
    "    probs = w * oof_cb + (1 - w) * oof_lgb\n",
    "    f1_sub = f1_score(y_train, (probs >= submit_th).astype(int))\n",
    "    if f1_sub > best[0]:\n",
    "        best = (f1_sub, w)\n",
    "\n",
    "best_f1, best_w_ref = best\n",
    "print(f\"[ENS@submit micro-refine] F1@{submit_th:.3f}: {best_f1:.6f} | w(CB)={best_w_ref:.4f}\")\n",
    "\n",
    "# 採用\n",
    "oof = best_w_ref * oof_cb + (1 - best_w_ref) * oof_lgb\n",
    "test_prob = best_w_ref * test_cb + (1 - best_w_ref) * test_lgb\n",
    "best_w = float(best_w_ref)\n",
    "best_th_full = submit_th\n",
    "CURRENT_PIPE = \"ens_weight_micro_refine\"\n"
   ]
  },
  {
   "cell_type": "code",
   "execution_count": 177,
   "id": "970391f4",
   "metadata": {},
   "outputs": [
    {
     "name": "stdout",
     "output_type": "stream",
     "text": [
      "[TH-SCAN] best_t=0.310 | F1@best=0.646952\n",
      "[TH-SCAN] APPLY_OVERRIDE -> SUBMIT_THRESHOLD_OVERRIDE = 0.310 (ΔF1=+0.001318)\n"
     ]
    }
   ],
   "source": [
    "# ==== TH-SCAN # ==== STEP8-1: threshold micro-scan around 0.315 (step=0.005) ====# ==== TH-SCAN\n",
    "import numpy as np\n",
    "from sklearn.metrics import f1_score\n",
    "\n",
    "assert 'oof' in locals() and 'y_train' in locals()\n",
    "cands = np.arange(0.295, 0.341, 0.005)  # 0.295..0.34\n",
    "f1s = [f1_score(y_train, (oof >= t).astype(int)) for t in cands]\n",
    "j = int(np.argmax(f1s))\n",
    "best_t, best_f1 = float(cands[j]), float(f1s[j])\n",
    "print(f\"[TH-SCAN] best_t={best_t:.3f} | F1@best={best_f1:.6f}\")\n",
    "\n",
    "# 方針: 中央値(0.315)±0.01に収まる & 提出F1が +0.0005 以上なら上書き\n",
    "curr_th = float(locals().get(\"SUBMIT_THRESHOLD_OVERRIDE\", 0.315))\n",
    "curr_f1 = f1_score(y_train, (oof >= curr_th).astype(int))\n",
    "delta = best_f1 - curr_f1\n",
    "if abs(best_t - 0.315) <= 0.010 and delta >= 0.0005:\n",
    "    SUBMIT_THRESHOLD_OVERRIDE = best_t\n",
    "    print(f\"[TH-SCAN] APPLY_OVERRIDE -> SUBMIT_THRESHOLD_OVERRIDE = {SUBMIT_THRESHOLD_OVERRIDE:.3f} (ΔF1=+{delta:.6f})\")\n",
    "else:\n",
    "    print(f\"[TH-SCAN] KEEP 0.315 (best_t差 {abs(best_t-0.315):.3f}, ΔF1={delta:+.6f})\")\n"
   ]
  },
  {
   "cell_type": "code",
   "execution_count": 178,
   "id": "aa67a108",
   "metadata": {},
   "outputs": [
    {
     "name": "stdout",
     "output_type": "stream",
     "text": [
      "[ENS micro] best F1@0.310=0.646952 | w(CB)=0.475\n",
      "[ENS micro] APPLY w=0.475\n"
     ]
    }
   ],
   "source": [
    "# ==== STEP8-2: micro re-search of ensemble weight around current w ====\n",
    "import numpy as np\n",
    "from sklearn.metrics import f1_score\n",
    "\n",
    "assert 'oof_cb' in locals() and 'oof_lgb' in locals()\n",
    "th = float(locals().get(\"SUBMIT_THRESHOLD_OVERRIDE\", 0.310))  # ← TH-SCANで上書き済み\n",
    "grid = np.arange(0.44, 0.501, 0.005)  # 0.44..0.50\n",
    "best = (-1.0, None)\n",
    "for w in grid:\n",
    "    oof_mix = w*oof_cb + (1-w)*oof_lgb\n",
    "    f1v = f1_score(y_train, (oof_mix >= th).astype(int))\n",
    "    if f1v > best[0]:\n",
    "        best = (f1v, w)\n",
    "print(f\"[ENS micro] best F1@{th:.3f}={best[0]:.6f} | w(CB)={best[1]:.3f}\")\n",
    "\n",
    "# 改善が +0.0005 以上のときだけ採用して oof/test を更新\n",
    "curr_submit_f1 = float(locals().get(\"oof_f1_at_submit\", 0.0))  # 直近ログ値が無ければ0\n",
    "if best[0] >= curr_submit_f1 + 0.0005:\n",
    "    best_w = float(best[1])\n",
    "    oof = best_w*oof_cb + (1-best_w)*oof_lgb\n",
    "    test_prob = best_w*test_cb + (1-best_w)*locals().get('test_lgb', 0)\n",
    "    print(f\"[ENS micro] APPLY w={best_w:.3f}\")\n",
    "else:\n",
    "    print(\"[ENS micro] KEEP current w (no clear gain)\")\n"
   ]
  },
  {
   "cell_type": "code",
   "execution_count": 138,
   "id": "3ab6d51c",
   "metadata": {},
   "outputs": [
    {
     "name": "stdout",
     "output_type": "stream",
     "text": [
      "submit_threshold (override) = 0.315\n"
     ]
    }
   ],
   "source": [
    "# ==== CHECK: submit threshold (no mutation) ====\n",
    "print(\"submit_threshold (override) =\", locals().get(\"SUBMIT_THRESHOLD_OVERRIDE\", None))\n"
   ]
  },
  {
   "cell_type": "code",
   "execution_count": null,
   "id": "ccc267cc",
   "metadata": {},
   "outputs": [
    {
     "name": "stdout",
     "output_type": "stream",
     "text": [
      "[TH-SCAN] best_t=0.360 | F1@best=0.640894\n",
      "[TH-SCAN] APPLY_OVERRIDE -> SUBMIT_THRESHOLD_OVERRIDE = 0.360 (ΔF1=+0.000000)\n"
     ]
    }
   ],
   "source": [
    "# # ==== TH-SCAN: OOF全体で最適しきい値を走査して SUBMIT_THRESHOLD_OVERRIDE を更新 ====\n",
    "# import numpy as np\n",
    "# from sklearn.metrics import f1_score\n",
    "\n",
    "# # 探索レンジとステップ（必要なら調整）\n",
    "# t_min, t_max, t_step = 0.20, 0.50, 0.005\n",
    "# ths = np.arange(t_min, t_max + 1e-9, t_step)\n",
    "\n",
    "# # 現在の submit 閾値（override 優先）\n",
    "# cur_th = locals().get(\"SUBMIT_THRESHOLD_OVERRIDE\", None)\n",
    "# if cur_th is None:\n",
    "#     cur_th = locals().get(\"best_th_full\", None)\n",
    "# if cur_th is None:\n",
    "#     # フォールバックで OOF 全体最適を一度計算\n",
    "#     cur_f1, cur_th = eval_oof_f1(oof, y_train)\n",
    "# else:\n",
    "#     cur_f1 = f1_score(y_train, (oof >= cur_th).astype(int))\n",
    "\n",
    "# # 走査\n",
    "# f1s = [f1_score(y_train, (oof >= t).astype(int)) for t in ths]\n",
    "# j = int(np.argmax(f1s))\n",
    "# best_t, best_f1 = float(ths[j]), float(f1s[j])\n",
    "\n",
    "# print(f\"[TH-SCAN] best_t={best_t:.3f} | F1@best={best_f1:.6f}\")\n",
    "\n",
    "# # 適用（上書き）\n",
    "# delta = best_f1 - cur_f1\n",
    "# SUBMIT_THRESHOLD_OVERRIDE = best_t\n",
    "# print(f\"[TH-SCAN] APPLY_OVERRIDE -> SUBMIT_THRESHOLD_OVERRIDE = {SUBMIT_THRESHOLD_OVERRIDE:.3f} (ΔF1={delta:+.6f})\")\n"
   ]
  },
  {
   "cell_type": "code",
   "execution_count": 179,
   "id": "41790776",
   "metadata": {},
   "outputs": [
    {
     "name": "stdout",
     "output_type": "stream",
     "text": [
      "TARGET: 0.64 | OOF_global: 0.646952 | OOF_at_submit: 0.646952 | submit_th: 0.310\n"
     ]
    }
   ],
   "source": [
    "# ==== TARGET monitor (robust, after ENS micro) ====\n",
    "from sklearn.metrics import f1_score\n",
    "assert 'oof' in locals() and 'y_train' in locals()\n",
    "\n",
    "# 現在の提出しきい値（TH-SCANで0.310にしてる前提）\n",
    "sub_th = float(locals().get(\"SUBMIT_THRESHOLD_OVERRIDE\", 0.310))\n",
    "\n",
    "oof_f1_global, _ = eval_oof_f1(oof, y_train)\n",
    "oof_f1_submit = f1_score(y_train, (oof >= sub_th).astype(int))\n",
    "print(f\"TARGET: 0.64 | OOF_global: {oof_f1_global:.6f} | OOF_at_submit: {oof_f1_submit:.6f} | submit_th: {sub_th:.3f}\")\n"
   ]
  },
  {
   "cell_type": "code",
   "execution_count": 180,
   "id": "f26a46dd",
   "metadata": {},
   "outputs": [
    {
     "name": "stdout",
     "output_type": "stream",
     "text": [
      "Saved: C:\\Users\\koshihiramatsu\\projects\\MUFJ_competition_2025\\model-proposal_A_v2\\submission_A_v34.csv\n",
      "Saved: C:\\Users\\koshihiramatsu\\projects\\MUFJ_competition_2025\\model-proposal_A_v2\\run_A2_v34.txt\n"
     ]
    }
   ],
   "source": [
    "# ==== セル11（常にfold再構築＋アンサンブル情報を記録） ====\n",
    "import os, json, numpy as np, pandas as pd\n",
    "from sklearn.metrics import f1_score, confusion_matrix, classification_report\n",
    "\n",
    "assert 'oof' in locals() and 'test_prob' in locals(), \"先にセル9/9dまで実行してoof/test_probを作ってから実行\"\n",
    "\n",
    "# 提出閾値の決定（優先: override → best_th_full → best_th → 0.5）\n",
    "threshold_for_submit = locals().get(\"SUBMIT_THRESHOLD_OVERRIDE\", None)\n",
    "if threshold_for_submit is None:\n",
    "    threshold_for_submit = locals().get(\"best_th_full\", None)\n",
    "if threshold_for_submit is None:\n",
    "    threshold_for_submit = locals().get(\"best_th\", 0.5)\n",
    "\n",
    "threshold_source = (\n",
    "    \"override\" if locals().get(\"SUBMIT_THRESHOLD_OVERRIDE\", None) is not None\n",
    "    else \"best_th_full\" if locals().get(\"best_th_full\", None) is not None\n",
    "    else \"best_th\" if locals().get(\"best_th\", None) is not None\n",
    "    else \"default_0.5\"\n",
    ")\n",
    "\n",
    "\n",
    "# ---- foldごとの指標を毎回作り直す ----\n",
    "fold_reports = []\n",
    "fold_f1s = []\n",
    "if 'pools_full' in locals():\n",
    "    for fold, (_tr_pool, _va_pool, va_idx) in enumerate(pools_full, 1):\n",
    "        y_va = y_train[va_idx]\n",
    "        y_pred_va = (oof[va_idx] >= threshold_for_submit).astype(int)\n",
    "        f1v = f1_score(y_va, y_pred_va)\n",
    "        cm  = confusion_matrix(y_va, y_pred_va)\n",
    "        rep = classification_report(y_va, y_pred_va, digits=4)\n",
    "        fold_f1s.append(f1v)\n",
    "        fold_reports.append((f\"FOLD {fold}\", f1v, cm, rep))\n",
    "else:\n",
    "    # 予備（fold境界がないとき）\n",
    "    y_pred = (oof >= threshold_for_submit).astype(int)\n",
    "    f1v = f1_score(y_train, y_pred)\n",
    "    cm  = confusion_matrix(y_train, y_pred)\n",
    "    rep = classification_report(y_train, y_pred, digits=4)\n",
    "    fold_f1s = [f1v]\n",
    "    fold_reports = [(\"GLOBAL\", f1v, cm, rep)]\n",
    "\n",
    "# ---- 提出予測 ----\n",
    "test_pred = (test_prob >= threshold_for_submit).astype(int)\n",
    "assert len(test_pred) == len(test)\n",
    "assert set(np.unique(test_pred)).issubset({0,1})\n",
    "\n",
    "# 自動ナンバリング\n",
    "OUT_DIR  = r\"C:\\Users\\koshihiramatsu\\projects\\MUFJ_competition_2025\\model-proposal_A_v2\"\n",
    "os.makedirs(OUT_DIR, exist_ok=True)\n",
    "n = next_version_number(OUT_DIR)\n",
    "sub_name = f\"submission_A_v{n}.csv\"\n",
    "log_name = f\"run_A2_v{n}.txt\"\n",
    "\n",
    "# 出力（sample_submitの区切りに合わせる）\n",
    "sep = locals().get(\"SUBMIT_SEP\", \",\")\n",
    "submit_df = pd.DataFrame({ID_COL: test[ID_COL].values, \"pred\": test_pred})\n",
    "if sep == r\"\\s+\":\n",
    "    with open(os.path.join(OUT_DIR, sub_name), \"w\", encoding=\"utf-8\") as f:\n",
    "        for i, p in submit_df[[ID_COL, \"pred\"]].itertuples(index=False):\n",
    "            f.write(f\"{i} {p}\\n\")\n",
    "else:\n",
    "    submit_df.to_csv(os.path.join(OUT_DIR, sub_name), header=False, index=False, sep=sep)\n",
    "\n",
    "print(\"Saved:\", os.path.join(OUT_DIR, sub_name))\n",
    "\n",
    "# ---- ログ ----\n",
    "def safe(x): \n",
    "    return float(x) if isinstance(x, (np.floating, np.float64, np.float32)) else x\n",
    "\n",
    "oof_f1_global_best, _ = eval_oof_f1(oof, y_train)\n",
    "oof_f1_at_submit = f1_score(y_train, (oof >= threshold_for_submit).astype(int))\n",
    "\n",
    "log_lines = [\n",
    "    f\"version: {n}\",\n",
    "    f\"seed: {SEED}\",\n",
    "    f\"n_splits: {skf_full.n_splits if 'skf_full' in locals() else N_SPLITS}\",\n",
    "    f\"target_col: {TARGET_COL}\",\n",
    "    f\"id_col: {ID_COL}\",\n",
    "    f\"n_features: {len(features)}\",\n",
    "    f\"n_categoricals: {len(cat_cols)}\",\n",
    "    f\"train_shape: {train.shape}\",\n",
    "    f\"test_shape: {test.shape}\",\n",
    "    f\"target_pos_ratio: {train[TARGET_COL].mean():.6f}\",\n",
    "    \"\",\n",
    "    f\"best_oof_f1_from_study: {locals().get('best_score', float('nan')):.6f}\",\n",
    "    f\"oof_f1_global_best: {oof_f1_global_best:.6f}\",\n",
    "    f\"oof_f1_at_submit_th: {oof_f1_at_submit:.6f}\",\n",
    "    f\"threshold_source: {threshold_source}\",\n",
    "    f\"submit_threshold: {float(threshold_for_submit):.6f}\",\n",
    "    f\"fold_f1s: {[round(safe(x), 6) for x in fold_f1s]}\",\n",
    "    \"\",\n",
    "    # アンサンブル情報（存在する場合のみ）\n",
    "    f\"oof_f1_cb: {locals().get('f1_cb', float('nan')):.6f}\",\n",
    "    f\"oof_f1_lgb: {locals().get('f1_lgb', float('nan')):.6f}\",\n",
    "    f\"ensemble_w_cb: {locals().get('best_w', float('nan'))}\",\n",
    "    \"\",\n",
    "    \"best_params_cb:\",\n",
    "    json.dumps(locals().get('best_params', {}), indent=2),\n",
    "    \"params_lgb:\",\n",
    "    json.dumps(locals().get('params_lgb', {}), indent=2),\n",
    "    \"\",\n",
    "]\n",
    "for title, f1v, cm, rep in fold_reports:\n",
    "    log_lines += [title, f\"F1@submit_th: {f1v:.6f}\", \"confusion_matrix:\", str(cm), \"report:\", rep, \"-\"*40]\n",
    "\n",
    "with open(os.path.join(OUT_DIR, log_name), \"w\", encoding=\"utf-8\") as f:\n",
    "    f.write(\"\\n\".join([str(x) for x in log_lines]))\n",
    "\n",
    "print(\"Saved:\", os.path.join(OUT_DIR, log_name))\n"
   ]
  }
 ],
 "metadata": {
  "kernelspec": {
   "display_name": "ds-env",
   "language": "python",
   "name": "python3"
  },
  "language_info": {
   "codemirror_mode": {
    "name": "ipython",
    "version": 3
   },
   "file_extension": ".py",
   "mimetype": "text/x-python",
   "name": "python",
   "nbconvert_exporter": "python",
   "pygments_lexer": "ipython3",
   "version": "3.9.23"
  }
 },
 "nbformat": 4,
 "nbformat_minor": 5
}
