{
 "cells": [
  {
   "cell_type": "code",
   "execution_count": 43,
   "id": "cb6d2f22",
   "metadata": {},
   "outputs": [],
   "source": [
    "SEED = 42\n",
    "\n",
    "# === 時短フラグ ===\n",
    "FAST_TUNE = True\n",
    "TUNE_FRAC = 0.60\n",
    "N_SPLITS_TUNE = 3\n",
    "\n",
    "# === イテレーション/試行数 ===\n",
    "EARLY_STOP_TUNE = 100\n",
    "EARLY_STOP_FULL = 200\n",
    "N_TRIALS_TUNE = 20\n",
    "N_TRIALS_REFINE = 10\n",
    "\n",
    "OPTUNA_TIMEOUT_SEC = 1800\n",
    "\n",
    "DATA_DIR = r\"G:\\マイドライブ\\MUFJ_competition_2025\\data\"\n",
    "OUT_DIR  = r\"C:\\Users\\koshihiramatsu\\projects\\MUFJ_competition_2025\\model-proposal_A_v2\"\n",
    "\n",
    "# しきい値の固定（Noneで自動に戻す）\n",
    "SUBMIT_THRESHOLD_OVERRIDE = 0.315\n"
   ]
  },
  {
   "cell_type": "code",
   "execution_count": 10,
   "id": "7de99b7e",
   "metadata": {},
   "outputs": [],
   "source": [
    "import os, re, json, math, warnings, itertools, textwrap\n",
    "warnings.filterwarnings(\"ignore\")\n",
    "\n",
    "import numpy as np\n",
    "import pandas as pd\n",
    "\n",
    "from sklearn.model_selection import StratifiedKFold\n",
    "from sklearn.metrics import f1_score, classification_report, confusion_matrix\n",
    "from sklearn.utils import check_random_state\n",
    "\n",
    "from catboost import CatBoostClassifier, Pool\n",
    "import optuna\n"
   ]
  },
  {
   "cell_type": "code",
   "execution_count": 11,
   "id": "6394d3c9",
   "metadata": {},
   "outputs": [],
   "source": [
    "from typing import Optional, Tuple, List\n",
    "\n",
    "def detect_submit_sep(sample_submit_path: str) -> str:\n",
    "    # カンマ/タブ/空白の順で試す。列数=2なら採用。\n",
    "    for sep in [\",\", \"\\t\", r\"\\s+\"]:\n",
    "        try:\n",
    "            df = pd.read_csv(sample_submit_path, header=None, sep=sep, engine=\"python\")\n",
    "            if df.shape[1] == 2:\n",
    "                return sep\n",
    "        except Exception:\n",
    "            pass\n",
    "    # デフォルト: カンマ\n",
    "    return \",\"\n",
    "\n",
    "def is_binary(col: pd.Series) -> bool:\n",
    "    vals = pd.unique(col.dropna())\n",
    "    return set(vals).issubset({0,1})\n",
    "\n",
    "def detect_columns(train: pd.DataFrame, test: pd.DataFrame) -> Tuple[str, str]:\n",
    "    # 目的変数: train にのみ存在し、かつ {0,1} のどれか\n",
    "    only_in_train = [c for c in train.columns if c not in test.columns]\n",
    "    candid_tgt = [c for c in only_in_train if is_binary(train[c])]\n",
    "    if len(candid_tgt) == 1:\n",
    "        target_col = candid_tgt[0]\n",
    "    else:\n",
    "        # フォールバック: 名前に label/target/default が入っていて2値\n",
    "        name_hits = [c for c in train.columns if any(k in c.lower() for k in [\"label\", \"target\", \"default\", \"loanstatus\"])]\n",
    "        name_hits = [c for c in name_hits if c in train.columns and is_binary(train[c])]\n",
    "        if len(name_hits) >= 1:\n",
    "            target_col = name_hits[0]\n",
    "        else:\n",
    "            raise ValueError(\"目的変数を自動検出できない。TARGET_COL を手動指定して。\")\n",
    "\n",
    "    # ID列: train&test 共通 かつ 一意/整数っぽい/名前に id を含む を優先\n",
    "    common = [c for c in test.columns if c in train.columns]\n",
    "    # 1) 名前に 'id'\n",
    "    id_like = [c for c in common if 'id' in c.lower()]\n",
    "    def unique_int_like(df, c):\n",
    "        s = df[c]\n",
    "        nunique = s.nunique(dropna=True)\n",
    "        return (nunique == len(s)) and (np.issubdtype(s.dropna().dtype, np.integer) or np.issubdtype(s.dropna().dtype, np.number))\n",
    "    for c in id_like + common:\n",
    "        if unique_int_like(test, c):\n",
    "            id_col = c\n",
    "            break\n",
    "    else:\n",
    "        # だめなら test の最左列\n",
    "        id_col = test.columns[0]\n",
    "\n",
    "    return target_col, id_col\n",
    "\n",
    "def next_version_number(out_dir: str) -> int:\n",
    "    os.makedirs(out_dir, exist_ok=True)\n",
    "    pattern = re.compile(r\"submission_A_v(\\d+)\\.csv$\")\n",
    "    ns = []\n",
    "    for f in os.listdir(out_dir):\n",
    "        m = pattern.match(f)\n",
    "        if m:\n",
    "            ns.append(int(m.group(1)))\n",
    "    return (max(ns) + 1) if ns else 1\n"
   ]
  },
  {
   "cell_type": "code",
   "execution_count": 12,
   "id": "6b1249a6",
   "metadata": {},
   "outputs": [
    {
     "name": "stdout",
     "output_type": "stream",
     "text": [
      "TARGET_COL: LoanStatus\n",
      "ID_COL: id\n",
      "train shape: (7552, 16) test shape: (7552, 15)\n",
      "target dist: {0: 0.8723516949152542, 1: 0.12764830508474576}\n"
     ]
    }
   ],
   "source": [
    "train_path = os.path.join(DATA_DIR, \"train.csv\")\n",
    "test_path  = os.path.join(DATA_DIR, \"test.csv\")\n",
    "sample_path= os.path.join(DATA_DIR, \"sample_submit.csv\")\n",
    "\n",
    "train = pd.read_csv(train_path)\n",
    "test  = pd.read_csv(test_path)\n",
    "\n",
    "SUBMIT_SEP = detect_submit_sep(sample_path)\n",
    "\n",
    "TARGET_COL, ID_COL = detect_columns(train, test)\n",
    "\n",
    "print(\"TARGET_COL:\", TARGET_COL)\n",
    "print(\"ID_COL:\", ID_COL)\n",
    "print(\"train shape:\", train.shape, \"test shape:\", test.shape)\n",
    "print(\"target dist:\", train[TARGET_COL].value_counts(normalize=True).to_dict())\n",
    "\n",
    "# 目的変数・ID の存在確認\n",
    "assert TARGET_COL in train.columns\n",
    "assert ID_COL in test.columns and ID_COL in train.columns\n"
   ]
  },
  {
   "cell_type": "code",
   "execution_count": 13,
   "id": "909a1fbe",
   "metadata": {},
   "outputs": [
    {
     "name": "stdout",
     "output_type": "stream",
     "text": [
      "n_features: 15 | n_categoricals: 6\n"
     ]
    }
   ],
   "source": [
    "# 説明変数\n",
    "features = [c for c in train.columns if c not in [TARGET_COL]]\n",
    "# CatBoostはカテゴリ・数値を混在でそのまま扱えるが、objectは文字列化して欠損は 'MISSING' に寄せる\n",
    "cat_cols = [c for c in features if train[c].dtype == 'object' or pd.api.types.is_categorical_dtype(train[c])]\n",
    "\n",
    "def prep_df(df: pd.DataFrame) -> pd.DataFrame:\n",
    "    out = df.copy()\n",
    "    for c in cat_cols:\n",
    "        out[c] = out[c].astype(str).fillna(\"MISSING\")\n",
    "    return out\n",
    "\n",
    "X_train = prep_df(train[features])\n",
    "y_train = train[TARGET_COL].astype(int).values\n",
    "X_test  = prep_df(test[features])\n",
    "\n",
    "cat_features_idx = [X_train.columns.get_loc(c) for c in cat_cols]\n",
    "\n",
    "print(\"n_features:\", len(features), \"| n_categoricals:\", len(cat_cols))\n"
   ]
  },
  {
   "cell_type": "code",
   "execution_count": 14,
   "id": "0e7b3423",
   "metadata": {},
   "outputs": [],
   "source": [
    "from sklearn.model_selection import StratifiedKFold\n",
    "\n",
    "skf_full = StratifiedKFold(n_splits=5, shuffle=True, random_state=SEED)\n",
    "skf_tune = StratifiedKFold(n_splits=N_SPLITS_TUNE, shuffle=True, random_state=SEED)\n"
   ]
  },
  {
   "cell_type": "code",
   "execution_count": 15,
   "id": "bc8aaf74",
   "metadata": {},
   "outputs": [
    {
     "name": "stdout",
     "output_type": "stream",
     "text": [
      "TUNE SUBSET: 4531 rows (60%)\n"
     ]
    }
   ],
   "source": [
    "# クラス比を保ってサブセットを作る（FAST_TUNE時のみ）\n",
    "if FAST_TUNE:\n",
    "    # 層化抽出\n",
    "    from sklearn.model_selection import train_test_split\n",
    "    idx_all = np.arange(len(X_train))\n",
    "    idx_tune, _ = train_test_split(\n",
    "        idx_all, train_size=TUNE_FRAC, stratify=y_train, random_state=SEED\n",
    "    )\n",
    "    X_tune = X_train.iloc[idx_tune].reset_index(drop=True)\n",
    "    y_tune = y_train[idx_tune]\n",
    "    print(f\"TUNE SUBSET: {len(X_tune)} rows ({TUNE_FRAC*100:.0f}%)\")\n",
    "else:\n",
    "    X_tune, y_tune = X_train, y_train\n"
   ]
  },
  {
   "cell_type": "code",
   "execution_count": 16,
   "id": "36eea9f7",
   "metadata": {},
   "outputs": [],
   "source": [
    "# 再利用できるよう、foldごとにPoolを前計算しておく（作成コストと前処理のばらつきを削減）\n",
    "def build_pools(X, y, skf, cat_idx):\n",
    "    pools = []\n",
    "    for tr_idx, va_idx in skf.split(X, y):\n",
    "        X_tr, X_va = X.iloc[tr_idx], X.iloc[va_idx]\n",
    "        y_tr, y_va = y[tr_idx], y[va_idx]\n",
    "        pools.append((\n",
    "            Pool(X_tr, y_tr, cat_features=cat_idx),\n",
    "            Pool(X_va, y_va, cat_features=cat_idx),\n",
    "            va_idx\n",
    "        ))\n",
    "    return pools\n",
    "\n",
    "pools_tune = build_pools(X_tune, y_tune, skf_tune, cat_features_idx)\n",
    "pools_full = build_pools(X_train, y_train, skf_full, cat_features_idx)\n"
   ]
  },
  {
   "cell_type": "code",
   "execution_count": 17,
   "id": "90a3fd66",
   "metadata": {},
   "outputs": [],
   "source": [
    "def eval_oof_f1(probs, y_true):\n",
    "    thresholds = np.linspace(0.05, 0.95, 181)\n",
    "    f1s = [f1_score(y_true, (probs >= t).astype(int)) for t in thresholds]\n",
    "    j = int(np.argmax(f1s))\n",
    "    return f1s[j], float(thresholds[j])\n",
    "\n",
    "def make_objective(pools, y_all, early_stop, iterations):\n",
    "    def objective(trial):\n",
    "        # 探索空間をやや狭くして収束を早める\n",
    "        params = {\n",
    "            \"iterations\": iterations,\n",
    "            \"learning_rate\": trial.suggest_float(\"learning_rate\", 0.03, 0.15, log=True),\n",
    "            \"depth\": trial.suggest_int(\"depth\", 4, 8),\n",
    "            \"l2_leaf_reg\": trial.suggest_float(\"l2_leaf_reg\", 1e-2, 1e1, log=True),\n",
    "            \"bagging_temperature\": trial.suggest_float(\"bagging_temperature\", 0.0, 5.0),\n",
    "            \"random_strength\": trial.suggest_float(\"random_strength\", 0.0, 2.0),\n",
    "            \"subsample\": trial.suggest_float(\"subsample\", 0.7, 1.0),\n",
    "            \"scale_pos_weight\": trial.suggest_float(\"scale_pos_weight\", 0.7, 3.0),\n",
    "            \"loss_function\": \"Logloss\",\n",
    "            \"eval_metric\": \"Logloss\",\n",
    "            \"random_seed\": SEED,\n",
    "            \"verbose\": False,\n",
    "            \"thread_count\": -1,\n",
    "            \"use_best_model\": True,\n",
    "            \"allow_writing_files\": False,\n",
    "            # GPUが使えるなら次行を有効化（失敗したらコメントアウト）\n",
    "            # \"task_type\": \"GPU\", \"devices\": \"0\",\n",
    "        }\n",
    "\n",
    "        oof = np.zeros(len(y_all), dtype=float)\n",
    "        for train_pool, valid_pool, va_idx in pools:\n",
    "            model = CatBoostClassifier(**params)\n",
    "            model.fit(train_pool, eval_set=valid_pool, early_stopping_rounds=early_stop)\n",
    "            oof[va_idx] = model.predict_proba(valid_pool)[:, 1]\n",
    "\n",
    "        f1, th = eval_oof_f1(oof[oof > 0], y_all[oof > 0])  # チューニングsubsetのOOF部分のみで算出\n",
    "        trial.set_user_attr(\"best_threshold\", th)\n",
    "        return f1\n",
    "    return objective\n"
   ]
  },
  {
   "cell_type": "code",
   "execution_count": 18,
   "id": "41a73e68",
   "metadata": {},
   "outputs": [
    {
     "name": "stderr",
     "output_type": "stream",
     "text": [
      "[I 2025-08-10 14:58:29,482] A new study created in memory with name: no-name-cca92d46-4424-47ab-ba80-b9b2f27f4808\n",
      "Best trial: 0. Best value: 0.591433:   5%|▌         | 1/20 [00:31<10:05, 31.85s/it, 31.85/1800 seconds]"
     ]
    },
    {
     "name": "stdout",
     "output_type": "stream",
     "text": [
      "[I 2025-08-10 14:59:01,331] Trial 0 finished with value: 0.5914332784184514 and parameters: {'learning_rate': 0.054816785328198704, 'depth': 8, 'l2_leaf_reg': 1.5702970884055387, 'bagging_temperature': 2.993292420985183, 'random_strength': 0.31203728088487304, 'subsample': 0.7467983561008608, 'scale_pos_weight': 0.8335923079868587}. Best is trial 0 with value: 0.5914332784184514.\n"
     ]
    },
    {
     "name": "stderr",
     "output_type": "stream",
     "text": [
      "Best trial: 1. Best value: 0.611848:  10%|█         | 2/20 [00:53<07:46, 25.93s/it, 53.64/1800 seconds]"
     ]
    },
    {
     "name": "stdout",
     "output_type": "stream",
     "text": [
      "[I 2025-08-10 14:59:23,123] Trial 1 finished with value: 0.6118479221927497 and parameters: {'learning_rate': 0.12093510864110771, 'depth': 7, 'l2_leaf_reg': 1.3311216080736887, 'bagging_temperature': 0.10292247147901223, 'random_strength': 1.9398197043239886, 'subsample': 0.9497327922401265, 'scale_pos_weight': 1.188379954560035}. Best is trial 1 with value: 0.6118479221927497.\n"
     ]
    },
    {
     "name": "stderr",
     "output_type": "stream",
     "text": [
      "Best trial: 1. Best value: 0.611848:  15%|█▌        | 3/20 [01:20<07:31, 26.54s/it, 80.91/1800 seconds]"
     ]
    },
    {
     "name": "stdout",
     "output_type": "stream",
     "text": [
      "[I 2025-08-10 14:59:50,389] Trial 2 finished with value: 0.6038910505836576 and parameters: {'learning_rate': 0.040198648566549054, 'depth': 4, 'l2_leaf_reg': 0.08179499475211674, 'bagging_temperature': 2.6237821581611893, 'random_strength': 0.8638900372842315, 'subsample': 0.7873687420594125, 'scale_pos_weight': 2.1072616578614727}. Best is trial 1 with value: 0.6118479221927497.\n"
     ]
    },
    {
     "name": "stderr",
     "output_type": "stream",
     "text": [
      "Best trial: 1. Best value: 0.611848:  20%|██        | 4/20 [01:53<07:43, 28.99s/it, 113.66/1800 seconds]"
     ]
    },
    {
     "name": "stdout",
     "output_type": "stream",
     "text": [
      "[I 2025-08-10 15:00:23,143] Trial 3 finished with value: 0.605833956619297 and parameters: {'learning_rate': 0.03755115322842063, 'depth': 5, 'l2_leaf_reg': 0.1256277350380703, 'bagging_temperature': 2.28034992108518, 'random_strength': 1.5703519227860272, 'subsample': 0.7599021346475079, 'scale_pos_weight': 1.8827392083513066}. Best is trial 1 with value: 0.6118479221927497.\n"
     ]
    },
    {
     "name": "stderr",
     "output_type": "stream",
     "text": [
      "Best trial: 1. Best value: 0.611848:  25%|██▌       | 5/20 [02:07<05:53, 23.57s/it, 127.61/1800 seconds]"
     ]
    },
    {
     "name": "stdout",
     "output_type": "stream",
     "text": [
      "[I 2025-08-10 15:00:37,090] Trial 4 finished with value: 0.6080691642651297 and parameters: {'learning_rate': 0.07783972061633886, 'depth': 4, 'l2_leaf_reg': 0.6647135865318028, 'bagging_temperature': 0.8526206184364576, 'random_strength': 0.13010318597055903, 'subsample': 0.984665661176, 'scale_pos_weight': 2.9209536760714867}. Best is trial 1 with value: 0.6118479221927497.\n"
     ]
    },
    {
     "name": "stderr",
     "output_type": "stream",
     "text": [
      "Best trial: 1. Best value: 0.611848:  30%|███       | 6/20 [02:19<04:36, 19.72s/it, 139.86/1800 seconds]"
     ]
    },
    {
     "name": "stdout",
     "output_type": "stream",
     "text": [
      "[I 2025-08-10 15:00:49,340] Trial 5 finished with value: 0.5984375 and parameters: {'learning_rate': 0.1101962340138614, 'depth': 5, 'l2_leaf_reg': 0.019634341572933336, 'bagging_temperature': 3.4211651325607844, 'random_strength': 0.8803049874792026, 'subsample': 0.7366114704534336, 'scale_pos_weight': 1.8389068932559214}. Best is trial 1 with value: 0.6118479221927497.\n"
     ]
    },
    {
     "name": "stderr",
     "output_type": "stream",
     "text": [
      "Best trial: 1. Best value: 0.611848:  35%|███▌      | 7/20 [02:42<04:28, 20.64s/it, 162.38/1800 seconds]"
     ]
    },
    {
     "name": "stdout",
     "output_type": "stream",
     "text": [
      "[I 2025-08-10 15:01:11,866] Trial 6 finished with value: 0.5945165945165946 and parameters: {'learning_rate': 0.031707193242141093, 'depth': 8, 'l2_leaf_reg': 0.059750279999602945, 'bagging_temperature': 3.31261142176991, 'random_strength': 0.6234221521788219, 'subsample': 0.8560204063533432, 'scale_pos_weight': 1.957433642489543}. Best is trial 1 with value: 0.6118479221927497.\n"
     ]
    },
    {
     "name": "stderr",
     "output_type": "stream",
     "text": [
      "Best trial: 1. Best value: 0.611848:  40%|████      | 8/20 [03:21<05:19, 26.59s/it, 201.71/1800 seconds]"
     ]
    },
    {
     "name": "stdout",
     "output_type": "stream",
     "text": [
      "[I 2025-08-10 15:01:51,196] Trial 7 finished with value: 0.6022641509433962 and parameters: {'learning_rate': 0.04039512666823938, 'depth': 8, 'l2_leaf_reg': 2.1154290797261215, 'bagging_temperature': 4.697494707820946, 'random_strength': 1.7896547008552977, 'subsample': 0.8793699936433255, 'scale_pos_weight': 2.820310740553168}. Best is trial 1 with value: 0.6118479221927497.\n"
     ]
    },
    {
     "name": "stderr",
     "output_type": "stream",
     "text": [
      "Best trial: 1. Best value: 0.611848:  45%|████▌     | 9/20 [03:39<04:20, 23.72s/it, 219.14/1800 seconds]"
     ]
    },
    {
     "name": "stdout",
     "output_type": "stream",
     "text": [
      "[I 2025-08-10 15:02:08,620] Trial 8 finished with value: 0.5969275786393563 and parameters: {'learning_rate': 0.1405200625953881, 'depth': 6, 'l2_leaf_reg': 5.095071061056762, 'bagging_temperature': 0.26696131796423683, 'random_strength': 1.549124519811738, 'subsample': 0.8594249939696944, 'scale_pos_weight': 1.246329998629404}. Best is trial 1 with value: 0.6118479221927497.\n"
     ]
    },
    {
     "name": "stderr",
     "output_type": "stream",
     "text": [
      "Best trial: 1. Best value: 0.611848:  50%|█████     | 10/20 [04:02<03:54, 23.48s/it, 242.09/1800 seconds]"
     ]
    },
    {
     "name": "stdout",
     "output_type": "stream",
     "text": [
      "[I 2025-08-10 15:02:31,570] Trial 9 finished with value: 0.6068965517241379 and parameters: {'learning_rate': 0.11734022068569182, 'depth': 8, 'l2_leaf_reg': 5.1729540340743325, 'bagging_temperature': 1.3735538453643197, 'random_strength': 1.438297245481995, 'subsample': 0.9714503920763212, 'scale_pos_weight': 1.686738972090934}. Best is trial 1 with value: 0.6118479221927497.\n"
     ]
    },
    {
     "name": "stderr",
     "output_type": "stream",
     "text": [
      "Best trial: 1. Best value: 0.611848:  55%|█████▌    | 11/20 [04:22<03:23, 22.59s/it, 262.66/1800 seconds]"
     ]
    },
    {
     "name": "stdout",
     "output_type": "stream",
     "text": [
      "[I 2025-08-10 15:02:52,137] Trial 10 finished with value: 0.5849189570119803 and parameters: {'learning_rate': 0.11449573866978238, 'depth': 6, 'l2_leaf_reg': 0.04863208345581101, 'bagging_temperature': 0.7853497842533179, 'random_strength': 1.8553822991238997, 'subsample': 0.8909556519845516, 'scale_pos_weight': 1.4658602071694027}. Best is trial 1 with value: 0.6118479221927497.\n"
     ]
    },
    {
     "name": "stderr",
     "output_type": "stream",
     "text": [
      "Best trial: 11. Best value: 0.616333:  60%|██████    | 12/20 [04:49<03:10, 23.77s/it, 289.14/1800 seconds]"
     ]
    },
    {
     "name": "stdout",
     "output_type": "stream",
     "text": [
      "[I 2025-08-10 15:03:18,616] Trial 11 finished with value: 0.6163328197226502 and parameters: {'learning_rate': 0.047940254989892885, 'depth': 4, 'l2_leaf_reg': 0.8469509872099742, 'bagging_temperature': 0.33124353469809986, 'random_strength': 0.41895376324721256, 'subsample': 0.9896831195949556, 'scale_pos_weight': 2.6498824785986583}. Best is trial 11 with value: 0.6163328197226502.\n"
     ]
    },
    {
     "name": "stderr",
     "output_type": "stream",
     "text": [
      "Best trial: 11. Best value: 0.616333:  65%|██████▌   | 13/20 [05:16<02:53, 24.82s/it, 316.37/1800 seconds]"
     ]
    },
    {
     "name": "stdout",
     "output_type": "stream",
     "text": [
      "[I 2025-08-10 15:03:45,851] Trial 12 finished with value: 0.6074766355140186 and parameters: {'learning_rate': 0.039555204952676566, 'depth': 4, 'l2_leaf_reg': 0.17457152885399302, 'bagging_temperature': 2.4494337488959634, 'random_strength': 0.6339656121983112, 'subsample': 0.9645791201416001, 'scale_pos_weight': 2.4965312247595093}. Best is trial 11 with value: 0.6163328197226502.\n"
     ]
    },
    {
     "name": "stderr",
     "output_type": "stream",
     "text": [
      "Best trial: 11. Best value: 0.616333:  70%|███████   | 14/20 [05:52<02:50, 28.34s/it, 352.83/1800 seconds]"
     ]
    },
    {
     "name": "stdout",
     "output_type": "stream",
     "text": [
      "[I 2025-08-10 15:04:22,313] Trial 13 finished with value: 0.6070878274268104 and parameters: {'learning_rate': 0.03207080982450353, 'depth': 6, 'l2_leaf_reg': 3.7201370765695967, 'bagging_temperature': 0.35443417875650557, 'random_strength': 0.26230591077722676, 'subsample': 0.9113573205044627, 'scale_pos_weight': 2.8678346005919453}. Best is trial 11 with value: 0.6163328197226502.\n"
     ]
    },
    {
     "name": "stderr",
     "output_type": "stream",
     "text": [
      "Best trial: 11. Best value: 0.616333:  75%|███████▌  | 15/20 [06:26<02:29, 29.82s/it, 386.07/1800 seconds]"
     ]
    },
    {
     "name": "stdout",
     "output_type": "stream",
     "text": [
      "[I 2025-08-10 15:04:55,557] Trial 14 finished with value: 0.6050129645635264 and parameters: {'learning_rate': 0.04624264979307338, 'depth': 5, 'l2_leaf_reg': 4.594445376407278, 'bagging_temperature': 0.589516842634676, 'random_strength': 0.8940804297855756, 'subsample': 0.87191472925697, 'scale_pos_weight': 1.3893551953095746}. Best is trial 11 with value: 0.6163328197226502.\n"
     ]
    },
    {
     "name": "stderr",
     "output_type": "stream",
     "text": [
      "Best trial: 11. Best value: 0.616333:  80%|████████  | 16/20 [06:49<01:51, 27.93s/it, 409.64/1800 seconds]"
     ]
    },
    {
     "name": "stdout",
     "output_type": "stream",
     "text": [
      "[I 2025-08-10 15:05:19,118] Trial 15 finished with value: 0.6120826709062003 and parameters: {'learning_rate': 0.07611076429158616, 'depth': 6, 'l2_leaf_reg': 1.0564190915518583, 'bagging_temperature': 0.8668908588310074, 'random_strength': 1.8499535502022153, 'subsample': 0.983213595873115, 'scale_pos_weight': 0.8122240972441206}. Best is trial 11 with value: 0.6163328197226502.\n"
     ]
    },
    {
     "name": "stderr",
     "output_type": "stream",
     "text": [
      "Best trial: 11. Best value: 0.616333:  85%|████████▌ | 17/20 [07:07<01:14, 24.94s/it, 427.63/1800 seconds]"
     ]
    },
    {
     "name": "stdout",
     "output_type": "stream",
     "text": [
      "[I 2025-08-10 15:05:37,109] Trial 16 finished with value: 0.6049204052098408 and parameters: {'learning_rate': 0.09658987375968167, 'depth': 4, 'l2_leaf_reg': 0.06957754858123973, 'bagging_temperature': 2.439820083435086, 'random_strength': 1.856421032641976, 'subsample': 0.965971693905709, 'scale_pos_weight': 0.8225022394639633}. Best is trial 11 with value: 0.6163328197226502.\n"
     ]
    },
    {
     "name": "stderr",
     "output_type": "stream",
     "text": [
      "Best trial: 11. Best value: 0.616333:  90%|█████████ | 18/20 [07:28<00:47, 23.64s/it, 448.24/1800 seconds]"
     ]
    },
    {
     "name": "stdout",
     "output_type": "stream",
     "text": [
      "[I 2025-08-10 15:05:57,725] Trial 17 finished with value: 0.6080760095011877 and parameters: {'learning_rate': 0.04826986509482155, 'depth': 4, 'l2_leaf_reg': 1.1940730890525697, 'bagging_temperature': 0.892188275865698, 'random_strength': 0.05852979307125716, 'subsample': 0.9388311774030238, 'scale_pos_weight': 1.8122195117886022}. Best is trial 11 with value: 0.6163328197226502.\n"
     ]
    },
    {
     "name": "stderr",
     "output_type": "stream",
     "text": [
      "Best trial: 11. Best value: 0.616333:  95%|█████████▌| 19/20 [07:56<00:25, 25.10s/it, 476.73/1800 seconds]"
     ]
    },
    {
     "name": "stdout",
     "output_type": "stream",
     "text": [
      "[I 2025-08-10 15:06:26,217] Trial 18 finished with value: 0.602291325695581 and parameters: {'learning_rate': 0.05042332206553957, 'depth': 7, 'l2_leaf_reg': 0.14954784869817256, 'bagging_temperature': 1.4798870805924518, 'random_strength': 1.611553124939411, 'subsample': 0.9981357296646711, 'scale_pos_weight': 1.130447511416614}. Best is trial 11 with value: 0.6163328197226502.\n"
     ]
    },
    {
     "name": "stderr",
     "output_type": "stream",
     "text": [
      "Best trial: 19. Best value: 0.617021: 100%|██████████| 20/20 [08:25<00:00, 25.25s/it, 505.10/1800 seconds]"
     ]
    },
    {
     "name": "stdout",
     "output_type": "stream",
     "text": [
      "[I 2025-08-10 15:06:54,579] Trial 19 finished with value: 0.6170212765957447 and parameters: {'learning_rate': 0.06116108646095842, 'depth': 5, 'l2_leaf_reg': 5.478690083944246, 'bagging_temperature': 0.8884344994647464, 'random_strength': 1.865589408671679, 'subsample': 0.9516049519127788, 'scale_pos_weight': 1.1386783078556455}. Best is trial 19 with value: 0.6170212765957447.\n",
      "FAST TUNE  best_f1: 0.617021 th: 0.345 params: {'learning_rate': 0.06116108646095842, 'depth': 5, 'l2_leaf_reg': 5.478690083944246, 'bagging_temperature': 0.8884344994647464, 'random_strength': 1.865589408671679, 'subsample': 0.9516049519127788, 'scale_pos_weight': 1.1386783078556455}\n"
     ]
    },
    {
     "name": "stderr",
     "output_type": "stream",
     "text": [
      "\n"
     ]
    }
   ],
   "source": [
    "sampler = optuna.samplers.TPESampler(seed=SEED, n_startup_trials=8, multivariate=True, group=True)\n",
    "pruner  = optuna.pruners.SuccessiveHalvingPruner(min_resource=50, reduction_factor=3, min_early_stopping_rate=0)\n",
    "\n",
    "study = optuna.create_study(direction=\"maximize\", sampler=sampler, pruner=pruner)\n",
    "obj = make_objective(\n",
    "    pools=pools_tune,\n",
    "    y_all=y_tune,\n",
    "    early_stop=EARLY_STOP_TUNE,\n",
    "    iterations=3000,  # チューニング時は小さめ\n",
    ")\n",
    "study.optimize(obj, n_trials=N_TRIALS_TUNE, timeout=OPTUNA_TIMEOUT_SEC, show_progress_bar=True)\n",
    "\n",
    "# 余力があれば絞り込み（top数点の近傍を探索）\n",
    "best_params = study.best_trial.params.copy()\n",
    "best_th = study.best_trial.user_attrs[\"best_threshold\"]\n",
    "best_score = study.best_value\n",
    "print(\"FAST TUNE  best_f1:\", round(best_score, 6), \"th:\", round(best_th, 4), \"params:\", best_params)\n"
   ]
  },
  {
   "cell_type": "code",
   "execution_count": null,
   "id": "3ef5fdb6",
   "metadata": {},
   "outputs": [
    {
     "name": "stdout",
     "output_type": "stream",
     "text": [
      "OOF F1: 0.634523 | th(full): 0.36\n"
     ]
    }
   ],
   "source": [
    "# ==== 9\n",
    "\n",
    "params = dict(best_params)\n",
    "params.update({\n",
    "    \"iterations\": 10000,\n",
    "    \"loss_function\": \"Logloss\",\n",
    "    \"eval_metric\": \"Logloss\",\n",
    "    \"random_seed\": SEED,\n",
    "    \"verbose\": False,\n",
    "    \"thread_count\": -1,\n",
    "    \"use_best_model\": True,\n",
    "    \"allow_writing_files\": False,\n",
    "    # \"task_type\": \"GPU\", \"devices\": \"0\",  # 使えるなら\n",
    "})\n",
    "\n",
    "oof = np.zeros(len(X_train), dtype=float)\n",
    "test_prob = np.zeros(len(X_test), dtype=float)\n",
    "fold_f1s = []\n",
    "\n",
    "for fold, (train_pool, valid_pool, va_idx) in enumerate(pools_full, 1):\n",
    "    model = CatBoostClassifier(**params)\n",
    "    model.fit(train_pool, eval_set=valid_pool, early_stopping_rounds=EARLY_STOP_FULL)\n",
    "    oof[va_idx] = model.predict_proba(valid_pool)[:,1]\n",
    "    test_prob  += model.predict_proba(Pool(X_test, cat_features=cat_features_idx))[:,1] / skf_full.n_splits\n",
    "\n",
    "oof_f1, best_th_full = eval_oof_f1(oof, y_train)\n",
    "print(\"OOF F1:\", round(oof_f1, 6), \"| th(full):\", round(best_th_full, 4))\n"
   ]
  },
  {
   "cell_type": "code",
   "execution_count": 32,
   "id": "751259cb",
   "metadata": {},
   "outputs": [
    {
     "name": "stdout",
     "output_type": "stream",
     "text": [
      "CB-bag  OOF F1: 0.642419 | th: 0.34\n"
     ]
    }
   ],
   "source": [
    "# ==== 9b: CatBoost seed-bagging ====\n",
    "SEED_BAG = [42, 2025, 777]\n",
    "\n",
    "params_cb = dict(best_params)\n",
    "params_cb.update({\n",
    "    \"iterations\": 10000,\n",
    "    \"loss_function\": \"Logloss\",\n",
    "    \"eval_metric\": \"Logloss\",\n",
    "    \"verbose\": False,\n",
    "    \"thread_count\": -1,\n",
    "    \"use_best_model\": True,\n",
    "    \"allow_writing_files\": False,\n",
    "})\n",
    "\n",
    "oof_cb = np.zeros(len(X_train), dtype=float)\n",
    "test_cb = np.zeros(len(X_test), dtype=float)\n",
    "\n",
    "for fold, (tr_pool, va_pool, va_idx) in enumerate(pools_full, 1):\n",
    "    fold_prob = np.zeros(len(va_idx))\n",
    "    fold_test = np.zeros(len(X_test))\n",
    "    for sd in SEED_BAG:\n",
    "        p = dict(params_cb); p[\"random_seed\"] = sd\n",
    "        m = CatBoostClassifier(**p)\n",
    "        m.fit(tr_pool, eval_set=va_pool, early_stopping_rounds=EARLY_STOP_FULL)\n",
    "        fold_prob += m.predict_proba(va_pool)[:,1] / len(SEED_BAG)\n",
    "        fold_test += m.predict_proba(Pool(X_test, cat_features=cat_features_idx))[:,1] / len(SEED_BAG)\n",
    "    oof_cb[va_idx] = fold_prob\n",
    "    test_cb += fold_test / skf_full.n_splits\n",
    "\n",
    "f1_cb, th_cb = eval_oof_f1(oof_cb, y_train)\n",
    "print(\"CB-bag  OOF F1:\", round(f1_cb,6), \"| th:\", round(th_cb,4))\n"
   ]
  },
  {
   "cell_type": "code",
   "execution_count": 25,
   "id": "a2d03658",
   "metadata": {},
   "outputs": [
    {
     "name": "stdout",
     "output_type": "stream",
     "text": [
      "LightGBM version: 4.6.0\n",
      "LGBM     OOF F1: 0.628571 | th: 0.32\n"
     ]
    }
   ],
   "source": [
    "# ==== 9c: LightGBM baseline (5-fold) ====\n",
    "import lightgbm as lgb\n",
    "from lightgbm import LGBMClassifier, early_stopping, log_evaluation\n",
    "\n",
    "# バージョン確認（任意）\n",
    "print(\"LightGBM version:\", lgb.__version__)\n",
    "\n",
    "# LGBMは pandas の category dtype を自動認識\n",
    "X_train_lgb = X_train.copy()\n",
    "X_test_lgb  = X_test.copy()\n",
    "for c in cat_cols:\n",
    "    X_train_lgb[c] = X_train_lgb[c].astype(\"category\")\n",
    "    X_test_lgb[c]  = X_test_lgb[c].astype(\"category\")\n",
    "\n",
    "params_lgb = {\n",
    "    \"objective\": \"binary\",\n",
    "    \"learning_rate\": 0.03,\n",
    "    \"num_leaves\": 63,\n",
    "    \"min_child_samples\": 50,\n",
    "    \"subsample\": 0.9,\n",
    "    \"colsample_bytree\": 0.8,\n",
    "    \"reg_alpha\": 0.0,\n",
    "    \"reg_lambda\": 5.0,\n",
    "    \"n_estimators\": 10000,        # 早停前提で大きめ\n",
    "    \"random_state\": SEED,\n",
    "    \"n_jobs\": -1,\n",
    "    \"verbose\": -1,\n",
    "    \"scale_pos_weight\": 1.2,\n",
    "}\n",
    "\n",
    "oof_lgb = np.zeros(len(X_train), dtype=float)\n",
    "test_lgb = np.zeros(len(X_test), dtype=float)\n",
    "\n",
    "for fold, (tr_idx, va_idx) in enumerate(skf_full.split(X_train_lgb, y_train), 1):\n",
    "    X_tr, X_va = X_train_lgb.iloc[tr_idx], X_train_lgb.iloc[va_idx]\n",
    "    y_tr, y_va = y_train[tr_idx], y_train[va_idx]\n",
    "\n",
    "    m = LGBMClassifier(**params_lgb)\n",
    "    m.fit(\n",
    "        X_tr, y_tr,\n",
    "        eval_set=[(X_va, y_va)],\n",
    "        eval_metric=\"binary_logloss\",\n",
    "        callbacks=[\n",
    "            early_stopping(stopping_rounds=200, verbose=False),\n",
    "            log_evaluation(period=0),\n",
    "        ],\n",
    "    )\n",
    "\n",
    "    oof_lgb[va_idx] = m.predict_proba(X_va)[:, 1]\n",
    "    test_lgb += m.predict_proba(X_test_lgb)[:, 1] / skf_full.n_splits\n",
    "\n",
    "f1_lgb, th_lgb = eval_oof_f1(oof_lgb, y_train)\n",
    "print(\"LGBM     OOF F1:\", round(f1_lgb, 6), \"| th:\", round(th_lgb, 4))\n"
   ]
  },
  {
   "cell_type": "code",
   "execution_count": 26,
   "id": "4f794960",
   "metadata": {},
   "outputs": [
    {
     "name": "stdout",
     "output_type": "stream",
     "text": [
      "Ensemble OOF F1: 0.644037 | w(CB)=0.45 | th=0.3150\n"
     ]
    }
   ],
   "source": [
    "# ==== 9d: Soft ensemble of CB-bag & LGBM ====\n",
    "weights = np.linspace(0.0, 1.0, 21)  # 0,0.05, …,1.0\n",
    "best = (-1, None, None)  # (f1, w, th)\n",
    "\n",
    "for w in weights:\n",
    "    oof_ens = w*oof_cb + (1-w)*oof_lgb\n",
    "    f1, th = eval_oof_f1(oof_ens, y_train)\n",
    "    if f1 > best[0]:\n",
    "        best = (f1, w, th)\n",
    "\n",
    "best_f1, best_w, best_th = best\n",
    "print(f\"Ensemble OOF F1: {best_f1:.6f} | w(CB)={best_w:.2f} | th={best_th:.4f}\")\n",
    "\n",
    "# テスト側の確率も同じ重みで合成\n",
    "test_ens = best_w*test_cb + (1-best_w)*test_lgb\n",
    "\n",
    "# 以降の提出セル（11）で使われる変数名に載せ替え\n",
    "oof = w*oof_cb + (1-best_w)*oof_lgb   # タイポ回避で再計算\n",
    "oof = best_w*oof_cb + (1-best_w)*oof_lgb\n",
    "test_prob = test_ens\n",
    "best_th_full = best_th\n"
   ]
  },
  {
   "cell_type": "code",
   "execution_count": 33,
   "id": "aaa80aa8",
   "metadata": {},
   "outputs": [
    {
     "name": "stdout",
     "output_type": "stream",
     "text": [
      "Ensemble OOF F1: 0.644332 | w(CB)=0.46 | th=0.3150\n"
     ]
    }
   ],
   "source": [
    "# ==== 9d': Soft ensemble (finer grid) ====\n",
    "weights = np.linspace(0.0, 1.0, 101)  # 0.00〜1.00 を0.01刻み\n",
    "best = (-1, None, None)\n",
    "for w in weights:\n",
    "    oof_ens = w*oof_cb + (1-w)*oof_lgb\n",
    "    f1, th = eval_oof_f1(oof_ens, y_train)\n",
    "    if f1 > best[0]:\n",
    "        best = (f1, w, th)\n",
    "best_f1, best_w, best_th = best\n",
    "print(f\"Ensemble OOF F1: {best_f1:.6f} | w(CB)={best_w:.2f} | th={best_th:.4f}\")\n",
    "\n",
    "test_ens = best_w*test_cb + (1-best_w)*test_lgb\n",
    "oof = best_w*oof_cb + (1-best_w)*oof_lgb\n",
    "test_prob = test_ens\n",
    "best_th_full = best_th\n"
   ]
  },
  {
   "cell_type": "code",
   "execution_count": 42,
   "id": "1993cab6",
   "metadata": {},
   "outputs": [
    {
     "name": "stdout",
     "output_type": "stream",
     "text": [
      "SUBMIT_THRESHOLD_OVERRIDE = 0.315\n"
     ]
    }
   ],
   "source": [
    "# STEP2-2: 提出しきい値を固定\n",
    "SUBMIT_THRESHOLD_OVERRIDE = 0.315\n",
    "print(\"SUBMIT_THRESHOLD_OVERRIDE =\", SUBMIT_THRESHOLD_OVERRIDE)\n"
   ]
  },
  {
   "cell_type": "code",
   "execution_count": 20,
   "id": "8bf35089",
   "metadata": {},
   "outputs": [
    {
     "name": "stdout",
     "output_type": "stream",
     "text": [
      "TARGET: 0.64  | CURRENT: 0.634523\n"
     ]
    }
   ],
   "source": [
    "TARGET_F1 = 0.64\n",
    "print(\"TARGET:\", TARGET_F1, \" | CURRENT:\", round(oof_f1, 6))\n"
   ]
  },
  {
   "cell_type": "code",
   "execution_count": 44,
   "id": "f26a46dd",
   "metadata": {},
   "outputs": [
    {
     "name": "stdout",
     "output_type": "stream",
     "text": [
      "Saved: C:\\Users\\koshihiramatsu\\projects\\MUFJ_competition_2025\\model-proposal_A_v2\\submission_A_v10.csv\n",
      "Saved: C:\\Users\\koshihiramatsu\\projects\\MUFJ_competition_2025\\model-proposal_A_v2\\run_A2_v10.txt\n"
     ]
    }
   ],
   "source": [
    "# ==== セル11（常にfold再構築＋アンサンブル情報を記録） ====\n",
    "import os, json, numpy as np, pandas as pd\n",
    "from sklearn.metrics import f1_score, confusion_matrix, classification_report\n",
    "\n",
    "assert 'oof' in locals() and 'test_prob' in locals(), \"先にセル9/9dまで実行してoof/test_probを作ってから実行\"\n",
    "\n",
    "# 提出閾値の決定（優先: override → best_th_full → best_th → 0.5）\n",
    "threshold_for_submit = locals().get(\"SUBMIT_THRESHOLD_OVERRIDE\", None)\n",
    "if threshold_for_submit is None:\n",
    "    threshold_for_submit = locals().get(\"best_th_full\", None)\n",
    "if threshold_for_submit is None:\n",
    "    threshold_for_submit = locals().get(\"best_th\", 0.5)\n",
    "\n",
    "threshold_source = (\n",
    "    \"override\" if locals().get(\"SUBMIT_THRESHOLD_OVERRIDE\", None) is not None\n",
    "    else \"best_th_full\" if locals().get(\"best_th_full\", None) is not None\n",
    "    else \"best_th\" if locals().get(\"best_th\", None) is not None\n",
    "    else \"default_0.5\"\n",
    ")\n",
    "\n",
    "\n",
    "# ---- foldごとの指標を毎回作り直す ----\n",
    "fold_reports = []\n",
    "fold_f1s = []\n",
    "if 'pools_full' in locals():\n",
    "    for fold, (_tr_pool, _va_pool, va_idx) in enumerate(pools_full, 1):\n",
    "        y_va = y_train[va_idx]\n",
    "        y_pred_va = (oof[va_idx] >= threshold_for_submit).astype(int)\n",
    "        f1v = f1_score(y_va, y_pred_va)\n",
    "        cm  = confusion_matrix(y_va, y_pred_va)\n",
    "        rep = classification_report(y_va, y_pred_va, digits=4)\n",
    "        fold_f1s.append(f1v)\n",
    "        fold_reports.append((f\"FOLD {fold}\", f1v, cm, rep))\n",
    "else:\n",
    "    # 予備（fold境界がないとき）\n",
    "    y_pred = (oof >= threshold_for_submit).astype(int)\n",
    "    f1v = f1_score(y_train, y_pred)\n",
    "    cm  = confusion_matrix(y_train, y_pred)\n",
    "    rep = classification_report(y_train, y_pred, digits=4)\n",
    "    fold_f1s = [f1v]\n",
    "    fold_reports = [(\"GLOBAL\", f1v, cm, rep)]\n",
    "\n",
    "# ---- 提出予測 ----\n",
    "test_pred = (test_prob >= threshold_for_submit).astype(int)\n",
    "assert len(test_pred) == len(test)\n",
    "assert set(np.unique(test_pred)).issubset({0,1})\n",
    "\n",
    "# 自動ナンバリング\n",
    "OUT_DIR  = r\"C:\\Users\\koshihiramatsu\\projects\\MUFJ_competition_2025\\model-proposal_A_v2\"\n",
    "os.makedirs(OUT_DIR, exist_ok=True)\n",
    "n = next_version_number(OUT_DIR)\n",
    "sub_name = f\"submission_A_v{n}.csv\"\n",
    "log_name = f\"run_A2_v{n}.txt\"\n",
    "\n",
    "# 出力（sample_submitの区切りに合わせる）\n",
    "sep = locals().get(\"SUBMIT_SEP\", \",\")\n",
    "submit_df = pd.DataFrame({ID_COL: test[ID_COL].values, \"pred\": test_pred})\n",
    "if sep == r\"\\s+\":\n",
    "    with open(os.path.join(OUT_DIR, sub_name), \"w\", encoding=\"utf-8\") as f:\n",
    "        for i, p in submit_df[[ID_COL, \"pred\"]].itertuples(index=False):\n",
    "            f.write(f\"{i} {p}\\n\")\n",
    "else:\n",
    "    submit_df.to_csv(os.path.join(OUT_DIR, sub_name), header=False, index=False, sep=sep)\n",
    "\n",
    "print(\"Saved:\", os.path.join(OUT_DIR, sub_name))\n",
    "\n",
    "# ---- ログ ----\n",
    "def safe(x): \n",
    "    return float(x) if isinstance(x, (np.floating, np.float64, np.float32)) else x\n",
    "\n",
    "oof_f1_global_best, _ = eval_oof_f1(oof, y_train)\n",
    "oof_f1_at_submit = f1_score(y_train, (oof >= threshold_for_submit).astype(int))\n",
    "\n",
    "log_lines = [\n",
    "    f\"version: {n}\",\n",
    "    f\"seed: {SEED}\",\n",
    "    f\"n_splits: {skf_full.n_splits if 'skf_full' in locals() else N_SPLITS}\",\n",
    "    f\"target_col: {TARGET_COL}\",\n",
    "    f\"id_col: {ID_COL}\",\n",
    "    f\"n_features: {len(features)}\",\n",
    "    f\"n_categoricals: {len(cat_cols)}\",\n",
    "    f\"train_shape: {train.shape}\",\n",
    "    f\"test_shape: {test.shape}\",\n",
    "    f\"target_pos_ratio: {train[TARGET_COL].mean():.6f}\",\n",
    "    \"\",\n",
    "    f\"best_oof_f1_from_study: {locals().get('best_score', float('nan')):.6f}\",\n",
    "    f\"oof_f1_global_best: {oof_f1_global_best:.6f}\",\n",
    "    f\"oof_f1_at_submit_th: {oof_f1_at_submit:.6f}\",\n",
    "    f\"threshold_source: {threshold_source}\",\n",
    "    f\"submit_threshold: {float(threshold_for_submit):.6f}\",\n",
    "    f\"fold_f1s: {[round(safe(x), 6) for x in fold_f1s]}\",\n",
    "    \"\",\n",
    "    # アンサンブル情報（存在する場合のみ）\n",
    "    f\"oof_f1_cb: {locals().get('f1_cb', float('nan')):.6f}\",\n",
    "    f\"oof_f1_lgb: {locals().get('f1_lgb', float('nan')):.6f}\",\n",
    "    f\"ensemble_w_cb: {locals().get('best_w', float('nan'))}\",\n",
    "    \"\",\n",
    "    \"best_params_cb:\",\n",
    "    json.dumps(locals().get('best_params', {}), indent=2),\n",
    "    \"params_lgb:\",\n",
    "    json.dumps(locals().get('params_lgb', {}), indent=2),\n",
    "    \"\",\n",
    "]\n",
    "for title, f1v, cm, rep in fold_reports:\n",
    "    log_lines += [title, f\"F1@submit_th: {f1v:.6f}\", \"confusion_matrix:\", str(cm), \"report:\", rep, \"-\"*40]\n",
    "\n",
    "with open(os.path.join(OUT_DIR, log_name), \"w\", encoding=\"utf-8\") as f:\n",
    "    f.write(\"\\n\".join([str(x) for x in log_lines]))\n",
    "\n",
    "print(\"Saved:\", os.path.join(OUT_DIR, log_name))\n"
   ]
  }
 ],
 "metadata": {
  "kernelspec": {
   "display_name": "ds-env",
   "language": "python",
   "name": "python3"
  },
  "language_info": {
   "codemirror_mode": {
    "name": "ipython",
    "version": 3
   },
   "file_extension": ".py",
   "mimetype": "text/x-python",
   "name": "python",
   "nbconvert_exporter": "python",
   "pygments_lexer": "ipython3",
   "version": "3.9.23"
  }
 },
 "nbformat": 4,
 "nbformat_minor": 5
}
